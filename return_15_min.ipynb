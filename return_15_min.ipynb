{
 "cells": [
  {
   "cell_type": "markdown",
   "metadata": {},
   "source": [
    "# Model Training"
   ]
  },
  {
   "cell_type": "code",
   "execution_count": 2,
   "metadata": {},
   "outputs": [],
   "source": [
    "from __future__ import print_function\n",
    "from __future__ import division\n",
    "\n",
    "import pickle\n",
    "import pandas as pd \n",
    "import numpy as np\n",
    "from sklearn.linear_model import Ridge\n",
    "\n",
    "from src.data_reader import Dataset\n",
    "from src.model import Model\n",
    "from src.utils import get_leaf_file_names"
   ]
  },
  {
   "cell_type": "markdown",
   "metadata": {},
   "source": [
    "# Configurations"
   ]
  },
  {
   "cell_type": "code",
   "execution_count": 3,
   "metadata": {},
   "outputs": [],
   "source": [
    "# Global config\n",
    "_RAW_DATA_PATH = './data/rawdata'\n",
    "_DATA_PATH = './data/date_data'\n",
    "_OUTPUT_DIR = './output/'\n",
    "\n",
    "# Data configuration\n",
    "_TIME_FRAME_SIZE_Y = (1, 5, 15, 30)\n",
    "_TIME_FRAME_SIZE_X = (1, 5, 15)\n",
    "_X_1 = [\n",
    "    'avg_delta_bid_size_1', 'avg_delta_bid_size_5', 'avg_delta_bid_size_15',\n",
    "    'avg_delta_ask_size_1', 'avg_delta_ask_size_5', 'avg_delta_ask_size_15',\n",
    "    'bid_size_proportion_1', 'bid_size_proportion_5', 'bid_size_proportion_15'\n",
    "]\n",
    "_X_2 = [\n",
    "    'buy_volume_1', 'buy_volume_5', 'buy_volume_15', 'sell_volume_1', 'sell_volume_5',\n",
    "    'sell_volume_15', 'proportion_volume_1', 'proportion_volume_5', 'proportion_volume_15'\n",
    "]\n",
    "_X_3 = [\n",
    "    'lag_return_1', 'lag_return_5', 'lag_return_15'\n",
    "]\n",
    "\n",
    "_Y_1, _Y_2, _Y_3, _Y_4 = ['return_1_min', 'return_5_min', 'return_15_min', 'return_30_min']\n",
    "\n",
    "_COLUMNS_TO_NORMALIZE = [\n",
    "    'avg_delta_bid_size_1', 'avg_delta_bid_size_5', 'avg_delta_bid_size_15',\n",
    "    'avg_delta_ask_size_1', 'avg_delta_ask_size_5', 'avg_delta_ask_size_15',\n",
    "    'buy_volume_1', 'buy_volume_5', 'buy_volume_15', 'sell_volume_1', 'sell_volume_5', 'sell_volume_15'\n",
    "]"
   ]
  },
  {
   "cell_type": "markdown",
   "metadata": {},
   "source": [
    "## Data and model config"
   ]
  },
  {
   "cell_type": "code",
   "execution_count": 4,
   "metadata": {},
   "outputs": [],
   "source": [
    "# Training configuration\n",
    "_TEST_SET_SIZE = 2\n",
    "_SLIDING_WINDOW_SIZE = 15\n",
    "_CHUNK_SIZE = 3901 * 2\n",
    "_MODEL_RIDGE = Ridge\n",
    "_PARAMS_RIDGE = {\n",
    "    'alpha': 1,\n",
    "    'random_state': 100\n",
    "}"
   ]
  },
  {
   "cell_type": "markdown",
   "metadata": {},
   "source": [
    "## Prepare training set"
   ]
  },
  {
   "cell_type": "code",
   "execution_count": 5,
   "metadata": {},
   "outputs": [
    {
     "name": "stdout",
     "output_type": "stream",
     "text": [
      "['./data/date_data/20180806.pkl', './data/date_data/20180807.pkl', './data/date_data/20180808.pkl', './data/date_data/20180809.pkl', './data/date_data/20180810.pkl', './data/date_data/20180813.pkl', './data/date_data/20180814.pkl', './data/date_data/20180815.pkl', './data/date_data/20180816.pkl', './data/date_data/20180817.pkl', './data/date_data/20180820.pkl', './data/date_data/20180821.pkl', './data/date_data/20180822.pkl', './data/date_data/20180823.pkl', './data/date_data/20180824.pkl', './data/date_data/20180827.pkl', './data/date_data/20180828.pkl', './data/date_data/20180829.pkl']\n"
     ]
    }
   ],
   "source": [
    "# Prepare dataset\n",
    "date_files = get_leaf_file_names(_DATA_PATH)\n",
    "data_train = date_files[-_TEST_SET_SIZE - 18: -_TEST_SET_SIZE]\n",
    "print(data_train)"
   ]
  },
  {
   "cell_type": "markdown",
   "metadata": {},
   "source": [
    "## Prepare test set"
   ]
  },
  {
   "cell_type": "code",
   "execution_count": 6,
   "metadata": {},
   "outputs": [
    {
     "name": "stdout",
     "output_type": "stream",
     "text": [
      "['./data/date_data/20180830.pkl', './data/date_data/20180831.pkl']\n"
     ]
    }
   ],
   "source": [
    "data_test = date_files[-_TEST_SET_SIZE:]\n",
    "print(data_test)"
   ]
  },
  {
   "cell_type": "markdown",
   "metadata": {},
   "source": [
    "## Train model with all regressors"
   ]
  },
  {
   "cell_type": "code",
   "execution_count": 7,
   "metadata": {},
   "outputs": [
    {
     "name": "stdout",
     "output_type": "stream",
     "text": [
      "Reading file ['./data/date_data/20180806.pkl', './data/date_data/20180807.pkl', './data/date_data/20180808.pkl', './data/date_data/20180809.pkl', './data/date_data/20180810.pkl', './data/date_data/20180813.pkl', './data/date_data/20180814.pkl', './data/date_data/20180815.pkl', './data/date_data/20180816.pkl', './data/date_data/20180817.pkl', './data/date_data/20180820.pkl', './data/date_data/20180821.pkl', './data/date_data/20180822.pkl', './data/date_data/20180823.pkl', './data/date_data/20180824.pkl']\n",
      "Reading file ./data/date_data/20180827.pkl\n",
      "------------------------------------------------------------\n",
      "Training phrase 1...\n",
      "Training on ['20180806.pkl', '20180807.pkl', '20180808.pkl', '20180809.pkl', '20180810.pkl', '20180813.pkl', '20180814.pkl', '20180815.pkl', '20180816.pkl', '20180817.pkl', '20180820.pkl', '20180821.pkl', '20180822.pkl', '20180823.pkl', '20180824.pkl']\n",
      "Validating on 20180827.pkl\n",
      "Corrcoef on training set: 0.13771960882386655\n",
      "Corrcoef on validation set: 0.12790120600679972\n",
      "[12.998661009921166, 6.543725183333395, 7.687254708610116, -15.745526102871834, -12.08638689040252, -8.430475372559862, 104.60554800208432, -46.284445073953044, -25.392949587015874, -38.71453836051346, -5.034172047652198, 37.19144451371075, 77.24219762662561, 32.971615071983486, -66.38283657659665, 113.10555160164287, 77.77141122001169, -10.919798017244624, -156.23652439535763, -60.96974789838401, 26.375362362077013]\n",
      "{   'R_square': -0.04907168383596816,\n",
      "    'stats':                    Feature      Coef     T-value\n",
      "0     avg_delta_bid_size_1  0.000066   12.998661\n",
      "1     avg_delta_bid_size_5  0.000034    6.543725\n",
      "2    avg_delta_bid_size_15  0.000037    7.687255\n",
      "3     avg_delta_ask_size_1 -0.000073  -15.745526\n",
      "4     avg_delta_ask_size_5 -0.000060  -12.086387\n",
      "5    avg_delta_ask_size_15 -0.000042   -8.430475\n",
      "6    bid_size_proportion_1  0.002089  104.605548\n",
      "7    bid_size_proportion_5 -0.000963  -46.284445\n",
      "8   bid_size_proportion_15 -0.000560  -25.392950\n",
      "9             buy_volume_1 -0.000332  -38.714538\n",
      "10            buy_volume_5 -0.000041   -5.034172\n",
      "11           buy_volume_15  0.000296   37.191445\n",
      "12           sell_volume_1  0.000668   77.242198\n",
      "13           sell_volume_5  0.000282   32.971615\n",
      "14          sell_volume_15 -0.000553  -66.382837\n",
      "15     proportion_volume_1  0.002845  113.105552\n",
      "16     proportion_volume_5  0.002712   77.771411\n",
      "17    proportion_volume_15 -0.000462  -10.919798\n",
      "18            lag_return_1 -0.278062 -156.236524\n",
      "19            lag_return_5 -0.064684  -60.969748\n",
      "20           lag_return_15  0.014837   26.375362}\n",
      "------------------------------------------------------------\n",
      "\n",
      "Reading file ./data/date_data/20180828.pkl\n",
      "------------------------------------------------------------\n",
      "Training phrase 2...\n",
      "Training on ['20180807.pkl', '20180808.pkl', '20180809.pkl', '20180810.pkl', '20180813.pkl', '20180814.pkl', '20180815.pkl', '20180816.pkl', '20180817.pkl', '20180820.pkl', '20180821.pkl', '20180822.pkl', '20180823.pkl', '20180824.pkl', '20180827.pkl']\n",
      "Validating on 20180828.pkl\n",
      "Corrcoef on training set: 0.1270719601002486\n",
      "Corrcoef on validation set: 0.14622511528329418\n",
      "[15.044866107419397, 5.249766035801203, 9.402058941519277, -16.64390731829731, -14.25110131208247, -21.026120155386486, 104.90248778645352, -61.37950200246534, -79.9076822366107, -41.99437177039168, 1.125617771970983, 33.14224878682308, 87.45764135913683, 33.37310944918098, -99.54469030428741, 98.97217742981142, 56.47771021887568, -99.8102518624065, -161.21848400446896, -61.44733783471696, 40.35389149319222]\n",
      "{   'R_square': 0.00865369799864002,\n",
      "    'stats':                    Feature      Coef     T-value\n",
      "0     avg_delta_bid_size_1  0.000057   15.044866\n",
      "1     avg_delta_bid_size_5  0.000019    5.249766\n",
      "2    avg_delta_bid_size_15  0.000036    9.402059\n",
      "3     avg_delta_ask_size_1 -0.000065  -16.643907\n",
      "4     avg_delta_ask_size_5 -0.000050  -14.251101\n",
      "5    avg_delta_ask_size_15 -0.000075  -21.026120\n",
      "6    bid_size_proportion_1  0.001826  104.902488\n",
      "7    bid_size_proportion_5 -0.001105  -61.379502\n",
      "8   bid_size_proportion_15 -0.001513  -79.907682\n",
      "9             buy_volume_1 -0.000246  -41.994372\n",
      "10            buy_volume_5  0.000006    1.125618\n",
      "11           buy_volume_15  0.000185   33.142249\n",
      "12           sell_volume_1  0.000617   87.457641\n",
      "13           sell_volume_5  0.000233   33.373109\n",
      "14          sell_volume_15 -0.000702  -99.544690\n",
      "15     proportion_volume_1  0.002551   98.972177\n",
      "16     proportion_volume_5  0.002041   56.477710\n",
      "17    proportion_volume_15 -0.004264  -99.810252\n",
      "18            lag_return_1 -0.279078 -161.218484\n",
      "19            lag_return_5 -0.064946  -61.447338\n",
      "20           lag_return_15  0.024567   40.353891}\n",
      "------------------------------------------------------------\n",
      "\n",
      "Reading file ./data/date_data/20180829.pkl\n",
      "------------------------------------------------------------\n",
      "Training phrase 3...\n",
      "Training on ['20180808.pkl', '20180809.pkl', '20180810.pkl', '20180813.pkl', '20180814.pkl', '20180815.pkl', '20180816.pkl', '20180817.pkl', '20180820.pkl', '20180821.pkl', '20180822.pkl', '20180823.pkl', '20180824.pkl', '20180827.pkl', '20180828.pkl']\n",
      "Validating on 20180829.pkl\n",
      "Corrcoef on training set: 0.12952093886607877\n",
      "Corrcoef on validation set: 0.1690111580427118\n",
      "[13.518859810796085, 3.432996893765404, 11.955089167468289, -14.436397965486046, -13.99286853850371, -13.813991589655776, 108.41238461308927, -59.21966793339306, -74.74211440259124, -26.446287484184694, 3.7324480597516216, 22.211038095725442, 89.7027545886823, 40.219539682810144, -105.73108062781607, 96.35353591401397, 57.56495166144561, -98.91947175488576, -159.14517983641846, -66.45734696446881, 25.405348940725652]\n",
      "{   'R_square': 0.021788882107829033,\n",
      "    'stats':                    Feature      Coef     T-value\n",
      "0     avg_delta_bid_size_1  0.000051   13.518860\n",
      "1     avg_delta_bid_size_5  0.000013    3.432997\n",
      "2    avg_delta_bid_size_15  0.000044   11.955089\n",
      "3     avg_delta_ask_size_1 -0.000059  -14.436398\n",
      "4     avg_delta_ask_size_5 -0.000058  -13.992869\n",
      "5    avg_delta_ask_size_15 -0.000057  -13.813992\n",
      "6    bid_size_proportion_1  0.001780  108.412385\n",
      "7    bid_size_proportion_5 -0.000998  -59.219668\n",
      "8   bid_size_proportion_15 -0.001308  -74.742114\n",
      "9             buy_volume_1 -0.000199  -26.446287\n",
      "10            buy_volume_5  0.000028    3.732448\n",
      "11           buy_volume_15  0.000164   22.211038\n",
      "12           sell_volume_1  0.000596   89.702755\n",
      "13           sell_volume_5  0.000268   40.219540\n",
      "14          sell_volume_15 -0.000721 -105.731081\n",
      "15     proportion_volume_1  0.002553   96.353536\n",
      "16     proportion_volume_5  0.002071   57.564952\n",
      "17    proportion_volume_15 -0.004146  -98.919472\n",
      "18            lag_return_1 -0.277815 -159.145180\n",
      "19            lag_return_5 -0.071653  -66.457347\n",
      "20           lag_return_15  0.017175   25.405349}\n",
      "------------------------------------------------------------\n",
      "\n"
     ]
    }
   ],
   "source": [
    "# Train model with different parameters\n",
    "model = Model(\n",
    "    X=_X_1+_X_2+_X_3, y=_Y_3, model=_MODEL_RIDGE, params=_PARAMS_RIDGE, output_model_name = './output/models/models_y3_all_x',\n",
    "    data_files=data_train, columns_to_normalize=_COLUMNS_TO_NORMALIZE,\n",
    "    window_size=_SLIDING_WINDOW_SIZE, days_as_window=True\n",
    ")\n",
    "stats, corrcoef = model.run()"
   ]
  },
  {
   "cell_type": "markdown",
   "metadata": {},
   "source": [
    "## Validate model on test set"
   ]
  },
  {
   "cell_type": "code",
   "execution_count": null,
   "metadata": {},
   "outputs": [],
   "source": [
    "with open(_OUTPUT_DIR + 'models/model_y3_all_x.pickle', 'rb') as file:\n",
    "    model_y1_all_x = pickle.load(file)"
   ]
  },
  {
   "cell_type": "code",
   "execution_count": 8,
   "metadata": {},
   "outputs": [
    {
     "name": "stdout",
     "output_type": "stream",
     "text": [
      "Reading file ./data/date_data/20180830.pkl\n",
      "[13.130988032634354, 3.2935284569871803, 10.935878372655461, -13.378162860632049, -12.278785513727165, -10.881125911736769, 111.20145973563223, -60.794701454444514, -76.89740414993065, -23.186273065765814, 3.340156736951543, 19.25215498913293, 100.7998156466865, 46.86932209275052, -128.96426138254688, 97.32343762760412, 58.09766217594275, -99.63669698826757, -160.8598695988443, -66.73083410723055, 29.222911863179505]\n",
      "{   'R_square': -0.00889833733613643,\n",
      "    'stats':                    Feature      Coef     T-value\n",
      "0     avg_delta_bid_size_1  0.000051   13.130988\n",
      "1     avg_delta_bid_size_5  0.000013    3.293528\n",
      "2    avg_delta_bid_size_15  0.000044   10.935878\n",
      "3     avg_delta_ask_size_1 -0.000059  -13.378163\n",
      "4     avg_delta_ask_size_5 -0.000058  -12.278786\n",
      "5    avg_delta_ask_size_15 -0.000057  -10.881126\n",
      "6    bid_size_proportion_1  0.001780  111.201460\n",
      "7    bid_size_proportion_5 -0.000998  -60.794701\n",
      "8   bid_size_proportion_15 -0.001308  -76.897404\n",
      "9             buy_volume_1 -0.000199  -23.186273\n",
      "10            buy_volume_5  0.000028    3.340157\n",
      "11           buy_volume_15  0.000164   19.252155\n",
      "12           sell_volume_1  0.000596  100.799816\n",
      "13           sell_volume_5  0.000268   46.869322\n",
      "14          sell_volume_15 -0.000721 -128.964261\n",
      "15     proportion_volume_1  0.002553   97.323438\n",
      "16     proportion_volume_5  0.002071   58.097662\n",
      "17    proportion_volume_15 -0.004146  -99.636697\n",
      "18            lag_return_1 -0.277815 -160.859870\n",
      "19            lag_return_5 -0.071653  -66.730834\n",
      "20           lag_return_15  0.017175   29.222912}\n",
      "Reading file ./data/date_data/20180831.pkl\n",
      "[11.754960002315944, 3.064559876936148, 10.957045252533739, -13.008797353108037, -13.56043135516154, -12.542326539192883, 91.25707989342112, -49.544224855942865, -62.03931583700859, -23.24359446255981, 3.3828515157938375, 20.56888885307, 74.47668483792147, 33.71023181409723, -91.16322318325102, 82.68180196744119, 48.231376892254985, -81.02682118739804, -150.09862693666585, -64.0983993768889, 37.30703973731381]\n",
      "{   'R_square': 0.019902181653040807,\n",
      "    'stats':                    Feature      Coef     T-value\n",
      "0     avg_delta_bid_size_1  0.000051   11.754960\n",
      "1     avg_delta_bid_size_5  0.000013    3.064560\n",
      "2    avg_delta_bid_size_15  0.000044   10.957045\n",
      "3     avg_delta_ask_size_1 -0.000059  -13.008797\n",
      "4     avg_delta_ask_size_5 -0.000058  -13.560431\n",
      "5    avg_delta_ask_size_15 -0.000057  -12.542327\n",
      "6    bid_size_proportion_1  0.001780   91.257080\n",
      "7    bid_size_proportion_5 -0.000998  -49.544225\n",
      "8   bid_size_proportion_15 -0.001308  -62.039316\n",
      "9             buy_volume_1 -0.000199  -23.243594\n",
      "10            buy_volume_5  0.000028    3.382852\n",
      "11           buy_volume_15  0.000164   20.568889\n",
      "12           sell_volume_1  0.000596   74.476685\n",
      "13           sell_volume_5  0.000268   33.710232\n",
      "14          sell_volume_15 -0.000721  -91.163223\n",
      "15     proportion_volume_1  0.002553   82.681802\n",
      "16     proportion_volume_5  0.002071   48.231377\n",
      "17    proportion_volume_15 -0.004146  -81.026821\n",
      "18            lag_return_1 -0.277815 -150.098627\n",
      "19            lag_return_5 -0.071653  -64.098399\n",
      "20           lag_return_15  0.017175   37.307040}\n"
     ]
    }
   ],
   "source": [
    "result = model.test(data_test)"
   ]
  },
  {
   "cell_type": "markdown",
   "metadata": {},
   "source": [
    "## Train model with x1 (average of delta of bid/ask size)"
   ]
  },
  {
   "cell_type": "code",
   "execution_count": 9,
   "metadata": {},
   "outputs": [
    {
     "name": "stdout",
     "output_type": "stream",
     "text": [
      "Reading file ['./data/date_data/20180806.pkl', './data/date_data/20180807.pkl', './data/date_data/20180808.pkl', './data/date_data/20180809.pkl', './data/date_data/20180810.pkl', './data/date_data/20180813.pkl', './data/date_data/20180814.pkl', './data/date_data/20180815.pkl', './data/date_data/20180816.pkl', './data/date_data/20180817.pkl', './data/date_data/20180820.pkl', './data/date_data/20180821.pkl', './data/date_data/20180822.pkl', './data/date_data/20180823.pkl', './data/date_data/20180824.pkl']\n",
      "Reading file ./data/date_data/20180827.pkl\n",
      "------------------------------------------------------------\n",
      "Training phrase 1...\n",
      "Training on ['20180806.pkl', '20180807.pkl', '20180808.pkl', '20180809.pkl', '20180810.pkl', '20180813.pkl', '20180814.pkl', '20180815.pkl', '20180816.pkl', '20180817.pkl', '20180820.pkl', '20180821.pkl', '20180822.pkl', '20180823.pkl', '20180824.pkl']\n",
      "Validating on 20180827.pkl\n",
      "Corrcoef on training set: 0.041060476754640585\n",
      "Corrcoef on validation set: 0.061590925460429526\n",
      "[19.470208292585884, 6.551038187860646, 12.643868420786031, -28.712449931033262, -12.50924773576412, -6.207890448224552, 98.16307188268328, -75.95812584527552, -15.34535962461061]\n",
      "{   'R_square': -0.052564904349978736,\n",
      "    'stats':                   Feature      Coef    T-value\n",
      "0    avg_delta_bid_size_1  0.000099  19.470208\n",
      "1    avg_delta_bid_size_5  0.000034   6.551038\n",
      "2   avg_delta_bid_size_15  0.000061  12.643868\n",
      "3    avg_delta_ask_size_1 -0.000134 -28.712450\n",
      "4    avg_delta_ask_size_5 -0.000062 -12.509248\n",
      "5   avg_delta_ask_size_15 -0.000031  -6.207890\n",
      "6   bid_size_proportion_1  0.001964  98.163072\n",
      "7   bid_size_proportion_5 -0.001583 -75.958126\n",
      "8  bid_size_proportion_15 -0.000339 -15.345360}\n",
      "------------------------------------------------------------\n",
      "\n",
      "Reading file ./data/date_data/20180828.pkl\n",
      "------------------------------------------------------------\n",
      "Training phrase 2...\n",
      "Training on ['20180807.pkl', '20180808.pkl', '20180809.pkl', '20180810.pkl', '20180813.pkl', '20180814.pkl', '20180815.pkl', '20180816.pkl', '20180817.pkl', '20180820.pkl', '20180821.pkl', '20180822.pkl', '20180823.pkl', '20180824.pkl', '20180827.pkl']\n",
      "Validating on 20180828.pkl\n",
      "Corrcoef on training set: 0.049042224502696144\n",
      "Corrcoef on validation set: 0.040594231280791655\n",
      "[24.440972576558615, 5.904925597986233, 11.508948082394985, -32.44234935842902, -16.410585731492745, -17.855623895698738, 107.15418847333842, -90.46342992788811, -46.160851867623144]\n",
      "{   'R_square': -0.012439196592153756,\n",
      "    'stats':                   Feature      Coef     T-value\n",
      "0    avg_delta_bid_size_1  0.000093   24.440973\n",
      "1    avg_delta_bid_size_5  0.000021    5.904926\n",
      "2   avg_delta_bid_size_15  0.000044   11.508948\n",
      "3    avg_delta_ask_size_1 -0.000128  -32.442349\n",
      "4    avg_delta_ask_size_5 -0.000058  -16.410586\n",
      "5   avg_delta_ask_size_15 -0.000065  -17.855624\n",
      "6   bid_size_proportion_1  0.001884  107.154188\n",
      "7   bid_size_proportion_5 -0.001647  -90.463430\n",
      "8  bid_size_proportion_15 -0.000883  -46.160852}\n",
      "------------------------------------------------------------\n",
      "\n",
      "Reading file ./data/date_data/20180829.pkl\n",
      "------------------------------------------------------------\n",
      "Training phrase 3...\n",
      "Training on ['20180808.pkl', '20180809.pkl', '20180810.pkl', '20180813.pkl', '20180814.pkl', '20180815.pkl', '20180816.pkl', '20180817.pkl', '20180820.pkl', '20180821.pkl', '20180822.pkl', '20180823.pkl', '20180824.pkl', '20180827.pkl', '20180828.pkl']\n",
      "Validating on 20180829.pkl\n",
      "Corrcoef on training set: 0.04334814683893233\n",
      "Corrcoef on validation set: 0.06340997856595795\n",
      "[23.51522598392443, 4.198652851332796, 13.600704142968523, -30.04404620041548, -16.91110491338916, -9.639546056628411, 120.90668302868171, -93.34109443881398, -36.89665393866532]\n",
      "{   'R_square': -0.0011699438868080225,\n",
      "    'stats':                   Feature      Coef     T-value\n",
      "0    avg_delta_bid_size_1  0.000089   23.515226\n",
      "1    avg_delta_bid_size_5  0.000016    4.198653\n",
      "2   avg_delta_bid_size_15  0.000050   13.600704\n",
      "3    avg_delta_ask_size_1 -0.000124  -30.044046\n",
      "4    avg_delta_ask_size_5 -0.000071  -16.911105\n",
      "5   avg_delta_ask_size_15 -0.000040   -9.639546\n",
      "6   bid_size_proportion_1  0.002008  120.906683\n",
      "7   bid_size_proportion_5 -0.001592  -93.341094\n",
      "8  bid_size_proportion_15 -0.000653  -36.896654}\n",
      "------------------------------------------------------------\n",
      "\n"
     ]
    }
   ],
   "source": [
    "model = Model(\n",
    "    X=_X_1, y=_Y_3, model=_MODEL_RIDGE, params=_PARAMS_RIDGE, output_model_name = './output/models/models_y3_x1',\n",
    "    data_files=data_train, columns_to_normalize=_COLUMNS_TO_NORMALIZE,\n",
    "    window_size=_SLIDING_WINDOW_SIZE, days_as_window=True\n",
    ")\n",
    "stats, corrcoef = model.run()"
   ]
  },
  {
   "cell_type": "markdown",
   "metadata": {},
   "source": [
    "## Validate model on test set"
   ]
  },
  {
   "cell_type": "code",
   "execution_count": null,
   "metadata": {},
   "outputs": [],
   "source": [
    "with open(_OUTPUT_DIR + 'models/model_y3_x1.pickle', 'rb') as file:\n",
    "    model_x1_y1 = pickle.load(file)"
   ]
  },
  {
   "cell_type": "code",
   "execution_count": 10,
   "metadata": {},
   "outputs": [
    {
     "name": "stdout",
     "output_type": "stream",
     "text": [
      "Reading file ./data/date_data/20180830.pkl\n",
      "[22.813005734052954, 4.023221929643897, 12.42619764797382, -27.808147985186856, -14.821653456710967, -7.5838064930661, 123.867653277201, -95.7080929985346, -37.91484585171789]\n",
      "{   'R_square': -0.035072073211620314,\n",
      "    'stats':                   Feature      Coef     T-value\n",
      "0    avg_delta_bid_size_1  0.000089   22.813006\n",
      "1    avg_delta_bid_size_5  0.000016    4.023222\n",
      "2   avg_delta_bid_size_15  0.000050   12.426198\n",
      "3    avg_delta_ask_size_1 -0.000124  -27.808148\n",
      "4    avg_delta_ask_size_5 -0.000071  -14.821653\n",
      "5   avg_delta_ask_size_15 -0.000040   -7.583806\n",
      "6   bid_size_proportion_1  0.002008  123.867653\n",
      "7   bid_size_proportion_5 -0.001592  -95.708093\n",
      "8  bid_size_proportion_15 -0.000653  -37.914846}\n",
      "Reading file ./data/date_data/20180831.pkl\n",
      "[20.481412449661327, 3.7543462573254525, 12.486240178029453, -27.118544678547444, -16.416039553054482, -8.766881862086349, 101.94539968302894, -78.22212580634641, -30.67737947686876]\n",
      "{   'R_square': 0.00026402482365728286,\n",
      "    'stats':                   Feature      Coef     T-value\n",
      "0    avg_delta_bid_size_1  0.000089   20.481412\n",
      "1    avg_delta_bid_size_5  0.000016    3.754346\n",
      "2   avg_delta_bid_size_15  0.000050   12.486240\n",
      "3    avg_delta_ask_size_1 -0.000124  -27.118545\n",
      "4    avg_delta_ask_size_5 -0.000071  -16.416040\n",
      "5   avg_delta_ask_size_15 -0.000040   -8.766882\n",
      "6   bid_size_proportion_1  0.002008  101.945400\n",
      "7   bid_size_proportion_5 -0.001592  -78.222126\n",
      "8  bid_size_proportion_15 -0.000653  -30.677379}\n"
     ]
    }
   ],
   "source": [
    "result = model.test(data_test)"
   ]
  },
  {
   "cell_type": "markdown",
   "metadata": {},
   "source": [
    "## Train model with x2 (volume initiated by buy/sell)"
   ]
  },
  {
   "cell_type": "code",
   "execution_count": 11,
   "metadata": {},
   "outputs": [
    {
     "name": "stdout",
     "output_type": "stream",
     "text": [
      "Reading file ['./data/date_data/20180806.pkl', './data/date_data/20180807.pkl', './data/date_data/20180808.pkl', './data/date_data/20180809.pkl', './data/date_data/20180810.pkl', './data/date_data/20180813.pkl', './data/date_data/20180814.pkl', './data/date_data/20180815.pkl', './data/date_data/20180816.pkl', './data/date_data/20180817.pkl', './data/date_data/20180820.pkl', './data/date_data/20180821.pkl', './data/date_data/20180822.pkl', './data/date_data/20180823.pkl', './data/date_data/20180824.pkl']\n",
      "Reading file ./data/date_data/20180827.pkl\n",
      "------------------------------------------------------------\n",
      "Training phrase 1...\n",
      "Training on ['20180806.pkl', '20180807.pkl', '20180808.pkl', '20180809.pkl', '20180810.pkl', '20180813.pkl', '20180814.pkl', '20180815.pkl', '20180816.pkl', '20180817.pkl', '20180820.pkl', '20180821.pkl', '20180822.pkl', '20180823.pkl', '20180824.pkl']\n",
      "Validating on 20180827.pkl\n",
      "Corrcoef on training set: 0.06273694783231523\n",
      "Corrcoef on validation set: -0.0077318931304296385\n",
      "[-48.97794173875842, 17.44805578274794, 19.376028257840794, 99.25498725509733, -11.83630092733855, -48.63954131122288, 37.99330331890991, 44.00545068374208, 37.06170263300848]\n",
      "{   'R_square': -0.06661905761614162,\n",
      "    'stats':                 Feature      Coef    T-value\n",
      "0          buy_volume_1 -0.000423 -48.977942\n",
      "1          buy_volume_5  0.000143  17.448056\n",
      "2         buy_volume_15  0.000156  19.376028\n",
      "3         sell_volume_1  0.000866  99.254987\n",
      "4         sell_volume_5 -0.000102 -11.836301\n",
      "5        sell_volume_15 -0.000409 -48.639541\n",
      "6   proportion_volume_1  0.000964  37.993303\n",
      "7   proportion_volume_5  0.001547  44.005451\n",
      "8  proportion_volume_15  0.001582  37.061703}\n",
      "------------------------------------------------------------\n",
      "\n",
      "Reading file ./data/date_data/20180828.pkl\n",
      "------------------------------------------------------------\n",
      "Training phrase 2...\n",
      "Training on ['20180807.pkl', '20180808.pkl', '20180809.pkl', '20180810.pkl', '20180813.pkl', '20180814.pkl', '20180815.pkl', '20180816.pkl', '20180817.pkl', '20180820.pkl', '20180821.pkl', '20180822.pkl', '20180823.pkl', '20180824.pkl', '20180827.pkl']\n",
      "Validating on 20180828.pkl\n",
      "Corrcoef on training set: 0.025662039961888605\n",
      "Corrcoef on validation set: 0.0401857394680883\n",
      "[-56.579576212847215, 33.70884999616808, 33.01114974727214, 110.783360839147, -23.472349152251343, -80.13874899459543, 26.0241210120608, 23.64132189595496, -42.04635028249148]\n",
      "{   'R_square': -0.012811098707275814,\n",
      "    'stats':                 Feature      Coef     T-value\n",
      "0          buy_volume_1 -0.000335  -56.579576\n",
      "1          buy_volume_5  0.000193   33.708850\n",
      "2         buy_volume_15  0.000186   33.011150\n",
      "3         sell_volume_1  0.000789  110.783361\n",
      "4         sell_volume_5 -0.000166  -23.472349\n",
      "5        sell_volume_15 -0.000571  -80.138749\n",
      "6   proportion_volume_1  0.000678   26.024121\n",
      "7   proportion_volume_5  0.000864   23.641322\n",
      "8  proportion_volume_15 -0.001816  -42.046350}\n",
      "------------------------------------------------------------\n",
      "\n",
      "Reading file ./data/date_data/20180829.pkl\n",
      "------------------------------------------------------------\n",
      "Training phrase 3...\n",
      "Training on ['20180808.pkl', '20180809.pkl', '20180810.pkl', '20180813.pkl', '20180814.pkl', '20180815.pkl', '20180816.pkl', '20180817.pkl', '20180820.pkl', '20180821.pkl', '20180822.pkl', '20180823.pkl', '20180824.pkl', '20180827.pkl', '20180828.pkl']\n",
      "Validating on 20180829.pkl\n",
      "Corrcoef on training set: 0.0251777923404943\n",
      "Corrcoef on validation set: 0.04365697442027384\n",
      "[-41.38055306073129, 29.552492336836085, 17.977810688358293, 117.13894209172244, -17.419790377441462, -86.61256241276597, 27.281811142021443, 20.5724024324832, -35.11791892425086]\n",
      "{   'R_square': -0.0038064854046795382,\n",
      "    'stats':                 Feature      Coef     T-value\n",
      "0          buy_volume_1 -0.000315  -41.380553\n",
      "1          buy_volume_5  0.000225   29.552492\n",
      "2         buy_volume_15  0.000135   17.977811\n",
      "3         sell_volume_1  0.000789  117.138942\n",
      "4         sell_volume_5 -0.000117  -17.419790\n",
      "5        sell_volume_15 -0.000598  -86.612562\n",
      "6   proportion_volume_1  0.000732   27.281811\n",
      "7   proportion_volume_5  0.000750   20.572402\n",
      "8  proportion_volume_15 -0.001491  -35.117919}\n",
      "------------------------------------------------------------\n",
      "\n"
     ]
    }
   ],
   "source": [
    "model = Model(\n",
    "    X=_X_2, y=_Y_3, model=_MODEL_RIDGE, params=_PARAMS_RIDGE, output_model_name = './output/models/models_y3_x2',\n",
    "    data_files=data_train, columns_to_normalize=_COLUMNS_TO_NORMALIZE,\n",
    "    window_size=_SLIDING_WINDOW_SIZE, days_as_window=True\n",
    ")\n",
    "stats, corrcoef = model.run()"
   ]
  },
  {
   "cell_type": "markdown",
   "metadata": {},
   "source": [
    "## Validate model on test set"
   ]
  },
  {
   "cell_type": "code",
   "execution_count": null,
   "metadata": {},
   "outputs": [],
   "source": [
    "with open(_OUTPUT_DIR + 'model_x2_y1.pickle', 'rb') as file:\n",
    "    model_x2_y1 = pickle.load(file)"
   ]
  },
  {
   "cell_type": "code",
   "execution_count": 12,
   "metadata": {},
   "outputs": [
    {
     "name": "stdout",
     "output_type": "stream",
     "text": [
      "Reading file ./data/date_data/20180830.pkl\n",
      "[-36.26484229853772, 26.43567827820745, 15.576524622135473, 131.57655961749586, -20.291669102681656, -105.60168848231987, 27.54522047060263, 20.754333670947904, -35.358153438645864]\n",
      "{   'R_square': -0.03613958878715229,\n",
      "    'stats':                 Feature      Coef     T-value\n",
      "0          buy_volume_1 -0.000315  -36.264842\n",
      "1          buy_volume_5  0.000225   26.435678\n",
      "2         buy_volume_15  0.000135   15.576525\n",
      "3         sell_volume_1  0.000789  131.576560\n",
      "4         sell_volume_5 -0.000117  -20.291669\n",
      "5        sell_volume_15 -0.000598 -105.601688\n",
      "6   proportion_volume_1  0.000732   27.545220\n",
      "7   proportion_volume_5  0.000750   20.754334\n",
      "8  proportion_volume_15 -0.001491  -35.358153}\n",
      "Reading file ./data/date_data/20180831.pkl\n",
      "[-36.46523084913684, 26.855137335480343, 16.692557418647826, 97.5124248523938, -14.639008716684707, -74.87588862544747, 23.47251234100046, 17.28226374708871, -28.841635639193616]\n",
      "{   'R_square': -0.0004574491280704418,\n",
      "    'stats':                 Feature      Coef    T-value\n",
      "0          buy_volume_1 -0.000315 -36.465231\n",
      "1          buy_volume_5  0.000225  26.855137\n",
      "2         buy_volume_15  0.000135  16.692557\n",
      "3         sell_volume_1  0.000789  97.512425\n",
      "4         sell_volume_5 -0.000117 -14.639009\n",
      "5        sell_volume_15 -0.000598 -74.875889\n",
      "6   proportion_volume_1  0.000732  23.472512\n",
      "7   proportion_volume_5  0.000750  17.282264\n",
      "8  proportion_volume_15 -0.001491 -28.841636}\n"
     ]
    }
   ],
   "source": [
    "result = model.test(data_test)"
   ]
  },
  {
   "cell_type": "markdown",
   "metadata": {},
   "source": [
    "## Train model with x3 (lag return)"
   ]
  },
  {
   "cell_type": "code",
   "execution_count": 13,
   "metadata": {},
   "outputs": [
    {
     "name": "stdout",
     "output_type": "stream",
     "text": [
      "Reading file ['./data/date_data/20180806.pkl', './data/date_data/20180807.pkl', './data/date_data/20180808.pkl', './data/date_data/20180809.pkl', './data/date_data/20180810.pkl', './data/date_data/20180813.pkl', './data/date_data/20180814.pkl', './data/date_data/20180815.pkl', './data/date_data/20180816.pkl', './data/date_data/20180817.pkl', './data/date_data/20180820.pkl', './data/date_data/20180821.pkl', './data/date_data/20180822.pkl', './data/date_data/20180823.pkl', './data/date_data/20180824.pkl']\n",
      "Reading file ./data/date_data/20180827.pkl\n",
      "------------------------------------------------------------\n",
      "Training phrase 1...\n",
      "Training on ['20180806.pkl', '20180807.pkl', '20180808.pkl', '20180809.pkl', '20180810.pkl', '20180813.pkl', '20180814.pkl', '20180815.pkl', '20180816.pkl', '20180817.pkl', '20180820.pkl', '20180821.pkl', '20180822.pkl', '20180823.pkl', '20180824.pkl']\n",
      "Validating on 20180827.pkl\n",
      "Corrcoef on training set: 0.09949646218580516\n",
      "Corrcoef on validation set: 0.14642546999761152\n",
      "[-137.5765758999656, -36.591465490321866, 30.040783848570424]\n",
      "{   'R_square': -0.03863639131081231,\n",
      "    'stats':          Feature      Coef     T-value\n",
      "0   lag_return_1 -0.243631 -137.576576\n",
      "1   lag_return_5 -0.038627  -36.591465\n",
      "2  lag_return_15  0.016814   30.040784}\n",
      "------------------------------------------------------------\n",
      "\n",
      "Reading file ./data/date_data/20180828.pkl\n",
      "------------------------------------------------------------\n",
      "Training phrase 2...\n",
      "Training on ['20180807.pkl', '20180808.pkl', '20180809.pkl', '20180810.pkl', '20180813.pkl', '20180814.pkl', '20180815.pkl', '20180816.pkl', '20180817.pkl', '20180820.pkl', '20180821.pkl', '20180822.pkl', '20180823.pkl', '20180824.pkl', '20180827.pkl']\n",
      "Validating on 20180828.pkl\n",
      "Corrcoef on training set: 0.10427421875226206\n",
      "Corrcoef on validation set: 0.1344658511948757\n",
      "[-140.22353590771831, -46.767202840892786, 30.17240275804654]\n",
      "{   'R_square': 0.002606502204065775,\n",
      "    'stats':          Feature      Coef     T-value\n",
      "0   lag_return_1 -0.243474 -140.223536\n",
      "1   lag_return_5 -0.049581  -46.767203\n",
      "2  lag_return_15  0.018425   30.172403}\n",
      "------------------------------------------------------------\n",
      "\n",
      "Reading file ./data/date_data/20180829.pkl\n",
      "------------------------------------------------------------\n",
      "Training phrase 3...\n",
      "Training on ['20180808.pkl', '20180809.pkl', '20180810.pkl', '20180813.pkl', '20180814.pkl', '20180815.pkl', '20180816.pkl', '20180817.pkl', '20180820.pkl', '20180821.pkl', '20180822.pkl', '20180823.pkl', '20180824.pkl', '20180827.pkl', '20180828.pkl']\n",
      "Validating on 20180829.pkl\n",
      "Corrcoef on training set: 0.10885493516002355\n",
      "Corrcoef on validation set: 0.1582733301432349\n",
      "[-138.4171442545538, -51.906614670323094, 16.21537831173036]\n",
      "{   'R_square': 0.017417847383007,\n",
      "    'stats':          Feature      Coef     T-value\n",
      "0   lag_return_1 -0.242170 -138.417144\n",
      "1   lag_return_5 -0.056089  -51.906615\n",
      "2  lag_return_15  0.010986   16.215378}\n",
      "------------------------------------------------------------\n",
      "\n"
     ]
    }
   ],
   "source": [
    "model = Model(\n",
    "    X=_X_3, y=_Y_3, model=_MODEL_RIDGE, params=_PARAMS_RIDGE, output_model_name = './output/models/models_y3_x3',\n",
    "    data_files=data_train, columns_to_normalize=_COLUMNS_TO_NORMALIZE,\n",
    "    window_size=_SLIDING_WINDOW_SIZE, days_as_window=True\n",
    ")\n",
    "stats, corrcoef = model.run()"
   ]
  },
  {
   "cell_type": "markdown",
   "metadata": {},
   "source": [
    "## Validate model on test set"
   ]
  },
  {
   "cell_type": "code",
   "execution_count": null,
   "metadata": {},
   "outputs": [],
   "source": [
    "with open(_OUTPUT_DIR + 'models/model_x3_y1.pickle', 'rb') as file:\n",
    "    model_x2_y1 = pickle.load(file)"
   ]
  },
  {
   "cell_type": "code",
   "execution_count": 14,
   "metadata": {},
   "outputs": [
    {
     "name": "stdout",
     "output_type": "stream",
     "text": [
      "Reading file ./data/date_data/20180830.pkl\n",
      "[-139.3285775097863, -51.904182364259896, 18.574687016428225]\n",
      "{   'R_square': -0.02186021965911733,\n",
      "    'stats':          Feature      Coef     T-value\n",
      "0   lag_return_1 -0.242170 -139.328578\n",
      "1   lag_return_5 -0.056089  -51.904182\n",
      "2  lag_return_15  0.010986   18.574687}\n",
      "Reading file ./data/date_data/20180831.pkl\n",
      "[-130.46497386949508, -50.031981897061975, 23.79652421506053]\n",
      "{   'R_square': 0.014256172730596428,\n",
      "    'stats':          Feature      Coef     T-value\n",
      "0   lag_return_1 -0.242170 -130.464974\n",
      "1   lag_return_5 -0.056089  -50.031982\n",
      "2  lag_return_15  0.010986   23.796524}\n"
     ]
    }
   ],
   "source": [
    "result = model.test(data_test)"
   ]
  },
  {
   "cell_type": "code",
   "execution_count": null,
   "metadata": {},
   "outputs": [],
   "source": []
  }
 ],
 "metadata": {
  "kernelspec": {
   "display_name": "Python 3",
   "language": "python",
   "name": "python3"
  },
  "language_info": {
   "codemirror_mode": {
    "name": "ipython",
    "version": 3
   },
   "file_extension": ".py",
   "mimetype": "text/x-python",
   "name": "python",
   "nbconvert_exporter": "python",
   "pygments_lexer": "ipython3",
   "version": "3.6.8"
  }
 },
 "nbformat": 4,
 "nbformat_minor": 2
}
