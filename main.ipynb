{
 "cells": [
  {
   "cell_type": "markdown",
   "metadata": {},
   "source": [
    "# Model Training"
   ]
  },
  {
   "cell_type": "code",
   "execution_count": 6,
   "metadata": {},
   "outputs": [],
   "source": [
    "from __future__ import print_function\n",
    "from __future__ import division\n",
    "\n",
    "import pickle\n",
    "import pandas as pd \n",
    "import numpy as np\n",
    "from sklearn.linear_model import Ridge\n",
    "\n",
    "from src.data_reader import Dataset\n",
    "from src.model import Model\n",
    "from src.utils import get_leaf_file_names"
   ]
  },
  {
   "cell_type": "markdown",
   "metadata": {},
   "source": [
    "# Configurations"
   ]
  },
  {
   "cell_type": "code",
   "execution_count": 2,
   "metadata": {},
   "outputs": [],
   "source": [
    "# Global config\n",
    "_RAW_DATA_PATH = './data/rawdata'\n",
    "_DATA_PATH = './data/date_data'\n",
    "_OUTPUT_DIR = './output/'\n",
    "\n",
    "# Data configuration\n",
    "_TIME_FRAME_SIZE_Y = (1, 5, 15, 30)\n",
    "_TIME_FRAME_SIZE_X = (1, 5, 15)\n",
    "_X_1 = [\n",
    "    'avg_delta_bid_size_1', 'avg_delta_bid_size_5', 'avg_delta_bid_size_15',\n",
    "    'avg_delta_ask_size_1', 'avg_delta_ask_size_5', 'avg_delta_ask_size_15',\n",
    "    'bid_size_proportion_1', 'bid_size_proportion_5', 'bid_size_proportion_15'\n",
    "]\n",
    "_X_2 = [\n",
    "    'buy_volume_1', 'buy_volume_5', 'buy_volume_15', 'sell_volume_1', 'sell_volume_5',\n",
    "    'sell_volume_15', 'proportion_volume_1', 'proportion_volume_5', 'proportion_volume_15'\n",
    "]\n",
    "_X_3 = [\n",
    "    'lag_return_1', 'lag_return_5', 'lag_return_15'\n",
    "]\n",
    "\n",
    "_Y_1, _Y_2, _Y_3, _Y_4 = ['return_1_min', 'return_5_min', 'return_15_min', 'return_30_min']\n",
    "\n",
    "_COLUMNS_TO_NORMALIZE = [\n",
    "    'avg_delta_bid_size_1', 'avg_delta_bid_size_5', 'avg_delta_bid_size_15',\n",
    "    'avg_delta_ask_size_1', 'avg_delta_ask_size_5', 'avg_delta_ask_size_15',\n",
    "    'buy_volume_1', 'buy_volume_5', 'buy_volume_15', 'sell_volume_1', 'sell_volume_5', 'sell_volume_15'\n",
    "]"
   ]
  },
  {
   "cell_type": "markdown",
   "metadata": {},
   "source": [
    "## Data and model config"
   ]
  },
  {
   "cell_type": "code",
   "execution_count": 3,
   "metadata": {},
   "outputs": [],
   "source": [
    "# Training configuration\n",
    "_TEST_SET_SIZE = 1\n",
    "_SLIDING_WINDOW_SIZE = 18\n",
    "_CHUNK_SIZE = 3901 * 2\n",
    "_MODEL_RIDGE = Ridge\n",
    "_PARAMS_RIDGE = {\n",
    "    'alpha': 1,\n",
    "    'random_state': 100\n",
    "}"
   ]
  },
  {
   "cell_type": "markdown",
   "metadata": {},
   "source": [
    "## Prepare training set"
   ]
  },
  {
   "cell_type": "code",
   "execution_count": 4,
   "metadata": {},
   "outputs": [
    {
     "name": "stdout",
     "output_type": "stream",
     "text": [
      "['./data/date_data/20180802.pkl', './data/date_data/20180803.pkl', './data/date_data/20180806.pkl', './data/date_data/20180807.pkl', './data/date_data/20180808.pkl', './data/date_data/20180809.pkl', './data/date_data/20180810.pkl', './data/date_data/20180813.pkl', './data/date_data/20180814.pkl', './data/date_data/20180815.pkl', './data/date_data/20180816.pkl', './data/date_data/20180817.pkl', './data/date_data/20180820.pkl', './data/date_data/20180821.pkl', './data/date_data/20180822.pkl', './data/date_data/20180823.pkl', './data/date_data/20180824.pkl', './data/date_data/20180827.pkl', './data/date_data/20180828.pkl', './data/date_data/20180829.pkl', './data/date_data/20180830.pkl']\n"
     ]
    }
   ],
   "source": [
    "# Prepare dataset\n",
    "date_files = get_leaf_file_names(_DATA_PATH)\n",
    "data_train = date_files[: -_TEST_SET_SIZE]\n",
    "print(data_train)"
   ]
  },
  {
   "cell_type": "markdown",
   "metadata": {},
   "source": [
    "## Prepare test set"
   ]
  },
  {
   "cell_type": "code",
   "execution_count": 5,
   "metadata": {},
   "outputs": [],
   "source": [
    "x = date_files[-_TEST_SET_SIZE:]"
   ]
  },
  {
   "cell_type": "markdown",
   "metadata": {},
   "source": [
    "## Train model with all regressors"
   ]
  },
  {
   "cell_type": "code",
   "execution_count": 6,
   "metadata": {},
   "outputs": [
    {
     "name": "stdout",
     "output_type": "stream",
     "text": [
      "Reading file ['./data/date_data/20180802.pkl', './data/date_data/20180803.pkl', './data/date_data/20180806.pkl', './data/date_data/20180807.pkl', './data/date_data/20180808.pkl', './data/date_data/20180809.pkl', './data/date_data/20180810.pkl', './data/date_data/20180813.pkl', './data/date_data/20180814.pkl', './data/date_data/20180815.pkl', './data/date_data/20180816.pkl', './data/date_data/20180817.pkl', './data/date_data/20180820.pkl', './data/date_data/20180821.pkl', './data/date_data/20180822.pkl', './data/date_data/20180823.pkl', './data/date_data/20180824.pkl', './data/date_data/20180827.pkl']\n",
      "Reading file ./data/date_data/20180828.pkl\n",
      "------------------------------------------\n",
      "Training phrase 1...\n",
      "Training on ['20180802.pkl', '20180803.pkl', '20180806.pkl', '20180807.pkl', '20180808.pkl', '20180809.pkl', '20180810.pkl', '20180813.pkl', '20180814.pkl', '20180815.pkl', '20180816.pkl', '20180817.pkl', '20180820.pkl', '20180821.pkl', '20180822.pkl', '20180823.pkl', '20180824.pkl', '20180827.pkl']\n",
      "Validating on 20180828.pkl\n",
      "Corrcoef on training set: 0.25671694172664494\n",
      "Corrcoef on validation set: 0.2898693506996599\n",
      "R square: 0.08374425513043171\n",
      "Feature \t \t Coefficient \t \t t_value\n",
      "avg_delta_bid_size_1 \t \t 0.0 \t \t 26.4589\n",
      "avg_delta_bid_size_5 \t \t 0.0 \t \t 0.0999\n",
      "avg_delta_bid_size_15 \t \t 0.0 \t \t 5.605\n",
      "avg_delta_ask_size_1 \t \t -0.0 \t \t -17.601\n",
      "avg_delta_ask_size_5 \t \t -0.0 \t \t -12.3692\n",
      "avg_delta_ask_size_15 \t \t -0.0 \t \t -5.8927\n",
      "bid_size_proportion_1 \t \t 0.0013 \t \t 191.4728\n",
      "bid_size_proportion_5 \t \t -0.0008 \t \t -112.1985\n",
      "bid_size_proportion_15 \t \t -0.0004 \t \t -47.3976\n",
      "buy_volume_1 \t \t -0.0004 \t \t -160.3651\n",
      "buy_volume_5 \t \t 0.0001 \t \t 62.6681\n",
      "buy_volume_15 \t \t 0.0002 \t \t 72.0606\n",
      "sell_volume_1 \t \t 0.0006 \t \t 215.4771\n",
      "sell_volume_5 \t \t -0.0002 \t \t -79.9833\n",
      "sell_volume_15 \t \t -0.0002 \t \t -87.2393\n",
      "proportion_volume_1 \t \t 0.0025 \t \t 239.1102\n",
      "proportion_volume_5 \t \t 0.0005 \t \t 34.7535\n",
      "proportion_volume_15 \t \t -0.0017 \t \t -96.1076\n",
      "lag_return_1 \t \t -0.2085 \t \t -299.042\n",
      "lag_return_5 \t \t -0.0487 \t \t -114.3361\n",
      "lag_return_15 \t \t 0.001 \t \t 4.2588\n",
      "------------------------------------------\n",
      "Reading file ./data/date_data/20180829.pkl\n",
      "------------------------------------------\n",
      "Training phrase 2...\n",
      "Training on ['20180803.pkl', '20180806.pkl', '20180807.pkl', '20180808.pkl', '20180809.pkl', '20180810.pkl', '20180813.pkl', '20180814.pkl', '20180815.pkl', '20180816.pkl', '20180817.pkl', '20180820.pkl', '20180821.pkl', '20180822.pkl', '20180823.pkl', '20180824.pkl', '20180827.pkl', '20180828.pkl']\n",
      "Validating on 20180829.pkl\n",
      "Corrcoef on training set: 0.26192849107089944\n",
      "Corrcoef on validation set: 0.3001728987038706\n",
      "R square: 0.08721100486949251\n",
      "Feature \t \t Coefficient \t \t t_value\n",
      "avg_delta_bid_size_1 \t \t 0.0 \t \t 20.5211\n",
      "avg_delta_bid_size_5 \t \t 0.0 \t \t 0.2582\n",
      "avg_delta_bid_size_15 \t \t 0.0 \t \t 9.0663\n",
      "avg_delta_ask_size_1 \t \t -0.0 \t \t -12.8129\n",
      "avg_delta_ask_size_5 \t \t -0.0 \t \t -9.9682\n",
      "avg_delta_ask_size_15 \t \t -0.0 \t \t -7.6951\n",
      "bid_size_proportion_1 \t \t 0.0012 \t \t 186.7204\n",
      "bid_size_proportion_5 \t \t -0.0008 \t \t -120.2335\n",
      "bid_size_proportion_15 \t \t -0.0005 \t \t -69.3791\n",
      "buy_volume_1 \t \t -0.0003 \t \t -114.5163\n",
      "buy_volume_5 \t \t 0.0001 \t \t 39.8869\n",
      "buy_volume_15 \t \t 0.0002 \t \t 56.3852\n",
      "sell_volume_1 \t \t 0.0006 \t \t 213.9362\n",
      "sell_volume_5 \t \t -0.0002 \t \t -84.0593\n",
      "sell_volume_15 \t \t -0.0002 \t \t -91.6445\n",
      "proportion_volume_1 \t \t 0.0023 \t \t 215.6457\n",
      "proportion_volume_5 \t \t 0.0005 \t \t 36.4814\n",
      "proportion_volume_15 \t \t -0.0025 \t \t -148.064\n",
      "lag_return_1 \t \t -0.2176 \t \t -312.9975\n",
      "lag_return_5 \t \t -0.0486 \t \t -113.2753\n",
      "lag_return_15 \t \t 0.0019 \t \t 7.163\n",
      "------------------------------------------\n",
      "Reading file ./data/date_data/20180830.pkl\n",
      "------------------------------------------\n",
      "Training phrase 3...\n",
      "Training on ['20180806.pkl', '20180807.pkl', '20180808.pkl', '20180809.pkl', '20180810.pkl', '20180813.pkl', '20180814.pkl', '20180815.pkl', '20180816.pkl', '20180817.pkl', '20180820.pkl', '20180821.pkl', '20180822.pkl', '20180823.pkl', '20180824.pkl', '20180827.pkl', '20180828.pkl', '20180829.pkl']\n",
      "Validating on 20180830.pkl\n",
      "Corrcoef on training set: 0.2628700999863744\n",
      "Corrcoef on validation set: 0.3067928619139592\n",
      "R square: 0.09143014950808481\n",
      "Feature \t \t Coefficient \t \t t_value\n",
      "avg_delta_bid_size_1 \t \t 0.0 \t \t 19.9277\n",
      "avg_delta_bid_size_5 \t \t 0.0 \t \t 0.2499\n",
      "avg_delta_bid_size_15 \t \t 0.0 \t \t 8.2055\n",
      "avg_delta_ask_size_1 \t \t -0.0 \t \t -10.8333\n",
      "avg_delta_ask_size_5 \t \t -0.0 \t \t -8.1972\n",
      "avg_delta_ask_size_15 \t \t -0.0 \t \t -6.3696\n",
      "bid_size_proportion_1 \t \t 0.0012 \t \t 187.1946\n",
      "bid_size_proportion_5 \t \t -0.0008 \t \t -120.0026\n",
      "bid_size_proportion_15 \t \t -0.0005 \t \t -71.435\n",
      "buy_volume_1 \t \t -0.0003 \t \t -94.947\n",
      "buy_volume_5 \t \t 0.0001 \t \t 33.2496\n",
      "buy_volume_15 \t \t 0.0002 \t \t 46.7419\n",
      "sell_volume_1 \t \t 0.0006 \t \t 233.8496\n",
      "sell_volume_5 \t \t -0.0002 \t \t -91.3425\n",
      "sell_volume_15 \t \t -0.0003 \t \t -113.5111\n",
      "proportion_volume_1 \t \t 0.0022 \t \t 211.1011\n",
      "proportion_volume_5 \t \t 0.0005 \t \t 36.0692\n",
      "proportion_volume_15 \t \t -0.0025 \t \t -147.2906\n",
      "lag_return_1 \t \t -0.2195 \t \t -315.8633\n",
      "lag_return_5 \t \t -0.0484 \t \t -112.1255\n",
      "lag_return_15 \t \t 0.002 \t \t 8.366\n",
      "------------------------------------------\n"
     ]
    }
   ],
   "source": [
    "# Train model with different parameters\n",
    "model_all_x_y1 = Model(\n",
    "    X=_X_1+_X_2+_X_3, y=_Y_1, model=_MODEL_RIDGE, params=_PARAMS_RIDGE,\n",
    "    data_files=data_train, columns_to_normalize=_COLUMNS_TO_NORMALIZE,\n",
    "    window_size=_SLIDING_WINDOW_SIZE, days_as_window=True\n",
    ")\n",
    "corrcoef_all_x_y1, _, _ = model_all_x_y1.run()"
   ]
  },
  {
   "cell_type": "code",
   "execution_count": 11,
   "metadata": {},
   "outputs": [],
   "source": [
    "with open(_OUTPUT_DIR + 'model_all_x_y1.pickle', 'wb') as file:\n",
    "    pickle.dump(model_all_x_y1, file)"
   ]
  },
  {
   "cell_type": "code",
   "execution_count": null,
   "metadata": {},
   "outputs": [],
   "source": [
    "with open(_OUTPUT_DIR + 'model_all_x_y1.pickle', 'rb') as file:\n",
    "    model_all_x_y1 = pickle.load(file)"
   ]
  },
  {
   "cell_type": "markdown",
   "metadata": {},
   "source": [
    "## Validate model on test set"
   ]
  },
  {
   "cell_type": "code",
   "execution_count": 7,
   "metadata": {},
   "outputs": [
    {
     "name": "stdout",
     "output_type": "stream",
     "text": [
      "Reading file ['./data/date_data/20180831.pkl']\n",
      "Regression with all regressors: corr_all = [[1.         0.29236617]\n",
      " [0.29236617 1.        ]]\n"
     ]
    }
   ],
   "source": [
    "y_hat_all, y, corr_all = model_all_x_y1.test(x)\n",
    "print('Regression with all regressors: corr_all = {}'.format(corr_all))\n",
    "np.save('./output/y_hat_all', y_hat_all)"
   ]
  },
  {
   "cell_type": "markdown",
   "metadata": {},
   "source": [
    "## Train model with x1 (average of delta of bid/ask size)"
   ]
  },
  {
   "cell_type": "code",
   "execution_count": 12,
   "metadata": {},
   "outputs": [
    {
     "name": "stdout",
     "output_type": "stream",
     "text": [
      "Reading file ['./data/date_data/20180802.pkl', './data/date_data/20180803.pkl', './data/date_data/20180806.pkl', './data/date_data/20180807.pkl', './data/date_data/20180808.pkl', './data/date_data/20180809.pkl', './data/date_data/20180810.pkl', './data/date_data/20180813.pkl', './data/date_data/20180814.pkl', './data/date_data/20180815.pkl', './data/date_data/20180816.pkl', './data/date_data/20180817.pkl', './data/date_data/20180820.pkl', './data/date_data/20180821.pkl', './data/date_data/20180822.pkl', './data/date_data/20180823.pkl', './data/date_data/20180824.pkl', './data/date_data/20180827.pkl']\n",
      "Reading file ./data/date_data/20180828.pkl\n",
      "------------------------------------------\n",
      "Training phrase 1...\n",
      "Training on ['20180802.pkl', '20180803.pkl', '20180806.pkl', '20180807.pkl', '20180808.pkl', '20180809.pkl', '20180810.pkl', '20180813.pkl', '20180814.pkl', '20180815.pkl', '20180816.pkl', '20180817.pkl', '20180820.pkl', '20180821.pkl', '20180822.pkl', '20180823.pkl', '20180824.pkl', '20180827.pkl']\n",
      "Validating on 20180828.pkl\n",
      "Corrcoef on training set: 0.06547209747269961\n",
      "Corrcoef on validation set: 0.06655487624130038\n",
      "R square: 0.004211168627628825\n",
      "Feature \t \t Coefficient \t \t t_value\n",
      "avg_delta_bid_size_1 \t \t 0.0001 \t \t 45.0256\n",
      "avg_delta_bid_size_5 \t \t 0.0 \t \t 1.7078\n",
      "avg_delta_bid_size_15 \t \t 0.0 \t \t 7.0402\n",
      "avg_delta_ask_size_1 \t \t -0.0001 \t \t -47.8129\n",
      "avg_delta_ask_size_5 \t \t -0.0 \t \t -17.2109\n",
      "avg_delta_ask_size_15 \t \t -0.0 \t \t -4.7703\n",
      "bid_size_proportion_1 \t \t 0.0014 \t \t 198.2145\n",
      "bid_size_proportion_5 \t \t -0.0011 \t \t -150.3602\n",
      "bid_size_proportion_15 \t \t -0.0002 \t \t -31.0649\n",
      "------------------------------------------\n",
      "Reading file ./data/date_data/20180829.pkl\n",
      "------------------------------------------\n",
      "Training phrase 2...\n",
      "Training on ['20180803.pkl', '20180806.pkl', '20180807.pkl', '20180808.pkl', '20180809.pkl', '20180810.pkl', '20180813.pkl', '20180814.pkl', '20180815.pkl', '20180816.pkl', '20180817.pkl', '20180820.pkl', '20180821.pkl', '20180822.pkl', '20180823.pkl', '20180824.pkl', '20180827.pkl', '20180828.pkl']\n",
      "Validating on 20180829.pkl\n",
      "Corrcoef on training set: 0.06368151147850314\n",
      "Corrcoef on validation set: 0.05906621084681806\n",
      "R square: 0.003029734812654006\n",
      "Feature \t \t Coefficient \t \t t_value\n",
      "avg_delta_bid_size_1 \t \t 0.0001 \t \t 40.8762\n",
      "avg_delta_bid_size_5 \t \t 0.0 \t \t 2.7419\n",
      "avg_delta_bid_size_15 \t \t 0.0 \t \t 7.0279\n",
      "avg_delta_ask_size_1 \t \t -0.0001 \t \t -43.0682\n",
      "avg_delta_ask_size_5 \t \t -0.0 \t \t -14.0401\n",
      "avg_delta_ask_size_15 \t \t -0.0 \t \t -3.9895\n",
      "bid_size_proportion_1 \t \t 0.0014 \t \t 208.3983\n",
      "bid_size_proportion_5 \t \t -0.0011 \t \t -160.2466\n",
      "bid_size_proportion_15 \t \t -0.0002 \t \t -31.8859\n",
      "------------------------------------------\n",
      "Reading file ./data/date_data/20180830.pkl\n",
      "------------------------------------------\n",
      "Training phrase 3...\n",
      "Training on ['20180806.pkl', '20180807.pkl', '20180808.pkl', '20180809.pkl', '20180810.pkl', '20180813.pkl', '20180814.pkl', '20180815.pkl', '20180816.pkl', '20180817.pkl', '20180820.pkl', '20180821.pkl', '20180822.pkl', '20180823.pkl', '20180824.pkl', '20180827.pkl', '20180828.pkl', '20180829.pkl']\n",
      "Validating on 20180830.pkl\n",
      "Corrcoef on training set: 0.06268038582916709\n",
      "Corrcoef on validation set: 0.06148621576033118\n",
      "R square: 0.0026097572681360592\n",
      "Feature \t \t Coefficient \t \t t_value\n",
      "avg_delta_bid_size_1 \t \t 0.0001 \t \t 38.8335\n",
      "avg_delta_bid_size_5 \t \t 0.0 \t \t 2.0491\n",
      "avg_delta_bid_size_15 \t \t 0.0 \t \t 6.2554\n",
      "avg_delta_ask_size_1 \t \t -0.0001 \t \t -38.4553\n",
      "avg_delta_ask_size_5 \t \t -0.0 \t \t -11.5561\n",
      "avg_delta_ask_size_15 \t \t -0.0 \t \t -3.363\n",
      "bid_size_proportion_1 \t \t 0.0014 \t \t 209.8688\n",
      "bid_size_proportion_5 \t \t -0.0011 \t \t -160.939\n",
      "bid_size_proportion_15 \t \t -0.0002 \t \t -33.2181\n",
      "------------------------------------------\n"
     ]
    }
   ],
   "source": [
    "model_x1_y1 = Model(\n",
    "    X=_X_1, y=_Y_1, model=_MODEL_RIDGE, params=_PARAMS_RIDGE,\n",
    "    data_files=data_train, columns_to_normalize=_COLUMNS_TO_NORMALIZE,\n",
    "    window_size=_SLIDING_WINDOW_SIZE, days_as_window=True\n",
    ")\n",
    "corrcoef_x1_y1, _, _ = model_x1_y1.run()"
   ]
  },
  {
   "cell_type": "code",
   "execution_count": 13,
   "metadata": {},
   "outputs": [],
   "source": [
    "with open(_OUTPUT_DIR + 'model_x1_y1.pickle', 'wb') as file:\n",
    "    pickle.dump(model_x1_y1, file)"
   ]
  },
  {
   "cell_type": "code",
   "execution_count": 22,
   "metadata": {},
   "outputs": [],
   "source": [
    "with open(_OUTPUT_DIR + 'model_x1_y1.pickle', 'rb') as file:\n",
    "    model_x1_y1 = pickle.load(file)"
   ]
  },
  {
   "cell_type": "markdown",
   "metadata": {},
   "source": [
    "## Validate model on test set"
   ]
  },
  {
   "cell_type": "code",
   "execution_count": 23,
   "metadata": {},
   "outputs": [
    {
     "name": "stdout",
     "output_type": "stream",
     "text": [
      "Reading file ['./data/date_data/20180831.pkl']\n",
      "Regression with all x1 regressors ['avg_delta_bid_size_1', 'avg_delta_bid_size_5', 'avg_delta_bid_size_15', 'avg_delta_ask_size_1', 'avg_delta_ask_size_5', 'avg_delta_ask_size_15', 'bid_size_proportion_1', 'bid_size_proportion_5', 'bid_size_proportion_15']:\n",
      " corr_all = [[1.         0.06301515]\n",
      " [0.06301515 1.        ]]\n"
     ]
    }
   ],
   "source": [
    "y_hat_x1, y, corr_x1 = model_x1_y1.test(x)\n",
    "print('Regression with all x1 regressors {}:\\n corr_all = {}'.format(_X_1, corr_x1))\n",
    "np.save('./output/y_hat_x1', y_hat_x1)"
   ]
  },
  {
   "cell_type": "code",
   "execution_count": 9,
   "metadata": {},
   "outputs": [],
   "source": [
    "np.save('./output/y', y)"
   ]
  },
  {
   "cell_type": "markdown",
   "metadata": {},
   "source": [
    "## Train model with x2 (volume initiated by buy/sell)"
   ]
  },
  {
   "cell_type": "code",
   "execution_count": 11,
   "metadata": {},
   "outputs": [
    {
     "name": "stdout",
     "output_type": "stream",
     "text": [
      "Reading file ['./data/date_data/20180802.pkl', './data/date_data/20180803.pkl', './data/date_data/20180806.pkl', './data/date_data/20180807.pkl', './data/date_data/20180808.pkl', './data/date_data/20180809.pkl', './data/date_data/20180810.pkl', './data/date_data/20180813.pkl', './data/date_data/20180814.pkl', './data/date_data/20180815.pkl', './data/date_data/20180816.pkl', './data/date_data/20180817.pkl', './data/date_data/20180820.pkl', './data/date_data/20180821.pkl', './data/date_data/20180822.pkl', './data/date_data/20180823.pkl', './data/date_data/20180824.pkl', './data/date_data/20180827.pkl']\n",
      "Reading file ./data/date_data/20180828.pkl\n",
      "------------------------------------------\n",
      "Training phrase 1...\n",
      "Training on ['20180802.pkl', '20180803.pkl', '20180806.pkl', '20180807.pkl', '20180808.pkl', '20180809.pkl', '20180810.pkl', '20180813.pkl', '20180814.pkl', '20180815.pkl', '20180816.pkl', '20180817.pkl', '20180820.pkl', '20180821.pkl', '20180822.pkl', '20180823.pkl', '20180824.pkl', '20180827.pkl']\n",
      "Validating on 20180828.pkl\n",
      "Corrcoef on training set: 0.06027246596339435\n",
      "Corrcoef on validation set: 0.07825672413835992\n",
      "R square: 0.005424385297661094\n",
      "Feature \t \t Coefficient \t \t t_value\n",
      "buy_volume_1 \t \t -0.0004 \t \t -175.7053\n",
      "buy_volume_5 \t \t 0.0003 \t \t 115.7719\n",
      "buy_volume_15 \t \t 0.0001 \t \t 38.2771\n",
      "sell_volume_1 \t \t 0.0007 \t \t 253.066\n",
      "sell_volume_5 \t \t -0.0005 \t \t -165.5451\n",
      "sell_volume_15 \t \t -0.0002 \t \t -54.6272\n",
      "proportion_volume_1 \t \t 0.0011 \t \t 97.5203\n",
      "proportion_volume_5 \t \t -0.0004 \t \t -28.4627\n",
      "proportion_volume_15 \t \t -0.0001 \t \t -7.7143\n",
      "------------------------------------------\n",
      "Reading file ./data/date_data/20180829.pkl\n",
      "------------------------------------------\n",
      "Training phrase 2...\n",
      "Training on ['20180803.pkl', '20180806.pkl', '20180807.pkl', '20180808.pkl', '20180809.pkl', '20180810.pkl', '20180813.pkl', '20180814.pkl', '20180815.pkl', '20180816.pkl', '20180817.pkl', '20180820.pkl', '20180821.pkl', '20180822.pkl', '20180823.pkl', '20180824.pkl', '20180827.pkl', '20180828.pkl']\n",
      "Validating on 20180829.pkl\n",
      "Corrcoef on training set: 0.05314493308437829\n",
      "Corrcoef on validation set: 0.06836515926813003\n",
      "R square: 0.003416949812845349\n",
      "Feature \t \t Coefficient \t \t t_value\n",
      "buy_volume_1 \t \t -0.0004 \t \t -130.8654\n",
      "buy_volume_5 \t \t 0.0003 \t \t 81.2129\n",
      "buy_volume_15 \t \t 0.0001 \t \t 33.7716\n",
      "sell_volume_1 \t \t 0.0007 \t \t 257.4831\n",
      "sell_volume_5 \t \t -0.0005 \t \t -171.1768\n",
      "sell_volume_15 \t \t -0.0002 \t \t -54.9391\n",
      "proportion_volume_1 \t \t 0.0008 \t \t 74.7396\n",
      "proportion_volume_5 \t \t -0.0003 \t \t -21.5619\n",
      "proportion_volume_15 \t \t -0.0004 \t \t -22.2646\n",
      "------------------------------------------\n",
      "Reading file ./data/date_data/20180830.pkl\n",
      "------------------------------------------\n",
      "Training phrase 3...\n",
      "Training on ['20180806.pkl', '20180807.pkl', '20180808.pkl', '20180809.pkl', '20180810.pkl', '20180813.pkl', '20180814.pkl', '20180815.pkl', '20180816.pkl', '20180817.pkl', '20180820.pkl', '20180821.pkl', '20180822.pkl', '20180823.pkl', '20180824.pkl', '20180827.pkl', '20180828.pkl', '20180829.pkl']\n",
      "Validating on 20180830.pkl\n",
      "Corrcoef on training set: 0.05165406977025569\n",
      "Corrcoef on validation set: 0.0657194612484522\n",
      "R square: 0.002204972460002619\n",
      "Feature \t \t Coefficient \t \t t_value\n",
      "buy_volume_1 \t \t -0.0004 \t \t -108.2842\n",
      "buy_volume_5 \t \t 0.0002 \t \t 67.9202\n",
      "buy_volume_15 \t \t 0.0001 \t \t 28.4376\n",
      "sell_volume_1 \t \t 0.0007 \t \t 281.0735\n",
      "sell_volume_5 \t \t -0.0005 \t \t -191.0094\n",
      "sell_volume_15 \t \t -0.0002 \t \t -68.3745\n",
      "proportion_volume_1 \t \t 0.0008 \t \t 69.9643\n",
      "proportion_volume_5 \t \t -0.0003 \t \t -18.8565\n",
      "proportion_volume_15 \t \t -0.0004 \t \t -22.7039\n",
      "------------------------------------------\n"
     ]
    }
   ],
   "source": [
    "model_x2_y1 = Model(\n",
    "    X=_X_2, y=_Y_1, model=_MODEL_RIDGE, params=_PARAMS_RIDGE,\n",
    "    data_files=data_train, columns_to_normalize=_COLUMNS_TO_NORMALIZE,\n",
    "    window_size=_SLIDING_WINDOW_SIZE, days_as_window=True\n",
    ")\n",
    "corrcoef_x2_y1, _, _ = model_x2_y1.run()"
   ]
  },
  {
   "cell_type": "code",
   "execution_count": 12,
   "metadata": {},
   "outputs": [],
   "source": [
    "with open(_OUTPUT_DIR + 'model_x2_y1.pickle', 'wb') as file:\n",
    "    pickle.dump(model_x2_y1, file)"
   ]
  },
  {
   "cell_type": "code",
   "execution_count": null,
   "metadata": {},
   "outputs": [],
   "source": [
    "with open(_OUTPUT_DIR + 'model_x2_y1.pickle', 'rb') as file:\n",
    "    model_x2_y1 = pickle.load(file)"
   ]
  },
  {
   "cell_type": "markdown",
   "metadata": {},
   "source": [
    "## Validate model on test set"
   ]
  },
  {
   "cell_type": "code",
   "execution_count": 20,
   "metadata": {},
   "outputs": [
    {
     "name": "stdout",
     "output_type": "stream",
     "text": [
      "Reading file ['./data/date_data/20180831.pkl']\n",
      "Regression with all x2 regressors ['buy_volume_1', 'buy_volume_5', 'buy_volume_15', 'sell_volume_1', 'sell_volume_5', 'sell_volume_15', 'proportion_volume_1', 'proportion_volume_5', 'proportion_volume_15']:\n",
      " corr_all = [[1.         0.06708809]\n",
      " [0.06708809 1.        ]]\n"
     ]
    }
   ],
   "source": [
    "y_hat_x2, y, corr_x2 = model_x2_y1.test(x)\n",
    "print('Regression with all x2 regressors {}:\\n corr_all = {}'.format(_X_2, corr_x2))\n",
    "np.save('./output/y_hat_x2', y_hat_x2)"
   ]
  },
  {
   "cell_type": "markdown",
   "metadata": {},
   "source": [
    "## Train model with x3 (lag return)"
   ]
  },
  {
   "cell_type": "code",
   "execution_count": 25,
   "metadata": {},
   "outputs": [
    {
     "name": "stdout",
     "output_type": "stream",
     "text": [
      "Reading file ['./data/date_data/20180802.pkl', './data/date_data/20180803.pkl', './data/date_data/20180806.pkl', './data/date_data/20180807.pkl', './data/date_data/20180808.pkl', './data/date_data/20180809.pkl', './data/date_data/20180810.pkl', './data/date_data/20180813.pkl', './data/date_data/20180814.pkl', './data/date_data/20180815.pkl', './data/date_data/20180816.pkl', './data/date_data/20180817.pkl', './data/date_data/20180820.pkl', './data/date_data/20180821.pkl', './data/date_data/20180822.pkl', './data/date_data/20180823.pkl', './data/date_data/20180824.pkl', './data/date_data/20180827.pkl']\n",
      "Reading file ./data/date_data/20180828.pkl\n",
      "------------------------------------------\n",
      "Training phrase 1...\n",
      "Training on ['20180802.pkl', '20180803.pkl', '20180806.pkl', '20180807.pkl', '20180808.pkl', '20180809.pkl', '20180810.pkl', '20180813.pkl', '20180814.pkl', '20180815.pkl', '20180816.pkl', '20180817.pkl', '20180820.pkl', '20180821.pkl', '20180822.pkl', '20180823.pkl', '20180824.pkl', '20180827.pkl']\n",
      "Validating on 20180828.pkl\n",
      "Corrcoef on training set: 0.21708551319048058\n",
      "Corrcoef on validation set: 0.27880360787616976\n",
      "R square: 0.07316594381743957\n",
      "Feature \t \t Coefficient \t \t t_value\n",
      "lag_return_1 \t \t -0.1742 \t \t -248.3229\n",
      "lag_return_5 \t \t -0.0403 \t \t -94.0534\n",
      "lag_return_15 \t \t -0.0013 \t \t -5.1057\n",
      "------------------------------------------\n",
      "Reading file ./data/date_data/20180829.pkl\n",
      "------------------------------------------\n",
      "Training phrase 2...\n",
      "Training on ['20180803.pkl', '20180806.pkl', '20180807.pkl', '20180808.pkl', '20180809.pkl', '20180810.pkl', '20180813.pkl', '20180814.pkl', '20180815.pkl', '20180816.pkl', '20180817.pkl', '20180820.pkl', '20180821.pkl', '20180822.pkl', '20180823.pkl', '20180824.pkl', '20180827.pkl', '20180828.pkl']\n",
      "Validating on 20180829.pkl\n",
      "Corrcoef on training set: 0.22976361666368114\n",
      "Corrcoef on validation set: 0.28585710786758156\n",
      "R square: 0.0774630657783254\n",
      "Feature \t \t Coefficient \t \t t_value\n",
      "lag_return_1 \t \t -0.1853 \t \t -265.1119\n",
      "lag_return_5 \t \t -0.0418 \t \t -96.7157\n",
      "lag_return_15 \t \t -0.0019 \t \t -6.996\n",
      "------------------------------------------\n",
      "Reading file ./data/date_data/20180830.pkl\n",
      "------------------------------------------\n",
      "Training phrase 3...\n",
      "Training on ['20180806.pkl', '20180807.pkl', '20180808.pkl', '20180809.pkl', '20180810.pkl', '20180813.pkl', '20180814.pkl', '20180815.pkl', '20180816.pkl', '20180817.pkl', '20180820.pkl', '20180821.pkl', '20180822.pkl', '20180823.pkl', '20180824.pkl', '20180827.pkl', '20180828.pkl', '20180829.pkl']\n",
      "Validating on 20180830.pkl\n",
      "Corrcoef on training set: 0.2316073233951358\n",
      "Corrcoef on validation set: 0.29015607398022886\n",
      "R square: 0.07785212098957572\n",
      "Feature \t \t Coefficient \t \t t_value\n",
      "lag_return_1 \t \t -0.1876 \t \t -268.0668\n",
      "lag_return_5 \t \t -0.0415 \t \t -95.2737\n",
      "lag_return_15 \t \t -0.0019 \t \t -7.8785\n",
      "------------------------------------------\n"
     ]
    }
   ],
   "source": [
    "model_x3_y1 = Model(\n",
    "    X=_X_3, y=_Y_1, model=_MODEL_RIDGE, params=_PARAMS_RIDGE,\n",
    "    data_files=data_train, columns_to_normalize=_COLUMNS_TO_NORMALIZE,\n",
    "    window_size=_SLIDING_WINDOW_SIZE, days_as_window=True\n",
    ")\n",
    "corrcoef_x3_y1, _, _ = model_x3_y1.run()"
   ]
  },
  {
   "cell_type": "code",
   "execution_count": 26,
   "metadata": {},
   "outputs": [],
   "source": [
    "with open(_OUTPUT_DIR + 'model_x3_y1.pickle', 'wb') as file:\n",
    "    pickle.dump(model_x3_y1, file)"
   ]
  },
  {
   "cell_type": "code",
   "execution_count": null,
   "metadata": {},
   "outputs": [],
   "source": [
    "with open(_OUTPUT_DIR + 'model_x3_y1.pickle', 'rb') as file:\n",
    "    model_x2_y1 = pickle.load(file)"
   ]
  },
  {
   "cell_type": "markdown",
   "metadata": {},
   "source": [
    "## Validate model on test set"
   ]
  },
  {
   "cell_type": "code",
   "execution_count": 27,
   "metadata": {},
   "outputs": [
    {
     "name": "stdout",
     "output_type": "stream",
     "text": [
      "Reading file ['./data/date_data/20180831.pkl']\n",
      "Regression with all x3 regressors ['lag_return_1', 'lag_return_5', 'lag_return_15']:\n",
      " corr_all = [[1.        0.2668826]\n",
      " [0.2668826 1.       ]]\n"
     ]
    }
   ],
   "source": [
    "y_hat_x3, y, corr_x3 = model_x3_y1.test(x)\n",
    "print('Regression with all x3 regressors {}:\\n corr_all = {}'.format(_X_3, corr_x3))\n",
    "np.save('./output/y_hat_x3', y_hat_x3)"
   ]
  },
  {
   "cell_type": "markdown",
   "metadata": {},
   "source": [
    "# Result"
   ]
  },
  {
   "cell_type": "code",
   "execution_count": 32,
   "metadata": {},
   "outputs": [
    {
     "name": "stdout",
     "output_type": "stream",
     "text": [
      "Reading file ['./data/date_data/20180831.pkl']\n",
      "Regression with all regressors: corr_all = 0.2923661671592335\n",
      "\n",
      "Reading file ['./data/date_data/20180831.pkl']\n",
      "Regression with all x1 regressors ['avg_delta_bid_size_1', 'avg_delta_bid_size_5', 'avg_delta_bid_size_15', 'avg_delta_ask_size_1', 'avg_delta_ask_size_5', 'avg_delta_ask_size_15', 'bid_size_proportion_1', 'bid_size_proportion_5', 'bid_size_proportion_15']:\n",
      " corr_all = 0.06301514702098966\n",
      "\n",
      "Reading file ['./data/date_data/20180831.pkl']\n",
      "Regression with all x2 regressors ['buy_volume_1', 'buy_volume_5', 'buy_volume_15', 'sell_volume_1', 'sell_volume_5', 'sell_volume_15', 'proportion_volume_1', 'proportion_volume_5', 'proportion_volume_15']:\n",
      " corr_all = 0.06708809012273853\n",
      "\n",
      "Reading file ['./data/date_data/20180831.pkl']\n",
      "Regression with all x3 regressors ['lag_return_1', 'lag_return_5', 'lag_return_15']:\n",
      " corr_all = 0.2668826007132174\n"
     ]
    }
   ],
   "source": [
    "with open(_OUTPUT_DIR + 'model_all_x_y1.pickle', 'rb') as file:\n",
    "    model_all_x = pickle.load(file)\n",
    "    y_hat_all, y, corr_all = model_all_x.test(x)\n",
    "    print('Regression with all regressors: corr_all = {}'.format(corr_all[0][1]))\n",
    "    print()\n",
    "    \n",
    "with open(_OUTPUT_DIR + 'model_x1_y1.pickle', 'rb') as file:\n",
    "    model_x1 = pickle.load(file)\n",
    "    y_hat_x1, y, corr_x1 = model_x1.test(x)\n",
    "    print('Regression with all x1 regressors {}:\\n corr_all = {}'.format(_X_1, corr_x1[0][1]))\n",
    "    print()\n",
    "\n",
    "with open(_OUTPUT_DIR + 'model_x2_y1.pickle', 'rb') as file:\n",
    "    model_x2 = pickle.load(file)\n",
    "    y_hat_x2, y, corr_x2 = model_x2.test(x)\n",
    "    print('Regression with all x2 regressors {}:\\n corr_all = {}'.format(_X_2, corr_x2[0][1]))\n",
    "    print()\n",
    "    \n",
    "with open(_OUTPUT_DIR + 'model_x3_y1.pickle', 'rb') as file:\n",
    "    model_x3 = pickle.load(file)\n",
    "    y_hat_x3, y, corr_x3 = model_x3.test(x)\n",
    "    print('Regression with all x3 regressors {}:\\n corr_all = {}'.format(_X_3, corr_x3[0][1]))"
   ]
  }
 ],
 "metadata": {
  "kernelspec": {
   "display_name": "Python 3",
   "language": "python",
   "name": "python3"
  },
  "language_info": {
   "codemirror_mode": {
    "name": "ipython",
    "version": 3
   },
   "file_extension": ".py",
   "mimetype": "text/x-python",
   "name": "python",
   "nbconvert_exporter": "python",
   "pygments_lexer": "ipython3",
   "version": "3.6.8"
  }
 },
 "nbformat": 4,
 "nbformat_minor": 2
}
