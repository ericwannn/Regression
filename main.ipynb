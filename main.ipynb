{
 "cells": [
  {
   "cell_type": "code",
   "execution_count": 1,
   "metadata": {},
   "outputs": [],
   "source": [
    "from __future__ import print_function\n",
    "from __future__ import division\n",
    "\n",
    "from sklearn.linear_model import Ridge\n",
    "from sklearn.kernel_ridge import KernelRidge\n",
    "from src.data_reader import Dataset\n",
    "from src.model import Model\n",
    "from src.utils import timeit\n",
    "from src.utils import get_leaf_file_names"
   ]
  },
  {
   "cell_type": "code",
   "execution_count": 2,
   "metadata": {},
   "outputs": [],
   "source": [
    "# Global config\n",
    "_RAW_DATA_PATH = './data/rawdata'\n",
    "_DATA_PATH = './data/date_data/'\n",
    "_OUTPUT_DIR = './data/output/'\n",
    "\n",
    "# Training configuration\n",
    "_TEST_SET_SIZE = .4\n",
    "_SLIDING_WINDOW_SIZE = 4\n",
    "_CHUNK_SIZE = 3901 * 2\n",
    "_MODEL_RIDGE = Ridge\n",
    "_MODEL_KKR = KernelRidge\n",
    "_PARAMS_RIDGE = {\n",
    "    'alpha': 1e-3,\n",
    "    'random_state': 100\n",
    "}\n",
    "_PARAMS_KERNEL_RIDGE = {\n",
    "    'alpha': 2.5,\n",
    "    'random_state': 100\n",
    "}\n",
    "\n",
    "# Data configuration\n",
    "_TIME_FRAME_SIZE_Y = (1, 5, 15, 30)\n",
    "_TIME_FRAME_SIZE_X = (1, 5, 15)\n",
    "_X_1 = [\n",
    "    'avg_delta_bid_size_1', 'avg_delta_bid_size_5', 'avg_delta_bid_size_15',\n",
    "    'avg_delta_ask_size_1', 'avg_delta_ask_size_5', 'avg_delta_ask_size_15',\n",
    "    'bid_size_proportion_1', 'bid_size_proportion_5', 'bid_size_proportion_15'\n",
    "]\n",
    "_X_2 = [\n",
    "    'buy_volume_1', 'buy_volume_5', 'buy_volume_15', 'sell_volume_1', 'sell_volume_5',\n",
    "    'sell_volume_15', 'proportion_volume_1', 'proportion_volume_5', 'proportion_volume_15'\n",
    "]\n",
    "_Y_1, _Y_2, _Y_3, _Y_4 = ['return_1_min', 'return_5_min', 'return_15_min', 'return_30_min']\n",
    "\n",
    "_COLUMNS_TO_NORMALIZE = [\n",
    "    'avg_delta_bid_size_1', 'avg_delta_bid_size_5', 'avg_delta_bid_size_15',\n",
    "    'avg_delta_ask_size_1', 'avg_delta_ask_size_5', 'avg_delta_ask_size_15',\n",
    "    'buy_volume_1', 'buy_volume_5', 'buy_volume_15', 'sell_volume_1', 'sell_volume_5', 'sell_volume_15'\n",
    "]"
   ]
  },
  {
   "cell_type": "code",
   "execution_count": 3,
   "metadata": {},
   "outputs": [],
   "source": [
    "# Prepare dataset\n",
    "date_files = get_leaf_file_names(_DATA_PATH)\n",
    "data_train = date_files[:-int(len(date_files) * _TEST_SET_SIZE)]\n",
    "data_test = date_files[-int(len(date_files) * _TEST_SET_SIZE) - _SLIDING_WINDOW_SIZE + 1:]"
   ]
  },
  {
   "cell_type": "code",
   "execution_count": 6,
   "metadata": {},
   "outputs": [],
   "source": [
    "# Train model with different parameters\n",
    "model = Model(\n",
    "    X=_X_2, y=_Y_1, model=_MODEL_RIDGE, params=_PARAMS_RIDGE,\n",
    "    data_files=data_train, columns_to_normalize=_COLUMNS_TO_NORMALIZE,\n",
    "    window_size=_SLIDING_WINDOW_SIZE, days_as_window=True\n",
    ")"
   ]
  },
  {
   "cell_type": "code",
   "execution_count": 14,
   "metadata": {},
   "outputs": [
    {
     "name": "stdout",
     "output_type": "stream",
     "text": [
      "Training phrase 1...\n",
      "Training on ['date_data20180802.pkl', 'date_data20180803.pkl', 'date_data20180806.pkl', 'date_data20180807.pkl', 'date_data20180808.pkl']\n",
      "Validating on date_data20180809.pkl\n",
      "Score on training set: [[1.         0.07215098]\n",
      " [0.07215098 1.        ]]\n",
      "Score on validation set: [[1.         0.08452256]\n",
      " [0.08452256 1.        ]]\n",
      "Training phrase 2...\n",
      "Training on ['date_data20180803.pkl', 'date_data20180806.pkl', 'date_data20180807.pkl', 'date_data20180808.pkl', 'date_data20180809.pkl']\n",
      "Validating on date_data20180810.pkl\n",
      "Score on training set: [[1.         0.06148356]\n",
      " [0.06148356 1.        ]]\n",
      "Score on validation set: [[1.        0.0683065]\n",
      " [0.0683065 1.       ]]\n",
      "Training phrase 3...\n",
      "Training on ['date_data20180806.pkl', 'date_data20180807.pkl', 'date_data20180808.pkl', 'date_data20180809.pkl', 'date_data20180810.pkl']\n",
      "Validating on date_data20180813.pkl\n",
      "Score on training set: [[1.         0.06341071]\n",
      " [0.06341071 1.        ]]\n",
      "Score on validation set: [[1.         0.07411158]\n",
      " [0.07411158 1.        ]]\n",
      "Training phrase 4...\n",
      "Training on ['date_data20180807.pkl', 'date_data20180808.pkl', 'date_data20180809.pkl', 'date_data20180810.pkl', 'date_data20180813.pkl']\n",
      "Validating on date_data20180814.pkl\n",
      "Score on training set: [[1.         0.06377629]\n",
      " [0.06377629 1.        ]]\n",
      "Score on validation set: [[1.         0.04401069]\n",
      " [0.04401069 1.        ]]\n",
      "Training phrase 5...\n",
      "Training on ['date_data20180808.pkl', 'date_data20180809.pkl', 'date_data20180810.pkl', 'date_data20180813.pkl', 'date_data20180814.pkl']\n",
      "Validating on date_data20180815.pkl\n",
      "Score on training set: [[1.         0.06185179]\n",
      " [0.06185179 1.        ]]\n",
      "Score on validation set: [[1.         0.07327787]\n",
      " [0.07327787 1.        ]]\n",
      "Training phrase 6...\n",
      "Training on ['date_data20180809.pkl', 'date_data20180810.pkl', 'date_data20180813.pkl', 'date_data20180814.pkl', 'date_data20180815.pkl']\n",
      "Validating on date_data20180816.pkl\n",
      "Score on training set: [[1.         0.07111034]\n",
      " [0.07111034 1.        ]]\n",
      "Score on validation set: [[1.         0.07104821]\n",
      " [0.07104821 1.        ]]\n",
      "Training phrase 7...\n",
      "Training on ['date_data20180810.pkl', 'date_data20180813.pkl', 'date_data20180814.pkl', 'date_data20180815.pkl', 'date_data20180816.pkl']\n",
      "Validating on date_data20180817.pkl\n",
      "Score on training set: [[1.         0.07196347]\n",
      " [0.07196347 1.        ]]\n",
      "Score on validation set: [[1.         0.06177324]\n",
      " [0.06177324 1.        ]]\n",
      "Training phrase 8...\n",
      "Training on ['date_data20180813.pkl', 'date_data20180814.pkl', 'date_data20180815.pkl', 'date_data20180816.pkl', 'date_data20180817.pkl']\n",
      "Validating on date_data20180820.pkl\n",
      "Score on training set: [[1.         0.06916916]\n",
      " [0.06916916 1.        ]]\n",
      "Score on validation set: [[1.         0.05515951]\n",
      " [0.05515951 1.        ]]\n",
      "Training phrase 9...\n",
      "Training on ['date_data20180814.pkl', 'date_data20180815.pkl', 'date_data20180816.pkl', 'date_data20180817.pkl', 'date_data20180820.pkl']\n",
      "Validating on date_data20180821.pkl\n",
      "Score on training set: [[1.         0.06463775]\n",
      " [0.06463775 1.        ]]\n",
      "Score on validation set: [[1.         0.04920134]\n",
      " [0.04920134 1.        ]]\n"
     ]
    }
   ],
   "source": [
    "corrcoef, y_preds, y_truth = model.run()"
   ]
  },
  {
   "cell_type": "code",
   "execution_count": 15,
   "metadata": {},
   "outputs": [
    {
     "name": "stdout",
     "output_type": "stream",
     "text": [
      "[0.08452256300905822, 0.0683064994816764, 0.07411157781158899, 0.04401068728440605, 0.07327787226405831, 0.0710482080214819, 0.06177323839587649, 0.0551595072666944, 0.0492013419391362, 0.08452256300905822, 0.0683064994816764, 0.07411157781158899, 0.04401068728440605, 0.07327787226405831, 0.0710482080214819, 0.06177323839587649, 0.0551595072666944, 0.0492013419391362]\n"
     ]
    }
   ],
   "source": [
    "corrcoef = [x[0][1] for x in corrcoef]\n",
    "print(corrcoef)"
   ]
  },
  {
   "cell_type": "code",
   "execution_count": null,
   "metadata": {},
   "outputs": [],
   "source": []
  }
 ],
 "metadata": {
  "kernelspec": {
   "display_name": "Python 3",
   "language": "python",
   "name": "python3"
  },
  "language_info": {
   "codemirror_mode": {
    "name": "ipython",
    "version": 3
   },
   "file_extension": ".py",
   "mimetype": "text/x-python",
   "name": "python",
   "nbconvert_exporter": "python",
   "pygments_lexer": "ipython3",
   "version": "3.6.8"
  }
 },
 "nbformat": 4,
 "nbformat_minor": 2
}
