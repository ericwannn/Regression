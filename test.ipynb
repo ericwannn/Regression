{
 "cells": [
  {
   "cell_type": "code",
   "execution_count": 1,
   "metadata": {},
   "outputs": [],
   "source": [
    "import pandas as pd\n",
    "import numpy as np\n",
    "from sklearn.linear_model import Ridge\n",
    "from sklearn.kernel_ridge import KernelRidge"
   ]
  },
  {
   "cell_type": "code",
   "execution_count": 22,
   "metadata": {},
   "outputs": [],
   "source": [
    "d = pd.read_pickle('data/date_data/20180820.pkl')"
   ]
  },
  {
   "cell_type": "code",
   "execution_count": 23,
   "metadata": {},
   "outputs": [
    {
     "data": {
      "text/plain": [
       "return_1_min              False\n",
       "return_5_min              False\n",
       "return_15_min             False\n",
       "return_30_min             False\n",
       "avg_delta_bid_size_1      False\n",
       "avg_delta_bid_size_5      False\n",
       "avg_delta_bid_size_15     False\n",
       "avg_delta_ask_size_1      False\n",
       "avg_delta_ask_size_5      False\n",
       "avg_delta_ask_size_15     False\n",
       "bid_size_proportion_1     False\n",
       "bid_size_proportion_5     False\n",
       "bid_size_proportion_15     True\n",
       "buy_volume_1              False\n",
       "buy_volume_5              False\n",
       "buy_volume_15              True\n",
       "sell_volume_1             False\n",
       "sell_volume_5             False\n",
       "sell_volume_15             True\n",
       "proportion_volume_1       False\n",
       "proportion_volume_5       False\n",
       "proportion_volume_15      False\n",
       "lag_return_1              False\n",
       "lag_return_5              False\n",
       "lag_return_15              True\n",
       "dtype: bool"
      ]
     },
     "execution_count": 23,
     "metadata": {},
     "output_type": "execute_result"
    }
   ],
   "source": [
    "np.isnan(d).any()"
   ]
  },
  {
   "cell_type": "code",
   "execution_count": 24,
   "metadata": {},
   "outputs": [
    {
     "data": {
      "text/plain": [
       "Index(['return_1_min', 'return_5_min', 'return_15_min', 'return_30_min',\n",
       "       'avg_delta_bid_size_1', 'avg_delta_bid_size_5', 'avg_delta_bid_size_15',\n",
       "       'avg_delta_ask_size_1', 'avg_delta_ask_size_5', 'avg_delta_ask_size_15',\n",
       "       'bid_size_proportion_1', 'bid_size_proportion_5',\n",
       "       'bid_size_proportion_15', 'buy_volume_1', 'buy_volume_5',\n",
       "       'buy_volume_15', 'sell_volume_1', 'sell_volume_5', 'sell_volume_15',\n",
       "       'proportion_volume_1', 'proportion_volume_5', 'proportion_volume_15',\n",
       "       'lag_return_1', 'lag_return_5', 'lag_return_15'],\n",
       "      dtype='object')"
      ]
     },
     "execution_count": 24,
     "metadata": {},
     "output_type": "execute_result"
    }
   ],
   "source": [
    "d.columns"
   ]
  },
  {
   "cell_type": "code",
   "execution_count": 10,
   "metadata": {},
   "outputs": [
    {
     "data": {
      "text/plain": [
       "34166"
      ]
     },
     "execution_count": 10,
     "metadata": {},
     "output_type": "execute_result"
    }
   ],
   "source": [
    "np.isnan(d['bid_size_proportion_15']).sum()"
   ]
  },
  {
   "cell_type": "code",
   "execution_count": 11,
   "metadata": {},
   "outputs": [
    {
     "data": {
      "text/plain": [
       "34400"
      ]
     },
     "execution_count": 11,
     "metadata": {},
     "output_type": "execute_result"
    }
   ],
   "source": [
    "np.isnan(d['lag_return_15']).sum()"
   ]
  },
  {
   "cell_type": "code",
   "execution_count": 12,
   "metadata": {},
   "outputs": [
    {
     "data": {
      "text/plain": [
       "34166"
      ]
     },
     "execution_count": 12,
     "metadata": {},
     "output_type": "execute_result"
    }
   ],
   "source": [
    "np.isnan(d['buy_volume_15']).sum()"
   ]
  },
  {
   "cell_type": "code",
   "execution_count": null,
   "metadata": {},
   "outputs": [],
   "source": [
    "d.shape"
   ]
  },
  {
   "cell_type": "code",
   "execution_count": null,
   "metadata": {},
   "outputs": [],
   "source": [
    "d[np.isnan(d['lag_return_15'])]"
   ]
  },
  {
   "cell_type": "code",
   "execution_count": null,
   "metadata": {},
   "outputs": [],
   "source": []
  },
  {
   "cell_type": "code",
   "execution_count": null,
   "metadata": {},
   "outputs": [],
   "source": []
  },
  {
   "cell_type": "code",
   "execution_count": null,
   "metadata": {},
   "outputs": [],
   "source": [
    "df = pd.read_pickle('./data/date_data/20180820.pkl')"
   ]
  },
  {
   "cell_type": "code",
   "execution_count": null,
   "metadata": {},
   "outputs": [],
   "source": [
    "df = df.reset_index()"
   ]
  },
  {
   "cell_type": "code",
   "execution_count": null,
   "metadata": {},
   "outputs": [],
   "source": [
    "df[np.isnan(df['buy_volume_15'])]"
   ]
  },
  {
   "cell_type": "code",
   "execution_count": null,
   "metadata": {},
   "outputs": [],
   "source": [
    "df[np.isnan(df['bid_size_proportion_15'])]"
   ]
  },
  {
   "cell_type": "code",
   "execution_count": null,
   "metadata": {},
   "outputs": [],
   "source": [
    "np.isnan(df).any()"
   ]
  },
  {
   "cell_type": "code",
   "execution_count": null,
   "metadata": {},
   "outputs": [],
   "source": []
  },
  {
   "cell_type": "code",
   "execution_count": null,
   "metadata": {},
   "outputs": [],
   "source": []
  },
  {
   "cell_type": "code",
   "execution_count": null,
   "metadata": {},
   "outputs": [],
   "source": []
  },
  {
   "cell_type": "code",
   "execution_count": null,
   "metadata": {},
   "outputs": [],
   "source": [
    "desc = df.describe()"
   ]
  },
  {
   "cell_type": "code",
   "execution_count": null,
   "metadata": {},
   "outputs": [],
   "source": [
    "print(desc)"
   ]
  },
  {
   "cell_type": "code",
   "execution_count": null,
   "metadata": {},
   "outputs": [],
   "source": [
    "desc.loc['max']"
   ]
  },
  {
   "cell_type": "code",
   "execution_count": null,
   "metadata": {},
   "outputs": [],
   "source": [
    "x_columns =  [\n",
    "        'avg_delta_bid_size_1', 'avg_delta_bid_size_5', 'avg_delta_bid_size_15',\n",
    "        'avg_delta_ask_size_1', 'avg_delta_ask_size_5', 'avg_delta_ask_size_15',\n",
    "        'bid_size_proportion_1', 'bid_size_proportion_5', 'bid_size_proportion_15'\n",
    "    ]\n",
    "\n",
    "y_columns = ['return_15_min']"
   ]
  },
  {
   "cell_type": "code",
   "execution_count": null,
   "metadata": {},
   "outputs": [],
   "source": [
    "df = df - df.mean()"
   ]
  },
  {
   "cell_type": "code",
   "execution_count": null,
   "metadata": {},
   "outputs": [],
   "source": [
    "normalize_columns = [\n",
    "        'avg_delta_bid_size_1', 'avg_delta_bid_size_5', 'avg_delta_bid_size_15',\n",
    "        'avg_delta_ask_size_1', 'avg_delta_ask_size_5', 'avg_delta_ask_size_15',\n",
    "        'buy_volume_1', 'buy_volume_5', 'buy_volume_15', 'sell_volume_1', 'sell_volume_5', 'sell_volume_15'\n",
    "]\n",
    "columns = list(set(normalize_columns).intersection(x_columns)) + y_columns"
   ]
  },
  {
   "cell_type": "code",
   "execution_count": null,
   "metadata": {},
   "outputs": [],
   "source": [
    "train = df.copy()\n",
    "train_std = train.std()\n",
    "bound = 5\n",
    "for column in columns:\n",
    "    train.loc[:, column] = train[column] / train_std[column]\n",
    "    train.loc[:, column] = train[column].apply(lambda x: bound if x > bound else -bound if x < -bound else x)"
   ]
  },
  {
   "cell_type": "code",
   "execution_count": null,
   "metadata": {},
   "outputs": [],
   "source": [
    "X_train = train.iloc[:30000][x_columns]\n",
    "X_val = train.iloc[30000:31000][x_columns]\n",
    "y_train = train.iloc[:30000][y_columns].to_numpy().ravel()\n",
    "y_val = train.iloc[30000:31000][y_columns].to_numpy().ravel()\n",
    "model = Ridge(alpha=.0001)\n",
    "model.fit(X_train, y_train)"
   ]
  },
  {
   "cell_type": "code",
   "execution_count": null,
   "metadata": {},
   "outputs": [],
   "source": [
    "model.score(X_val, y_val)"
   ]
  },
  {
   "cell_type": "code",
   "execution_count": null,
   "metadata": {},
   "outputs": [],
   "source": [
    "y_preds = model.predict(X_val)\n",
    "corr = np.corrcoef(y_preds, y_val)"
   ]
  },
  {
   "cell_type": "code",
   "execution_count": null,
   "metadata": {},
   "outputs": [],
   "source": [
    "corr[0][1]"
   ]
  },
  {
   "cell_type": "code",
   "execution_count": 25,
   "metadata": {},
   "outputs": [],
   "source": [
    "a = np.array([1,2,3,4,5])"
   ]
  },
  {
   "cell_type": "code",
   "execution_count": 28,
   "metadata": {},
   "outputs": [
    {
     "data": {
      "text/plain": [
       "array([  1,  16,  81, 256, 625], dtype=int32)"
      ]
     },
     "execution_count": 28,
     "metadata": {},
     "output_type": "execute_result"
    }
   ],
   "source": [
    "np.square(a)"
   ]
  },
  {
   "cell_type": "code",
   "execution_count": 29,
   "metadata": {},
   "outputs": [
    {
     "data": {
      "text/plain": [
       "array([ 1,  4,  9, 16, 25])"
      ]
     },
     "execution_count": 29,
     "metadata": {},
     "output_type": "execute_result"
    }
   ],
   "source": [
    "a"
   ]
  },
  {
   "cell_type": "code",
   "execution_count": null,
   "metadata": {},
   "outputs": [],
   "source": []
  }
 ],
 "metadata": {
  "kernelspec": {
   "display_name": "Python 3",
   "language": "python",
   "name": "python3"
  },
  "language_info": {
   "codemirror_mode": {
    "name": "ipython",
    "version": 3
   },
   "file_extension": ".py",
   "mimetype": "text/x-python",
   "name": "python",
   "nbconvert_exporter": "python",
   "pygments_lexer": "ipython3",
   "version": "3.6.8"
  }
 },
 "nbformat": 4,
 "nbformat_minor": 2
}
