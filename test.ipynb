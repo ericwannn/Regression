{
 "cells": [
  {
   "cell_type": "code",
   "execution_count": 21,
   "metadata": {},
   "outputs": [],
   "source": [
    "import pandas as pd\n",
    "import numpy as np\n",
    "from sklearn.linear_model import Ridge\n",
    "from sklearn.kernel_ridge import KernelRidge"
   ]
  },
  {
   "cell_type": "code",
   "execution_count": 62,
   "metadata": {},
   "outputs": [],
   "source": [
    "df = pd.read_pickle('./data/date_data/date_data20180802.pkl')"
   ]
  },
  {
   "cell_type": "code",
   "execution_count": 63,
   "metadata": {},
   "outputs": [
    {
     "data": {
      "text/plain": [
       "(1852975, 22)"
      ]
     },
     "execution_count": 63,
     "metadata": {},
     "output_type": "execute_result"
    }
   ],
   "source": [
    "df.shape"
   ]
  },
  {
   "cell_type": "code",
   "execution_count": 59,
   "metadata": {},
   "outputs": [],
   "source": [
    "x_columns =  [\n",
    "        'avg_delta_bid_size_1', 'avg_delta_bid_size_5', 'avg_delta_bid_size_15',\n",
    "        'avg_delta_ask_size_1', 'avg_delta_ask_size_5', 'avg_delta_ask_size_15',\n",
    "        'bid_size_proportion_1', 'bid_size_proportion_5', 'bid_size_proportion_15'\n",
    "    ]\n",
    "\n",
    "y_columns = ['return_15_min']"
   ]
  },
  {
   "cell_type": "code",
   "execution_count": 64,
   "metadata": {},
   "outputs": [],
   "source": [
    "df = df - df.mean()"
   ]
  },
  {
   "cell_type": "code",
   "execution_count": 65,
   "metadata": {},
   "outputs": [],
   "source": [
    "normalize_columns = [\n",
    "        'avg_delta_bid_size_1', 'avg_delta_bid_size_5', 'avg_delta_bid_size_15',\n",
    "        'avg_delta_ask_size_1', 'avg_delta_ask_size_5', 'avg_delta_ask_size_15',\n",
    "        'buy_volume_1', 'buy_volume_5', 'buy_volume_15', 'sell_volume_1', 'sell_volume_5', 'sell_volume_15'\n",
    "]\n",
    "columns = list(set(normalize_columns).intersection(x_columns)) + y_columns"
   ]
  },
  {
   "cell_type": "code",
   "execution_count": 66,
   "metadata": {},
   "outputs": [],
   "source": [
    "train = df.copy()\n",
    "train_std = train.std()\n",
    "bound = 5\n",
    "for column in columns:\n",
    "    train.loc[:, column] = train[column] / train_std[column]\n",
    "    train.loc[:, column] = train[column].apply(lambda x: bound if x > bound else -bound if x < -bound else x)"
   ]
  },
  {
   "cell_type": "code",
   "execution_count": 67,
   "metadata": {},
   "outputs": [
    {
     "data": {
      "text/plain": [
       "Ridge(alpha=0.0001, copy_X=True, fit_intercept=True, max_iter=None,\n",
       "      normalize=False, random_state=None, solver='auto', tol=0.001)"
      ]
     },
     "execution_count": 67,
     "metadata": {},
     "output_type": "execute_result"
    }
   ],
   "source": [
    "X_train = train.iloc[:30000][x_columns]\n",
    "X_val = train.iloc[30000:31000][x_columns]\n",
    "y_train = train.iloc[:30000][y_columns].to_numpy().ravel()\n",
    "y_val = train.iloc[30000:31000][y_columns].to_numpy().ravel()\n",
    "model = Ridge(alpha=.0001)\n",
    "model.fit(X_train, y_train)"
   ]
  },
  {
   "cell_type": "code",
   "execution_count": 68,
   "metadata": {},
   "outputs": [
    {
     "data": {
      "text/plain": [
       "-0.977646126180432"
      ]
     },
     "execution_count": 68,
     "metadata": {},
     "output_type": "execute_result"
    }
   ],
   "source": [
    "model.score(X_val, y_val)"
   ]
  },
  {
   "cell_type": "code",
   "execution_count": 70,
   "metadata": {},
   "outputs": [],
   "source": [
    "y_preds = model.predict(X_val)\n",
    "corr = np.corrcoef(y_preds, y_val)"
   ]
  },
  {
   "cell_type": "code",
   "execution_count": 72,
   "metadata": {},
   "outputs": [
    {
     "data": {
      "text/plain": [
       "0.432124590230478"
      ]
     },
     "execution_count": 72,
     "metadata": {},
     "output_type": "execute_result"
    }
   ],
   "source": [
    "corr[0][1]"
   ]
  },
  {
   "cell_type": "code",
   "execution_count": null,
   "metadata": {},
   "outputs": [],
   "source": []
  },
  {
   "cell_type": "code",
   "execution_count": 54,
   "metadata": {},
   "outputs": [
    {
     "name": "stdout",
     "output_type": "stream",
     "text": [
      "-- Epoch 1\n",
      "Norm: 0.11, NNZs: 0, Bias: 0.000151, T: 5558925, Avg. loss: 0.000002\n",
      "Total training time: 1.27 seconds.\n",
      "-- Epoch 2\n",
      "Norm: 0.16, NNZs: 0, Bias: 0.000143, T: 11117850, Avg. loss: 0.000002\n",
      "Total training time: 2.52 seconds.\n",
      "-- Epoch 3\n",
      "Norm: 0.19, NNZs: 0, Bias: 0.000175, T: 16676775, Avg. loss: 0.000002\n",
      "Total training time: 3.78 seconds.\n",
      "-- Epoch 4\n",
      "Norm: 0.22, NNZs: 0, Bias: -0.000070, T: 22235700, Avg. loss: 0.000002\n",
      "Total training time: 5.04 seconds.\n",
      "-- Epoch 5\n",
      "Norm: 0.25, NNZs: 0, Bias: 0.000168, T: 27794625, Avg. loss: 0.000002\n",
      "Total training time: 6.30 seconds.\n",
      "-- Epoch 6\n",
      "Norm: 0.27, NNZs: 0, Bias: 0.000109, T: 33353550, Avg. loss: 0.000002\n",
      "Total training time: 7.55 seconds.\n",
      "-- Epoch 7\n",
      "Norm: 0.28, NNZs: 0, Bias: -0.000078, T: 38912475, Avg. loss: 0.000002\n",
      "Total training time: 8.81 seconds.\n",
      "-- Epoch 8\n",
      "Norm: 0.28, NNZs: 0, Bias: 0.000164, T: 44471400, Avg. loss: 0.000002\n",
      "Total training time: 10.06 seconds.\n",
      "-- Epoch 9\n",
      "Norm: 0.28, NNZs: 0, Bias: -0.000099, T: 50030325, Avg. loss: 0.000002\n",
      "Total training time: 11.37 seconds.\n",
      "-- Epoch 10\n",
      "Norm: 0.28, NNZs: 0, Bias: 0.000029, T: 55589250, Avg. loss: 0.000002\n",
      "Total training time: 12.66 seconds.\n",
      "-- Epoch 11\n",
      "Norm: 0.28, NNZs: 0, Bias: 0.000011, T: 61148175, Avg. loss: 0.000002\n",
      "Total training time: 13.93 seconds.\n",
      "-- Epoch 12\n",
      "Norm: 0.28, NNZs: 0, Bias: -0.000092, T: 66707100, Avg. loss: 0.000002\n",
      "Total training time: 15.19 seconds.\n",
      "-- Epoch 13\n",
      "Norm: 0.28, NNZs: 0, Bias: -0.000009, T: 72266025, Avg. loss: 0.000002\n",
      "Total training time: 16.48 seconds.\n",
      "-- Epoch 14\n",
      "Norm: 0.28, NNZs: 0, Bias: -0.000012, T: 77824950, Avg. loss: 0.000002\n",
      "Total training time: 17.74 seconds.\n",
      "-- Epoch 15\n",
      "Norm: 0.28, NNZs: 0, Bias: 0.000006, T: 83383875, Avg. loss: 0.000002\n",
      "Total training time: 18.99 seconds.\n",
      "-- Epoch 16\n",
      "Norm: 0.28, NNZs: 0, Bias: 0.000005, T: 88942800, Avg. loss: 0.000002\n",
      "Total training time: 20.25 seconds.\n",
      "-- Epoch 17\n",
      "Norm: 0.28, NNZs: 0, Bias: 0.000003, T: 94501725, Avg. loss: 0.000002\n",
      "Total training time: 21.54 seconds.\n",
      "-- Epoch 18\n",
      "Norm: 0.28, NNZs: 0, Bias: 0.000013, T: 100060650, Avg. loss: 0.000002\n",
      "Total training time: 22.78 seconds.\n",
      "-- Epoch 19\n",
      "Norm: 0.28, NNZs: 0, Bias: -0.000009, T: 105619575, Avg. loss: 0.000002\n",
      "Total training time: 24.02 seconds.\n",
      "-- Epoch 20\n",
      "Norm: 0.28, NNZs: 0, Bias: 0.000026, T: 111178500, Avg. loss: 0.000002\n",
      "Total training time: 25.28 seconds.\n",
      "-- Epoch 21\n",
      "Norm: 0.28, NNZs: 0, Bias: -0.000023, T: 116737425, Avg. loss: 0.000002\n",
      "Total training time: 26.53 seconds.\n",
      "-- Epoch 22\n",
      "Norm: 0.28, NNZs: 0, Bias: 0.000004, T: 122296350, Avg. loss: 0.000002\n",
      "Total training time: 27.77 seconds.\n",
      "-- Epoch 23\n",
      "Norm: 0.28, NNZs: 0, Bias: 0.000004, T: 127855275, Avg. loss: 0.000002\n",
      "Total training time: 29.00 seconds.\n",
      "-- Epoch 24\n",
      "Norm: 0.28, NNZs: 0, Bias: 0.000003, T: 133414200, Avg. loss: 0.000002\n",
      "Total training time: 30.26 seconds.\n",
      "-- Epoch 25\n",
      "Norm: 0.28, NNZs: 0, Bias: -0.000006, T: 138973125, Avg. loss: 0.000002\n",
      "Total training time: 31.52 seconds.\n",
      "-- Epoch 26\n",
      "Norm: 0.28, NNZs: 0, Bias: -0.000001, T: 144532050, Avg. loss: 0.000002\n",
      "Total training time: 32.77 seconds.\n",
      "-- Epoch 27\n",
      "Norm: 0.28, NNZs: 0, Bias: -0.000001, T: 150090975, Avg. loss: 0.000002\n",
      "Total training time: 34.03 seconds.\n",
      "-- Epoch 28\n",
      "Norm: 0.28, NNZs: 0, Bias: 0.000004, T: 155649900, Avg. loss: 0.000002\n",
      "Total training time: 35.40 seconds.\n",
      "-- Epoch 29\n",
      "Norm: 0.28, NNZs: 0, Bias: -0.000004, T: 161208825, Avg. loss: 0.000002\n",
      "Total training time: 36.67 seconds.\n",
      "-- Epoch 30\n",
      "Norm: 0.28, NNZs: 0, Bias: 0.000001, T: 166767750, Avg. loss: 0.000002\n",
      "Total training time: 37.96 seconds.\n",
      "-- Epoch 31\n",
      "Norm: 0.28, NNZs: 0, Bias: -0.000000, T: 172326675, Avg. loss: 0.000002\n",
      "Total training time: 39.22 seconds.\n",
      "-- Epoch 32\n",
      "Norm: 0.28, NNZs: 0, Bias: -0.000000, T: 177885600, Avg. loss: 0.000002\n",
      "Total training time: 40.48 seconds.\n",
      "-- Epoch 33\n",
      "Norm: 0.28, NNZs: 0, Bias: -0.000000, T: 183444525, Avg. loss: 0.000002\n",
      "Total training time: 41.73 seconds.\n",
      "-- Epoch 34\n",
      "Norm: 0.28, NNZs: 0, Bias: -0.000000, T: 189003450, Avg. loss: 0.000002\n",
      "Total training time: 42.98 seconds.\n",
      "-- Epoch 35\n",
      "Norm: 0.28, NNZs: 0, Bias: -0.000000, T: 194562375, Avg. loss: 0.000002\n",
      "Total training time: 44.26 seconds.\n",
      "-- Epoch 36\n",
      "Norm: 0.28, NNZs: 0, Bias: 0.000001, T: 200121300, Avg. loss: 0.000002\n",
      "Total training time: 45.50 seconds.\n",
      "Convergence after 36 epochs took 45.50 seconds\n"
     ]
    },
    {
     "data": {
      "text/plain": [
       "SGDRegressor(alpha=0.0001, average=False, early_stopping=False, epsilon=0.1,\n",
       "             eta0=0.01, fit_intercept=True, l1_ratio=0.15,\n",
       "             learning_rate='adaptive', loss='squared_loss', max_iter=1000,\n",
       "             n_iter_no_change=5, penalty='l1', power_t=0.25, random_state=None,\n",
       "             shuffle=True, tol=1e-08, validation_fraction=0.1, verbose=1,\n",
       "             warm_start=False)"
      ]
     },
     "execution_count": 54,
     "metadata": {},
     "output_type": "execute_result"
    }
   ],
   "source": [
    "from sklearn.linear_model import SGDRegressor\n",
    "\n",
    "reg = SGDRegressor(penalty='l1', tol=1e-8, verbose=1, learning_rate='adaptive')\n",
    "reg.fit(train[x_columns], train[y_columns].to_numpy().ravel())"
   ]
  },
  {
   "cell_type": "code",
   "execution_count": 55,
   "metadata": {},
   "outputs": [
    {
     "data": {
      "text/plain": [
       "-1.1227596008467344e-07"
      ]
     },
     "execution_count": 55,
     "metadata": {},
     "output_type": "execute_result"
    }
   ],
   "source": [
    "reg.score(train[x_columns], train[y_columns].to_numpy().ravel())"
   ]
  },
  {
   "cell_type": "code",
   "execution_count": null,
   "metadata": {},
   "outputs": [],
   "source": []
  },
  {
   "cell_type": "code",
   "execution_count": 39,
   "metadata": {},
   "outputs": [
    {
     "data": {
      "text/plain": [
       "0.005446481018738347"
      ]
     },
     "execution_count": 39,
     "metadata": {},
     "output_type": "execute_result"
    }
   ],
   "source": [
    "model.score(val[x_columns], val[y_columns])"
   ]
  },
  {
   "cell_type": "code",
   "execution_count": 35,
   "metadata": {},
   "outputs": [
    {
     "data": {
      "text/plain": [
       "0.005565111406516943"
      ]
     },
     "execution_count": 35,
     "metadata": {},
     "output_type": "execute_result"
    }
   ],
   "source": [
    "model.score(train[x_columns], train[y_columns])"
   ]
  },
  {
   "cell_type": "code",
   "execution_count": 42,
   "metadata": {},
   "outputs": [],
   "source": [
    "del model"
   ]
  },
  {
   "cell_type": "code",
   "execution_count": 74,
   "metadata": {},
   "outputs": [],
   "source": [
    "x = pd.DataFrame(list(range(10)))"
   ]
  },
  {
   "cell_type": "code",
   "execution_count": 77,
   "metadata": {},
   "outputs": [
    {
     "data": {
      "text/html": [
       "<div>\n",
       "<style scoped>\n",
       "    .dataframe tbody tr th:only-of-type {\n",
       "        vertical-align: middle;\n",
       "    }\n",
       "\n",
       "    .dataframe tbody tr th {\n",
       "        vertical-align: top;\n",
       "    }\n",
       "\n",
       "    .dataframe thead th {\n",
       "        text-align: right;\n",
       "    }\n",
       "</style>\n",
       "<table border=\"1\" class=\"dataframe\">\n",
       "  <thead>\n",
       "    <tr style=\"text-align: right;\">\n",
       "      <th></th>\n",
       "      <th>0</th>\n",
       "      <th>0</th>\n",
       "      <th>0</th>\n",
       "    </tr>\n",
       "  </thead>\n",
       "  <tbody>\n",
       "    <tr>\n",
       "      <th>0</th>\n",
       "      <td>5.0</td>\n",
       "      <td>6.0</td>\n",
       "      <td>7.0</td>\n",
       "    </tr>\n",
       "    <tr>\n",
       "      <th>1</th>\n",
       "      <td>5.0</td>\n",
       "      <td>6.0</td>\n",
       "      <td>7.0</td>\n",
       "    </tr>\n",
       "    <tr>\n",
       "      <th>2</th>\n",
       "      <td>5.0</td>\n",
       "      <td>6.0</td>\n",
       "      <td>7.0</td>\n",
       "    </tr>\n",
       "    <tr>\n",
       "      <th>3</th>\n",
       "      <td>5.0</td>\n",
       "      <td>6.0</td>\n",
       "      <td>NaN</td>\n",
       "    </tr>\n",
       "    <tr>\n",
       "      <th>4</th>\n",
       "      <td>5.0</td>\n",
       "      <td>NaN</td>\n",
       "      <td>NaN</td>\n",
       "    </tr>\n",
       "    <tr>\n",
       "      <th>5</th>\n",
       "      <td>NaN</td>\n",
       "      <td>NaN</td>\n",
       "      <td>NaN</td>\n",
       "    </tr>\n",
       "    <tr>\n",
       "      <th>6</th>\n",
       "      <td>NaN</td>\n",
       "      <td>NaN</td>\n",
       "      <td>NaN</td>\n",
       "    </tr>\n",
       "    <tr>\n",
       "      <th>7</th>\n",
       "      <td>NaN</td>\n",
       "      <td>NaN</td>\n",
       "      <td>NaN</td>\n",
       "    </tr>\n",
       "    <tr>\n",
       "      <th>8</th>\n",
       "      <td>NaN</td>\n",
       "      <td>NaN</td>\n",
       "      <td>NaN</td>\n",
       "    </tr>\n",
       "    <tr>\n",
       "      <th>9</th>\n",
       "      <td>NaN</td>\n",
       "      <td>NaN</td>\n",
       "      <td>NaN</td>\n",
       "    </tr>\n",
       "  </tbody>\n",
       "</table>\n",
       "</div>"
      ],
      "text/plain": [
       "     0    0    0\n",
       "0  5.0  6.0  7.0\n",
       "1  5.0  6.0  7.0\n",
       "2  5.0  6.0  7.0\n",
       "3  5.0  6.0  NaN\n",
       "4  5.0  NaN  NaN\n",
       "5  NaN  NaN  NaN\n",
       "6  NaN  NaN  NaN\n",
       "7  NaN  NaN  NaN\n",
       "8  NaN  NaN  NaN\n",
       "9  NaN  NaN  NaN"
      ]
     },
     "execution_count": 77,
     "metadata": {},
     "output_type": "execute_result"
    }
   ],
   "source": [
    "pd.concat([x.shift(-i) - x for i in range(5, 8)],axis=1)"
   ]
  },
  {
   "cell_type": "code",
   "execution_count": null,
   "metadata": {},
   "outputs": [],
   "source": []
  }
 ],
 "metadata": {
  "kernelspec": {
   "display_name": "Python 3",
   "language": "python",
   "name": "python3"
  },
  "language_info": {
   "codemirror_mode": {
    "name": "ipython",
    "version": 3
   },
   "file_extension": ".py",
   "mimetype": "text/x-python",
   "name": "python",
   "nbconvert_exporter": "python",
   "pygments_lexer": "ipython3",
   "version": "3.6.8"
  }
 },
 "nbformat": 4,
 "nbformat_minor": 2
}
