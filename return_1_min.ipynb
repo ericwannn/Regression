{
 "cells": [
  {
   "cell_type": "markdown",
   "metadata": {},
   "source": [
    "# Model Training"
   ]
  },
  {
   "cell_type": "code",
   "execution_count": 1,
   "metadata": {},
   "outputs": [],
   "source": [
    "from __future__ import print_function\n",
    "from __future__ import division\n",
    "\n",
    "import pickle\n",
    "import pandas as pd \n",
    "import numpy as np\n",
    "from sklearn.linear_model import Ridge\n",
    "\n",
    "from src.data_reader import Dataset\n",
    "from src.model import Model\n",
    "from src.utils import get_leaf_file_names"
   ]
  },
  {
   "cell_type": "markdown",
   "metadata": {},
   "source": [
    "# Configurations"
   ]
  },
  {
   "cell_type": "code",
   "execution_count": 2,
   "metadata": {},
   "outputs": [],
   "source": [
    "# Global config\n",
    "_RAW_DATA_PATH = './data/rawdata'\n",
    "_DATA_PATH = './data/date_data'\n",
    "_OUTPUT_DIR = './output/'\n",
    "\n",
    "# Data configuration\n",
    "_TIME_FRAME_SIZE_Y = (1, 5, 15, 30)\n",
    "_TIME_FRAME_SIZE_X = (1, 5, 15)\n",
    "_X_1 = [\n",
    "    'avg_delta_bid_size_1', 'avg_delta_bid_size_5', 'avg_delta_bid_size_15',\n",
    "    'avg_delta_ask_size_1', 'avg_delta_ask_size_5', 'avg_delta_ask_size_15',\n",
    "    'bid_size_proportion_1', 'bid_size_proportion_5', 'bid_size_proportion_15'\n",
    "]\n",
    "_X_2 = [\n",
    "    'buy_volume_1', 'buy_volume_5', 'buy_volume_15', 'sell_volume_1', 'sell_volume_5',\n",
    "    'sell_volume_15', 'proportion_volume_1', 'proportion_volume_5', 'proportion_volume_15'\n",
    "]\n",
    "_X_3 = [\n",
    "    'lag_return_1', 'lag_return_5', 'lag_return_15'\n",
    "]\n",
    "\n",
    "_Y_1, _Y_2, _Y_3, _Y_4 = ['return_1_min', 'return_5_min', 'return_15_min', 'return_30_min']\n",
    "\n",
    "_COLUMNS_TO_NORMALIZE = [\n",
    "    'avg_delta_bid_size_1', 'avg_delta_bid_size_5', 'avg_delta_bid_size_15',\n",
    "    'avg_delta_ask_size_1', 'avg_delta_ask_size_5', 'avg_delta_ask_size_15',\n",
    "    'buy_volume_1', 'buy_volume_5', 'buy_volume_15', 'sell_volume_1', 'sell_volume_5', 'sell_volume_15'\n",
    "]"
   ]
  },
  {
   "cell_type": "markdown",
   "metadata": {},
   "source": [
    "## Data and model config"
   ]
  },
  {
   "cell_type": "code",
   "execution_count": 3,
   "metadata": {},
   "outputs": [],
   "source": [
    "# Training configuration\n",
    "_TEST_SET_SIZE = 2\n",
    "_SLIDING_WINDOW_SIZE = 15\n",
    "_CHUNK_SIZE = 3901 * 2\n",
    "_MODEL_RIDGE = Ridge\n",
    "_PARAMS_RIDGE = {\n",
    "    'alpha': 1,\n",
    "    'random_state': 100\n",
    "}"
   ]
  },
  {
   "cell_type": "markdown",
   "metadata": {},
   "source": [
    "## Prepare training set"
   ]
  },
  {
   "cell_type": "code",
   "execution_count": 5,
   "metadata": {},
   "outputs": [
    {
     "name": "stdout",
     "output_type": "stream",
     "text": [
      "['./data/date_data/20180806.pkl', './data/date_data/20180807.pkl', './data/date_data/20180808.pkl', './data/date_data/20180809.pkl', './data/date_data/20180810.pkl', './data/date_data/20180813.pkl', './data/date_data/20180814.pkl', './data/date_data/20180815.pkl', './data/date_data/20180816.pkl', './data/date_data/20180817.pkl', './data/date_data/20180820.pkl', './data/date_data/20180821.pkl', './data/date_data/20180822.pkl', './data/date_data/20180823.pkl', './data/date_data/20180824.pkl', './data/date_data/20180827.pkl', './data/date_data/20180828.pkl', './data/date_data/20180829.pkl']\n"
     ]
    }
   ],
   "source": [
    "# Prepare dataset\n",
    "date_files = get_leaf_file_names(_DATA_PATH)\n",
    "data_train = date_files[-_TEST_SET_SIZE - 18: -_TEST_SET_SIZE]\n",
    "print(data_train)"
   ]
  },
  {
   "cell_type": "markdown",
   "metadata": {},
   "source": [
    "## Prepare test set"
   ]
  },
  {
   "cell_type": "code",
   "execution_count": 6,
   "metadata": {},
   "outputs": [
    {
     "name": "stdout",
     "output_type": "stream",
     "text": [
      "['./data/date_data/20180830.pkl', './data/date_data/20180831.pkl']\n"
     ]
    }
   ],
   "source": [
    "data_test = date_files[-_TEST_SET_SIZE:]\n",
    "print(data_test)"
   ]
  },
  {
   "cell_type": "markdown",
   "metadata": {},
   "source": [
    "## Train model with all regressors"
   ]
  },
  {
   "cell_type": "code",
   "execution_count": 8,
   "metadata": {},
   "outputs": [
    {
     "name": "stdout",
     "output_type": "stream",
     "text": [
      "Reading file ['./data/date_data/20180806.pkl', './data/date_data/20180807.pkl', './data/date_data/20180808.pkl', './data/date_data/20180809.pkl', './data/date_data/20180810.pkl', './data/date_data/20180813.pkl', './data/date_data/20180814.pkl', './data/date_data/20180815.pkl', './data/date_data/20180816.pkl', './data/date_data/20180817.pkl', './data/date_data/20180820.pkl', './data/date_data/20180821.pkl', './data/date_data/20180822.pkl', './data/date_data/20180823.pkl', './data/date_data/20180824.pkl']\n",
      "Reading file ./data/date_data/20180827.pkl\n",
      "------------------------------------------------------------\n",
      "Training phrase 1...\n",
      "Training on ['20180806.pkl', '20180807.pkl', '20180808.pkl', '20180809.pkl', '20180810.pkl', '20180813.pkl', '20180814.pkl', '20180815.pkl', '20180816.pkl', '20180817.pkl', '20180820.pkl', '20180821.pkl', '20180822.pkl', '20180823.pkl', '20180824.pkl']\n",
      "Validating on 20180827.pkl\n",
      "Corrcoef on training set: 0.2626562560543392\n",
      "Corrcoef on validation set: 0.279461647313424\n",
      "[16.39327145968022, 0.41744032208210075, 5.990559479643713, -11.318581233036099, -9.164787520500616, -4.545963688848074, 159.0928703224831, -97.47148517497659, -30.782882989175405, -97.98816457737077, 20.78565954562976, 63.18143966829911, 175.41567196701516, -63.648293468267624, -73.40295403086586, 246.25025913802244, 39.32392992179747, -100.63443453053988, -307.8343763909854, -118.23328321513637, 2.410441110432383]\n",
      "{   'R_square': 0.07376214667381487,\n",
      "    'stats':                    Feature          Coef     T-value\n",
      "0     avg_delta_bid_size_1  3.266015e-05   16.393271\n",
      "1     avg_delta_bid_size_5  8.546507e-07    0.417440\n",
      "2    avg_delta_bid_size_15  1.142788e-05    5.990559\n",
      "3     avg_delta_ask_size_1 -2.076213e-05  -11.318581\n",
      "4     avg_delta_ask_size_5 -1.776425e-05   -9.164788\n",
      "5    avg_delta_ask_size_15 -8.886636e-06   -4.545964\n",
      "6    bid_size_proportion_1  1.251121e-03  159.092870\n",
      "7    bid_size_proportion_5 -7.982980e-04  -97.471485\n",
      "8   bid_size_proportion_15 -2.670869e-04  -30.782883\n",
      "9             buy_volume_1 -3.307970e-04  -97.988165\n",
      "10            buy_volume_5  6.672193e-05   20.785660\n",
      "11           buy_volume_15  1.980886e-04   63.181440\n",
      "12           sell_volume_1  5.976267e-04  175.415672\n",
      "13           sell_volume_5 -2.145142e-04  -63.648293\n",
      "14          sell_volume_15 -2.408512e-04  -73.402954\n",
      "15     proportion_volume_1  2.438887e-03  246.250259\n",
      "16     proportion_volume_5  5.398607e-04   39.323930\n",
      "17    proportion_volume_15 -1.677242e-03 -100.634435\n",
      "18            lag_return_1 -2.156948e-01 -307.834376\n",
      "19            lag_return_5 -4.938423e-02 -118.233283\n",
      "20           lag_return_15  5.338241e-04    2.410441}\n",
      "------------------------------------------------------------\n",
      "\n",
      "Reading file ./data/date_data/20180828.pkl\n",
      "------------------------------------------------------------\n",
      "Training phrase 2...\n",
      "Training on ['20180807.pkl', '20180808.pkl', '20180809.pkl', '20180810.pkl', '20180813.pkl', '20180814.pkl', '20180815.pkl', '20180816.pkl', '20180817.pkl', '20180820.pkl', '20180821.pkl', '20180822.pkl', '20180823.pkl', '20180824.pkl', '20180827.pkl']\n",
      "Validating on 20180828.pkl\n",
      "Corrcoef on training set: 0.26011403267015887\n",
      "Corrcoef on validation set: 0.29162672512261756\n",
      "[20.419637431431177, -1.1345003337257453, 6.7426726672560156, -11.223589006298086, -10.477443715644313, -11.061093522454751, 171.01097254681468, -110.62652277365227, -66.60375557169465, -126.40353141141124, 33.39837108373555, 75.70805065855825, 201.2392778250511, -74.10461250361813, -96.21186319552605, 219.09699149678985, 34.511600451761986, -149.91953805445792, -312.6664400238235, -110.04274517519825, 8.701614999138933]\n",
      "{   'R_square': 0.08466740040352971,\n",
      "    'stats':                    Feature      Coef     T-value\n",
      "0     avg_delta_bid_size_1  0.000031   20.419637\n",
      "1     avg_delta_bid_size_5 -0.000002   -1.134500\n",
      "2    avg_delta_bid_size_15  0.000010    6.742673\n",
      "3     avg_delta_ask_size_1 -0.000018  -11.223589\n",
      "4     avg_delta_ask_size_5 -0.000015  -10.477444\n",
      "5    avg_delta_ask_size_15 -0.000016  -11.061094\n",
      "6    bid_size_proportion_1  0.001198  171.010973\n",
      "7    bid_size_proportion_5 -0.000802 -110.626523\n",
      "8   bid_size_proportion_15 -0.000508  -66.603756\n",
      "9             buy_volume_1 -0.000298 -126.403531\n",
      "10            buy_volume_5  0.000076   33.398371\n",
      "11           buy_volume_15  0.000170   75.708051\n",
      "12           sell_volume_1  0.000571  201.239278\n",
      "13           sell_volume_5 -0.000208  -74.104613\n",
      "14          sell_volume_15 -0.000273  -96.211863\n",
      "15     proportion_volume_1  0.002273  219.096991\n",
      "16     proportion_volume_5  0.000502   34.511600\n",
      "17    proportion_volume_15 -0.002579 -149.919538\n",
      "18            lag_return_1 -0.217914 -312.666440\n",
      "19            lag_return_5 -0.046828 -110.042745\n",
      "20           lag_return_15  0.002133    8.701615}\n",
      "------------------------------------------------------------\n",
      "\n",
      "Reading file ./data/date_data/20180829.pkl\n",
      "------------------------------------------------------------\n",
      "Training phrase 3...\n",
      "Training on ['20180808.pkl', '20180809.pkl', '20180810.pkl', '20180813.pkl', '20180814.pkl', '20180815.pkl', '20180816.pkl', '20180817.pkl', '20180820.pkl', '20180821.pkl', '20180822.pkl', '20180823.pkl', '20180824.pkl', '20180827.pkl', '20180828.pkl']\n",
      "Validating on 20180829.pkl\n",
      "Corrcoef on training set: 0.2646732681373492\n",
      "Corrcoef on validation set: 0.30090723036357353\n",
      "[17.887663705830956, -1.4171095718368822, 7.918885959430572, -7.7700186553957264, -7.651304107490152, -8.41596330426883, 176.60344801163578, -112.83143318068892, -72.56312283106261, -96.75672035752991, 35.20813217995416, 44.400769203346385, 206.60246249777896, -76.08914942717745, -95.50664421639895, 209.5633276939055, 37.33409724322458, -155.12436050375402, -317.63467464016605, -114.9294148087809, 6.736264060831792]\n",
      "{   'R_square': 0.08921506600064266,\n",
      "    'stats':                    Feature      Coef     T-value\n",
      "0     avg_delta_bid_size_1  0.000027   17.887664\n",
      "1     avg_delta_bid_size_5 -0.000002   -1.417110\n",
      "2    avg_delta_bid_size_15  0.000012    7.918886\n",
      "3     avg_delta_ask_size_1 -0.000013   -7.770019\n",
      "4     avg_delta_ask_size_5 -0.000013   -7.651304\n",
      "5    avg_delta_ask_size_15 -0.000014   -8.415963\n",
      "6    bid_size_proportion_1  0.001153  176.603448\n",
      "7    bid_size_proportion_5 -0.000757 -112.831433\n",
      "8   bid_size_proportion_15 -0.000505  -72.563123\n",
      "9             buy_volume_1 -0.000289  -96.756720\n",
      "10            buy_volume_5  0.000105   35.208132\n",
      "11           buy_volume_15  0.000131   44.400769\n",
      "12           sell_volume_1  0.000547  206.602462\n",
      "13           sell_volume_5 -0.000201  -76.089149\n",
      "14          sell_volume_15 -0.000259  -95.506644\n",
      "15     proportion_volume_1  0.002209  209.563328\n",
      "16     proportion_volume_5  0.000534   37.334097\n",
      "17    proportion_volume_15 -0.002587 -155.124361\n",
      "18            lag_return_1 -0.220625 -317.634675\n",
      "19            lag_return_5 -0.049305 -114.929415\n",
      "20           lag_return_15  0.001812    6.736264}\n",
      "------------------------------------------------------------\n",
      "\n"
     ]
    }
   ],
   "source": [
    "# Train model with different parameters\n",
    "model = Model(\n",
    "    X=_X_1+_X_2+_X_3, y=_Y_1, model=_MODEL_RIDGE, params=_PARAMS_RIDGE, output_model_name = './output/models/models_y1_all_x',\n",
    "    data_files=data_train, columns_to_normalize=_COLUMNS_TO_NORMALIZE,\n",
    "    window_size=_SLIDING_WINDOW_SIZE, days_as_window=True\n",
    ")\n",
    "stats, corrcoef = model.run()"
   ]
  },
  {
   "cell_type": "markdown",
   "metadata": {},
   "source": [
    "## Validate model on test set"
   ]
  },
  {
   "cell_type": "code",
   "execution_count": 22,
   "metadata": {},
   "outputs": [],
   "source": [
    "with open(_OUTPUT_DIR + 'models/models_y1_all_x_1.pickle', 'rb') as file:\n",
    "    _model = pickle.load(file)"
   ]
  },
  {
   "cell_type": "code",
   "execution_count": 23,
   "metadata": {},
   "outputs": [
    {
     "name": "stdout",
     "output_type": "stream",
     "text": [
      "Reading file ./data/date_data/20180830.pkl\n",
      "[-269.4180054407369, -96.89480199894531, -9.591284412670374]\n",
      "{   'R_square': 0.07788204876829219,\n",
      "    'stats':          Feature      Coef     T-value\n",
      "0   lag_return_1 -0.188591 -269.418005\n",
      "1   lag_return_5 -0.042169  -96.894802\n",
      "2  lag_return_15 -0.002285   -9.591284}\n",
      "Reading file ./data/date_data/20180831.pkl\n",
      "[-268.3779176156266, -99.36015629445369, -13.071794927632688]\n",
      "{   'R_square': 0.0698260839972209,\n",
      "    'stats':          Feature      Coef     T-value\n",
      "0   lag_return_1 -0.188591 -268.377918\n",
      "1   lag_return_5 -0.042169  -99.360156\n",
      "2  lag_return_15 -0.002285  -13.071795}\n"
     ]
    }
   ],
   "source": [
    "result = model.test(data_test, _model)"
   ]
  },
  {
   "cell_type": "markdown",
   "metadata": {},
   "source": [
    "## Train model with x1 (average of delta of bid/ask size)"
   ]
  },
  {
   "cell_type": "code",
   "execution_count": 10,
   "metadata": {},
   "outputs": [
    {
     "name": "stdout",
     "output_type": "stream",
     "text": [
      "Reading file ['./data/date_data/20180806.pkl', './data/date_data/20180807.pkl', './data/date_data/20180808.pkl', './data/date_data/20180809.pkl', './data/date_data/20180810.pkl', './data/date_data/20180813.pkl', './data/date_data/20180814.pkl', './data/date_data/20180815.pkl', './data/date_data/20180816.pkl', './data/date_data/20180817.pkl', './data/date_data/20180820.pkl', './data/date_data/20180821.pkl', './data/date_data/20180822.pkl', './data/date_data/20180823.pkl', './data/date_data/20180824.pkl']\n",
      "Reading file ./data/date_data/20180827.pkl\n",
      "------------------------------------------------------------\n",
      "Training phrase 1...\n",
      "Training on ['20180806.pkl', '20180807.pkl', '20180808.pkl', '20180809.pkl', '20180810.pkl', '20180813.pkl', '20180814.pkl', '20180815.pkl', '20180816.pkl', '20180817.pkl', '20180820.pkl', '20180821.pkl', '20180822.pkl', '20180823.pkl', '20180824.pkl']\n",
      "Validating on 20180827.pkl\n",
      "Corrcoef on training set: 0.06324227825423444\n",
      "Corrcoef on validation set: 0.07030606243403467\n",
      "[31.498291881031108, 1.901704351859128, 6.224894161397235, -38.49139595630232, -12.818568566876193, -3.417621717034313, 171.2277473240344, -132.1501799667959, -21.00432180185984]\n",
      "{   'R_square': 0.003471152378655473,\n",
      "    'stats':                   Feature      Coef     T-value\n",
      "0    avg_delta_bid_size_1  0.000065   31.498292\n",
      "1    avg_delta_bid_size_5  0.000004    1.901704\n",
      "2   avg_delta_bid_size_15  0.000012    6.224894\n",
      "3    avg_delta_ask_size_1 -0.000073  -38.491396\n",
      "4    avg_delta_ask_size_5 -0.000026  -12.818569\n",
      "5   avg_delta_ask_size_15 -0.000007   -3.417622\n",
      "6   bid_size_proportion_1  0.001397  171.227747\n",
      "7   bid_size_proportion_5 -0.001123 -132.150180\n",
      "8  bid_size_proportion_15 -0.000189  -21.004322}\n",
      "------------------------------------------------------------\n",
      "\n",
      "Reading file ./data/date_data/20180828.pkl\n",
      "------------------------------------------------------------\n",
      "Training phrase 2...\n",
      "Training on ['20180807.pkl', '20180808.pkl', '20180809.pkl', '20180810.pkl', '20180813.pkl', '20180814.pkl', '20180815.pkl', '20180816.pkl', '20180817.pkl', '20180820.pkl', '20180821.pkl', '20180822.pkl', '20180823.pkl', '20180824.pkl', '20180827.pkl']\n",
      "Validating on 20180828.pkl\n",
      "Corrcoef on training set: 0.06198317366890044\n",
      "Corrcoef on validation set: 0.06589544501071402\n",
      "[40.30809044075586, 1.6433037905340515, 5.678066674155498, -42.51714856355717, -16.120429129997024, -7.5298538195346785, 188.34207440835328, -144.61851880452735, -35.047820951201565]\n",
      "{   'R_square': 0.0040585702209940955,\n",
      "    'stats':                   Feature      Coef     T-value\n",
      "0    avg_delta_bid_size_1  0.000064   40.308090\n",
      "1    avg_delta_bid_size_5  0.000002    1.643304\n",
      "2   avg_delta_bid_size_15  0.000009    5.678067\n",
      "3    avg_delta_ask_size_1 -0.000070  -42.517149\n",
      "4    avg_delta_ask_size_5 -0.000024  -16.120429\n",
      "5   avg_delta_ask_size_15 -0.000011   -7.529854\n",
      "6   bid_size_proportion_1  0.001376  188.342074\n",
      "7   bid_size_proportion_5 -0.001094 -144.618519\n",
      "8  bid_size_proportion_15 -0.000279  -35.047821}\n",
      "------------------------------------------------------------\n",
      "\n",
      "Reading file ./data/date_data/20180829.pkl\n",
      "------------------------------------------------------------\n",
      "Training phrase 3...\n",
      "Training on ['20180808.pkl', '20180809.pkl', '20180810.pkl', '20180813.pkl', '20180814.pkl', '20180815.pkl', '20180816.pkl', '20180817.pkl', '20180820.pkl', '20180821.pkl', '20180822.pkl', '20180823.pkl', '20180824.pkl', '20180827.pkl', '20180828.pkl']\n",
      "Validating on 20180829.pkl\n",
      "Corrcoef on training set: 0.060732058704997975\n",
      "Corrcoef on validation set: 0.0589965801128053\n",
      "[38.38656463833791, 0.90174660863237, 6.04574239790868, -38.24258765141505, -13.94245992485471, -6.01201128108497, 202.27117718478473, -154.56837622039814, -38.47637913570164]\n",
      "{   'R_square': 0.0031184228082675736,\n",
      "    'stats':                   Feature      Coef     T-value\n",
      "0    avg_delta_bid_size_1  0.000060   38.386565\n",
      "1    avg_delta_bid_size_5  0.000001    0.901747\n",
      "2   avg_delta_bid_size_15  0.000009    6.045742\n",
      "3    avg_delta_ask_size_1 -0.000065  -38.242588\n",
      "4    avg_delta_ask_size_5 -0.000024  -13.942460\n",
      "5   avg_delta_ask_size_15 -0.000010   -6.012011\n",
      "6   bid_size_proportion_1  0.001382  202.271177\n",
      "7   bid_size_proportion_5 -0.001085 -154.568376\n",
      "8  bid_size_proportion_15 -0.000280  -38.476379}\n",
      "------------------------------------------------------------\n",
      "\n"
     ]
    }
   ],
   "source": [
    "model = Model(\n",
    "    X=_X_1, y=_Y_1, model=_MODEL_RIDGE, params=_PARAMS_RIDGE, output_model_name = './output/models/models_y1_x1',\n",
    "    data_files=data_train, columns_to_normalize=_COLUMNS_TO_NORMALIZE,\n",
    "    window_size=_SLIDING_WINDOW_SIZE, days_as_window=True\n",
    ")\n",
    "stats, corrcoef = model.run()"
   ]
  },
  {
   "cell_type": "markdown",
   "metadata": {},
   "source": [
    "## Validate model on test set"
   ]
  },
  {
   "cell_type": "code",
   "execution_count": null,
   "metadata": {},
   "outputs": [],
   "source": [
    "with open(_OUTPUT_DIR + 'model_y1_x1.pickle', 'rb') as file:\n",
    "    model_x1_y1 = pickle.load(file)"
   ]
  },
  {
   "cell_type": "code",
   "execution_count": 11,
   "metadata": {},
   "outputs": [
    {
     "name": "stdout",
     "output_type": "stream",
     "text": [
      "Reading file ./data/date_data/20180830.pkl\n",
      "[36.82104581519272, 0.8543425932428242, 5.46147589847421, -34.99809735597944, -12.082243811815218, -4.676640287432064, 204.892057836754, -156.7039479603852, -39.09309245396656]\n",
      "{   'R_square': 0.0026351978975839296,\n",
      "    'stats':                   Feature      Coef     T-value\n",
      "0    avg_delta_bid_size_1  0.000060   36.821046\n",
      "1    avg_delta_bid_size_5  0.000001    0.854343\n",
      "2   avg_delta_bid_size_15  0.000009    5.461476\n",
      "3    avg_delta_ask_size_1 -0.000065  -34.998097\n",
      "4    avg_delta_ask_size_5 -0.000024  -12.082244\n",
      "5   avg_delta_ask_size_15 -0.000010   -4.676640\n",
      "6   bid_size_proportion_1  0.001382  204.892058\n",
      "7   bid_size_proportion_5 -0.001085 -156.703948\n",
      "8  bid_size_proportion_15 -0.000280  -39.093092}\n",
      "Reading file ./data/date_data/20180831.pkl\n",
      "[35.36475206196729, 0.8528830779469975, 5.870844173536239, -36.51201933827114, -14.31582677493167, -5.783476593034704, 180.39809698278802, -137.0118069754777, -33.8381097730865]\n",
      "{   'R_square': 0.0038780002900034027,\n",
      "    'stats':                   Feature      Coef     T-value\n",
      "0    avg_delta_bid_size_1  0.000060   35.364752\n",
      "1    avg_delta_bid_size_5  0.000001    0.852883\n",
      "2   avg_delta_bid_size_15  0.000009    5.870844\n",
      "3    avg_delta_ask_size_1 -0.000065  -36.512019\n",
      "4    avg_delta_ask_size_5 -0.000024  -14.315827\n",
      "5   avg_delta_ask_size_15 -0.000010   -5.783477\n",
      "6   bid_size_proportion_1  0.001382  180.398097\n",
      "7   bid_size_proportion_5 -0.001085 -137.011807\n",
      "8  bid_size_proportion_15 -0.000280  -33.838110}\n"
     ]
    }
   ],
   "source": [
    "result = model.test(data_test)"
   ]
  },
  {
   "cell_type": "markdown",
   "metadata": {},
   "source": [
    "## Train model with x2 (volume initiated by buy/sell)"
   ]
  },
  {
   "cell_type": "code",
   "execution_count": 12,
   "metadata": {},
   "outputs": [
    {
     "name": "stdout",
     "output_type": "stream",
     "text": [
      "Reading file ['./data/date_data/20180806.pkl', './data/date_data/20180807.pkl', './data/date_data/20180808.pkl', './data/date_data/20180809.pkl', './data/date_data/20180810.pkl', './data/date_data/20180813.pkl', './data/date_data/20180814.pkl', './data/date_data/20180815.pkl', './data/date_data/20180816.pkl', './data/date_data/20180817.pkl', './data/date_data/20180820.pkl', './data/date_data/20180821.pkl', './data/date_data/20180822.pkl', './data/date_data/20180823.pkl', './data/date_data/20180824.pkl']\n",
      "Reading file ./data/date_data/20180827.pkl\n",
      "------------------------------------------------------------\n",
      "Training phrase 1...\n",
      "Training on ['20180806.pkl', '20180807.pkl', '20180808.pkl', '20180809.pkl', '20180810.pkl', '20180813.pkl', '20180814.pkl', '20180815.pkl', '20180816.pkl', '20180817.pkl', '20180820.pkl', '20180821.pkl', '20180822.pkl', '20180823.pkl', '20180824.pkl']\n",
      "Validating on 20180827.pkl\n",
      "Corrcoef on training set: 0.05751386122192162\n",
      "Corrcoef on validation set: 0.04096915027646265\n",
      "[-108.12480934265014, 61.585889058362916, 34.11420287290913, 210.54282026224806, -136.25450331828696, -47.53893639695969, 91.45335319395956, -23.86374769600823, -9.43840781716688]\n",
      "{   'R_square': -0.0010016128779291034,\n",
      "    'stats':                 Feature      Coef     T-value\n",
      "0          buy_volume_1 -0.000379 -108.124809\n",
      "1          buy_volume_5  0.000206   61.585889\n",
      "2         buy_volume_15  0.000111   34.114203\n",
      "3         sell_volume_1  0.000746  210.542820\n",
      "4         sell_volume_5 -0.000477 -136.254503\n",
      "5        sell_volume_15 -0.000162  -47.538936\n",
      "6   proportion_volume_1  0.000942   91.453353\n",
      "7   proportion_volume_5 -0.000341  -23.863748\n",
      "8  proportion_volume_15 -0.000164   -9.438408}\n",
      "------------------------------------------------------------\n",
      "\n",
      "Reading file ./data/date_data/20180828.pkl\n",
      "------------------------------------------------------------\n",
      "Training phrase 2...\n",
      "Training on ['20180807.pkl', '20180808.pkl', '20180809.pkl', '20180810.pkl', '20180813.pkl', '20180814.pkl', '20180815.pkl', '20180816.pkl', '20180817.pkl', '20180820.pkl', '20180821.pkl', '20180822.pkl', '20180823.pkl', '20180824.pkl', '20180827.pkl']\n",
      "Validating on 20180828.pkl\n",
      "Corrcoef on training set: 0.05265006257950788\n",
      "Corrcoef on validation set: 0.07888546617053699\n",
      "[-145.59115143956043, 84.996139758185, 48.259180440897524, 242.45153007409047, -159.34350479310893, -58.81392814604985, 75.99154823131721, -18.557838165969162, -29.76976348116153]\n",
      "{   'R_square': 0.0058587605322240055,\n",
      "    'stats':                 Feature      Coef     T-value\n",
      "0          buy_volume_1 -0.000358 -145.591151\n",
      "1          buy_volume_5  0.000202   84.996140\n",
      "2         buy_volume_15  0.000113   48.259180\n",
      "3         sell_volume_1  0.000717  242.451530\n",
      "4         sell_volume_5 -0.000467 -159.343505\n",
      "5        sell_volume_15 -0.000174  -58.813928\n",
      "6   proportion_volume_1  0.000822   75.991548\n",
      "7   proportion_volume_5 -0.000281  -18.557838\n",
      "8  proportion_volume_15 -0.000534  -29.769763}\n",
      "------------------------------------------------------------\n",
      "\n",
      "Reading file ./data/date_data/20180829.pkl\n",
      "------------------------------------------------------------\n",
      "Training phrase 3...\n",
      "Training on ['20180808.pkl', '20180809.pkl', '20180810.pkl', '20180813.pkl', '20180814.pkl', '20180815.pkl', '20180816.pkl', '20180817.pkl', '20180820.pkl', '20180821.pkl', '20180822.pkl', '20180823.pkl', '20180824.pkl', '20180827.pkl', '20180828.pkl']\n",
      "Validating on 20180829.pkl\n",
      "Corrcoef on training set: 0.05201777383436406\n",
      "Corrcoef on validation set: 0.0681493283589973\n",
      "[-117.48347363546702, 72.20044862438597, 28.604429279152345, 253.5938873326553, -165.57763930115624, -58.1180930062166, 69.32696816994867, -18.2368350676196, -27.84982421020615]\n",
      "{   'R_square': 0.003841559311897891,\n",
      "    'stats':                 Feature      Coef     T-value\n",
      "0          buy_volume_1 -0.000367 -117.483474\n",
      "1          buy_volume_5  0.000225   72.200449\n",
      "2         buy_volume_15  0.000088   28.604429\n",
      "3         sell_volume_1  0.000702  253.593887\n",
      "4         sell_volume_5 -0.000459 -165.577639\n",
      "5        sell_volume_15 -0.000165  -58.118093\n",
      "6   proportion_volume_1  0.000764   69.326968\n",
      "7   proportion_volume_5 -0.000273  -18.236835\n",
      "8  proportion_volume_15 -0.000486  -27.849824}\n",
      "------------------------------------------------------------\n",
      "\n"
     ]
    }
   ],
   "source": [
    "model = Model(\n",
    "    X=_X_2, y=_Y_1, model=_MODEL_RIDGE, params=_PARAMS_RIDGE, output_model_name = './output/models/models_y1_x2',\n",
    "    data_files=data_train, columns_to_normalize=_COLUMNS_TO_NORMALIZE,\n",
    "    window_size=_SLIDING_WINDOW_SIZE, days_as_window=True\n",
    ")\n",
    "stats, corrcoef = model.run()"
   ]
  },
  {
   "cell_type": "markdown",
   "metadata": {},
   "source": [
    "## Validate model on test set"
   ]
  },
  {
   "cell_type": "code",
   "execution_count": null,
   "metadata": {},
   "outputs": [],
   "source": [
    "with open(_OUTPUT_DIR + 'model_x2_y1.pickle', 'rb') as file:\n",
    "    model_x2_y1 = pickle.load(file)"
   ]
  },
  {
   "cell_type": "code",
   "execution_count": 13,
   "metadata": {},
   "outputs": [
    {
     "name": "stdout",
     "output_type": "stream",
     "text": [
      "Reading file ./data/date_data/20180830.pkl\n",
      "[-101.68159391036434, 63.78408131338767, 24.476150462138968, 281.31447170685493, -190.48141018638813, -69.9805569774854, 69.12757572725177, -18.16976531624415, -27.69231905366637]\n",
      "{   'R_square': 0.002623160092696364,\n",
      "    'stats':                 Feature      Coef     T-value\n",
      "0          buy_volume_1 -0.000367 -101.681594\n",
      "1          buy_volume_5  0.000225   63.784081\n",
      "2         buy_volume_15  0.000088   24.476150\n",
      "3         sell_volume_1  0.000702  281.314472\n",
      "4         sell_volume_5 -0.000459 -190.481410\n",
      "5        sell_volume_15 -0.000165  -69.980557\n",
      "6   proportion_volume_1  0.000764   69.127576\n",
      "7   proportion_volume_5 -0.000273  -18.169765\n",
      "8  proportion_volume_15 -0.000486  -27.692319}\n",
      "Reading file ./data/date_data/20180831.pkl\n",
      "[-109.37015336032546, 69.31265364343412, 28.058130367796657, 223.01640232595682, -146.99744864634044, -53.077666793316254, 63.012680075821876, -16.184692541208147, -24.163115965444046]\n",
      "{   'R_square': 0.004019112219266874,\n",
      "    'stats':                 Feature      Coef     T-value\n",
      "0          buy_volume_1 -0.000367 -109.370153\n",
      "1          buy_volume_5  0.000225   69.312654\n",
      "2         buy_volume_15  0.000088   28.058130\n",
      "3         sell_volume_1  0.000702  223.016402\n",
      "4         sell_volume_5 -0.000459 -146.997449\n",
      "5        sell_volume_15 -0.000165  -53.077667\n",
      "6   proportion_volume_1  0.000764   63.012680\n",
      "7   proportion_volume_5 -0.000273  -16.184693\n",
      "8  proportion_volume_15 -0.000486  -24.163116}\n"
     ]
    }
   ],
   "source": [
    "result = model.test(data_test)"
   ]
  },
  {
   "cell_type": "markdown",
   "metadata": {},
   "source": [
    "## Train model with x3 (lag return)"
   ]
  },
  {
   "cell_type": "code",
   "execution_count": 16,
   "metadata": {},
   "outputs": [
    {
     "name": "stdout",
     "output_type": "stream",
     "text": [
      "Reading file ['./data/date_data/20180806.pkl', './data/date_data/20180807.pkl', './data/date_data/20180808.pkl', './data/date_data/20180809.pkl', './data/date_data/20180810.pkl', './data/date_data/20180813.pkl', './data/date_data/20180814.pkl', './data/date_data/20180815.pkl', './data/date_data/20180816.pkl', './data/date_data/20180817.pkl', './data/date_data/20180820.pkl', './data/date_data/20180821.pkl', './data/date_data/20180822.pkl', './data/date_data/20180823.pkl', './data/date_data/20180824.pkl']\n",
      "Reading file ./data/date_data/20180827.pkl\n",
      "------------------------------------------------------------\n",
      "Training phrase 1...\n",
      "Training on ['20180806.pkl', '20180807.pkl', '20180808.pkl', '20180809.pkl', '20180810.pkl', '20180813.pkl', '20180814.pkl', '20180815.pkl', '20180816.pkl', '20180817.pkl', '20180820.pkl', '20180821.pkl', '20180822.pkl', '20180823.pkl', '20180824.pkl']\n",
      "Validating on 20180827.pkl\n",
      "Corrcoef on training set: 0.2252146108501102\n",
      "Corrcoef on validation set: 0.26624487681428843\n",
      "[-258.56761127699593, -96.78335614526169, -6.7611958613503305]\n",
      "{   'R_square': 0.06577894882775437,\n",
      "    'stats':          Feature      Coef     T-value\n",
      "0   lag_return_1 -0.181953 -258.567611\n",
      "1   lag_return_5 -0.040599  -96.783356\n",
      "2  lag_return_15 -0.001504   -6.761196}\n",
      "------------------------------------------------------------\n",
      "\n",
      "Reading file ./data/date_data/20180828.pkl\n",
      "------------------------------------------------------------\n",
      "Training phrase 2...\n",
      "Training on ['20180807.pkl', '20180808.pkl', '20180809.pkl', '20180810.pkl', '20180813.pkl', '20180814.pkl', '20180815.pkl', '20180816.pkl', '20180817.pkl', '20180820.pkl', '20180821.pkl', '20180822.pkl', '20180823.pkl', '20180824.pkl', '20180827.pkl']\n",
      "Validating on 20180828.pkl\n",
      "Corrcoef on training set: 0.2276690717672076\n",
      "Corrcoef on validation set: 0.27874698993695907\n",
      "[-263.6861551928599, -92.92546347989274, -8.034218348222218]\n",
      "{   'R_square': 0.07409204844338546,\n",
      "    'stats':          Feature      Coef     T-value\n",
      "0   lag_return_1 -0.184836 -263.686155\n",
      "1   lag_return_5 -0.039772  -92.925463\n",
      "2  lag_return_15 -0.001981   -8.034218}\n",
      "------------------------------------------------------------\n",
      "\n",
      "Reading file ./data/date_data/20180829.pkl\n",
      "------------------------------------------------------------\n",
      "Training phrase 3...\n",
      "Training on ['20180808.pkl', '20180809.pkl', '20180810.pkl', '20180813.pkl', '20180814.pkl', '20180815.pkl', '20180816.pkl', '20180817.pkl', '20180820.pkl', '20180821.pkl', '20180822.pkl', '20180823.pkl', '20180824.pkl', '20180827.pkl', '20180828.pkl']\n",
      "Validating on 20180829.pkl\n",
      "Corrcoef on training set: 0.23405301451823482\n",
      "Corrcoef on validation set: 0.28595718722693003\n",
      "[-269.84266991589374, -97.69113552260146, -8.441442704854806]\n",
      "{   'R_square': 0.07789477356947438,\n",
      "    'stats':          Feature      Coef     T-value\n",
      "0   lag_return_1 -0.188591 -269.842670\n",
      "1   lag_return_5 -0.042169  -97.691136\n",
      "2  lag_return_15 -0.002285   -8.441443}\n",
      "------------------------------------------------------------\n",
      "\n"
     ]
    }
   ],
   "source": [
    "model = Model(\n",
    "    X=_X_3, y=_Y_1, model=_MODEL_RIDGE, params=_PARAMS_RIDGE, output_model_name = './output/models/models_y1_x3',\n",
    "    data_files=data_train, columns_to_normalize=_COLUMNS_TO_NORMALIZE,\n",
    "    window_size=_SLIDING_WINDOW_SIZE, days_as_window=True\n",
    ")\n",
    "stats, corrcoef = model.run()"
   ]
  },
  {
   "cell_type": "markdown",
   "metadata": {},
   "source": [
    "## Validate model on test set"
   ]
  },
  {
   "cell_type": "code",
   "execution_count": null,
   "metadata": {},
   "outputs": [],
   "source": [
    "with open(_OUTPUT_DIR + 'model_x3_y1.pickle', 'rb') as file:\n",
    "    model_x2_y1 = pickle.load(file)"
   ]
  },
  {
   "cell_type": "code",
   "execution_count": 17,
   "metadata": {},
   "outputs": [
    {
     "name": "stdout",
     "output_type": "stream",
     "text": [
      "Reading file ./data/date_data/20180830.pkl\n",
      "[-269.4180054407369, -96.89480199894531, -9.591284412670374]\n",
      "{   'R_square': 0.07788204876829219,\n",
      "    'stats':          Feature      Coef     T-value\n",
      "0   lag_return_1 -0.188591 -269.418005\n",
      "1   lag_return_5 -0.042169  -96.894802\n",
      "2  lag_return_15 -0.002285   -9.591284}\n",
      "Reading file ./data/date_data/20180831.pkl\n",
      "[-268.3779176156266, -99.36015629445369, -13.071794927632688]\n",
      "{   'R_square': 0.0698260839972209,\n",
      "    'stats':          Feature      Coef     T-value\n",
      "0   lag_return_1 -0.188591 -268.377918\n",
      "1   lag_return_5 -0.042169  -99.360156\n",
      "2  lag_return_15 -0.002285  -13.071795}\n"
     ]
    }
   ],
   "source": [
    "result = model.test(data_test)"
   ]
  },
  {
   "cell_type": "code",
   "execution_count": null,
   "metadata": {},
   "outputs": [],
   "source": []
  }
 ],
 "metadata": {
  "kernelspec": {
   "display_name": "Python 3",
   "language": "python",
   "name": "python3"
  },
  "language_info": {
   "codemirror_mode": {
    "name": "ipython",
    "version": 3
   },
   "file_extension": ".py",
   "mimetype": "text/x-python",
   "name": "python",
   "nbconvert_exporter": "python",
   "pygments_lexer": "ipython3",
   "version": "3.6.8"
  }
 },
 "nbformat": 4,
 "nbformat_minor": 2
}
