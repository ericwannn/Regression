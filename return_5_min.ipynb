{
 "cells": [
  {
   "cell_type": "markdown",
   "metadata": {},
   "source": [
    "# Model Training"
   ]
  },
  {
   "cell_type": "code",
   "execution_count": 1,
   "metadata": {},
   "outputs": [],
   "source": [
    "from __future__ import print_function\n",
    "from __future__ import division\n",
    "\n",
    "import pickle\n",
    "import pandas as pd \n",
    "import numpy as np\n",
    "from sklearn.linear_model import Ridge\n",
    "\n",
    "from src.data_reader import Dataset\n",
    "from src.model import Model\n",
    "from src.utils import get_leaf_file_names"
   ]
  },
  {
   "cell_type": "markdown",
   "metadata": {},
   "source": [
    "# Configurations"
   ]
  },
  {
   "cell_type": "code",
   "execution_count": 2,
   "metadata": {},
   "outputs": [],
   "source": [
    "# Global config\n",
    "_RAW_DATA_PATH = './data/rawdata'\n",
    "_DATA_PATH = './data/date_data'\n",
    "_OUTPUT_DIR = './output/'\n",
    "\n",
    "# Data configuration\n",
    "_TIME_FRAME_SIZE_Y = (1, 5, 15, 30)\n",
    "_TIME_FRAME_SIZE_X = (1, 5, 15)\n",
    "_X_1 = [\n",
    "    'avg_delta_bid_size_1', 'avg_delta_bid_size_5', 'avg_delta_bid_size_15',\n",
    "    'avg_delta_ask_size_1', 'avg_delta_ask_size_5', 'avg_delta_ask_size_15',\n",
    "    'bid_size_proportion_1', 'bid_size_proportion_5', 'bid_size_proportion_15'\n",
    "]\n",
    "_X_2 = [\n",
    "    'buy_volume_1', 'buy_volume_5', 'buy_volume_15', 'sell_volume_1', 'sell_volume_5',\n",
    "    'sell_volume_15', 'proportion_volume_1', 'proportion_volume_5', 'proportion_volume_15'\n",
    "]\n",
    "_X_3 = [\n",
    "    'lag_return_1', 'lag_return_5', 'lag_return_15'\n",
    "]\n",
    "\n",
    "_Y_1, _Y_2, _Y_3, _Y_4 = ['return_1_min', 'return_5_min', 'return_15_min', 'return_30_min']\n",
    "\n",
    "_COLUMNS_TO_NORMALIZE = [\n",
    "    'avg_delta_bid_size_1', 'avg_delta_bid_size_5', 'avg_delta_bid_size_15',\n",
    "    'avg_delta_ask_size_1', 'avg_delta_ask_size_5', 'avg_delta_ask_size_15',\n",
    "    'buy_volume_1', 'buy_volume_5', 'buy_volume_15', 'sell_volume_1', 'sell_volume_5', 'sell_volume_15'\n",
    "]"
   ]
  },
  {
   "cell_type": "markdown",
   "metadata": {},
   "source": [
    "## Data and model config"
   ]
  },
  {
   "cell_type": "code",
   "execution_count": 3,
   "metadata": {},
   "outputs": [],
   "source": [
    "# Training configuration\n",
    "_TEST_SET_SIZE = 2\n",
    "_SLIDING_WINDOW_SIZE = 15\n",
    "_CHUNK_SIZE = 3901 * 2\n",
    "_MODEL_RIDGE = Ridge\n",
    "_PARAMS_RIDGE = {\n",
    "    'alpha': 1,\n",
    "    'random_state': 100\n",
    "}"
   ]
  },
  {
   "cell_type": "markdown",
   "metadata": {},
   "source": [
    "## Prepare training set"
   ]
  },
  {
   "cell_type": "code",
   "execution_count": 4,
   "metadata": {},
   "outputs": [
    {
     "name": "stdout",
     "output_type": "stream",
     "text": [
      "['./data/date_data/20180806.pkl', './data/date_data/20180807.pkl', './data/date_data/20180808.pkl', './data/date_data/20180809.pkl', './data/date_data/20180810.pkl', './data/date_data/20180813.pkl', './data/date_data/20180814.pkl', './data/date_data/20180815.pkl', './data/date_data/20180816.pkl', './data/date_data/20180817.pkl', './data/date_data/20180820.pkl', './data/date_data/20180821.pkl', './data/date_data/20180822.pkl', './data/date_data/20180823.pkl', './data/date_data/20180824.pkl', './data/date_data/20180827.pkl', './data/date_data/20180828.pkl', './data/date_data/20180829.pkl']\n"
     ]
    }
   ],
   "source": [
    "# Prepare dataset\n",
    "date_files = get_leaf_file_names(_DATA_PATH)\n",
    "data_train = date_files[-_TEST_SET_SIZE - 18: -_TEST_SET_SIZE]\n",
    "print(data_train)"
   ]
  },
  {
   "cell_type": "markdown",
   "metadata": {},
   "source": [
    "## Prepare test set"
   ]
  },
  {
   "cell_type": "code",
   "execution_count": 5,
   "metadata": {},
   "outputs": [
    {
     "name": "stdout",
     "output_type": "stream",
     "text": [
      "['./data/date_data/20180830.pkl', './data/date_data/20180831.pkl']\n"
     ]
    }
   ],
   "source": [
    "data_test = date_files[-_TEST_SET_SIZE:]\n",
    "print(data_test)"
   ]
  },
  {
   "cell_type": "markdown",
   "metadata": {},
   "source": [
    "## Train model with all regressors"
   ]
  },
  {
   "cell_type": "code",
   "execution_count": 6,
   "metadata": {},
   "outputs": [
    {
     "name": "stdout",
     "output_type": "stream",
     "text": [
      "Reading file ['./data/date_data/20180806.pkl', './data/date_data/20180807.pkl', './data/date_data/20180808.pkl', './data/date_data/20180809.pkl', './data/date_data/20180810.pkl', './data/date_data/20180813.pkl', './data/date_data/20180814.pkl', './data/date_data/20180815.pkl', './data/date_data/20180816.pkl', './data/date_data/20180817.pkl', './data/date_data/20180820.pkl', './data/date_data/20180821.pkl', './data/date_data/20180822.pkl', './data/date_data/20180823.pkl', './data/date_data/20180824.pkl']\n",
      "Reading file ./data/date_data/20180827.pkl\n",
      "------------------------------------------------------------\n",
      "Training phrase 1...\n",
      "Training on ['20180806.pkl', '20180807.pkl', '20180808.pkl', '20180809.pkl', '20180810.pkl', '20180813.pkl', '20180814.pkl', '20180815.pkl', '20180816.pkl', '20180817.pkl', '20180820.pkl', '20180821.pkl', '20180822.pkl', '20180823.pkl', '20180824.pkl']\n",
      "Validating on 20180827.pkl\n",
      "Corrcoef on training set: 0.1918182264064436\n",
      "Corrcoef on validation set: 0.20472006032065054\n",
      "[16.96286948429367, 6.095150945354526, 8.428204265731239, -21.50470821043334, -14.837242761846163, -5.658930736054683, 146.8100788997486, -76.91063475564101, -34.89957568329446, -44.636241985871, -35.04407451779632, 71.83667897386772, 103.82932469103558, -0.13719700471273688, -64.9730660892225, 157.71028534133123, 65.3472418453788, -51.57147761607182, -225.04283778258434, -88.2817887616291, 16.30763597202182]\n",
      "{   'R_square': 0.02195283014959204,\n",
      "    'stats':                    Feature          Coef     T-value\n",
      "0     avg_delta_bid_size_1  5.687202e-05   16.962869\n",
      "1     avg_delta_bid_size_5  2.100030e-05    6.095151\n",
      "2    avg_delta_bid_size_15  2.705702e-05    8.428204\n",
      "3     avg_delta_ask_size_1 -6.638350e-05  -21.504708\n",
      "4     avg_delta_ask_size_5 -4.839767e-05  -14.837243\n",
      "5    avg_delta_ask_size_15 -1.861627e-05   -5.658931\n",
      "6    bid_size_proportion_1  1.942904e-03  146.810079\n",
      "7    bid_size_proportion_5 -1.060036e-03  -76.910635\n",
      "8   bid_size_proportion_15 -5.095775e-04  -34.899576\n",
      "9             buy_volume_1 -2.535843e-04  -44.636242\n",
      "10            buy_volume_5 -1.893068e-04  -35.044075\n",
      "11           buy_volume_15  3.790207e-04   71.836679\n",
      "12           sell_volume_1  5.952897e-04  103.829325\n",
      "13           sell_volume_5 -7.781452e-07   -0.137197\n",
      "14          sell_volume_15 -3.587695e-04  -64.973066\n",
      "15     proportion_volume_1  2.628584e-03  157.710285\n",
      "16     proportion_volume_5  1.509728e-03   65.347242\n",
      "17    proportion_volume_15 -1.446457e-03  -51.571478\n",
      "18            lag_return_1 -2.653594e-01 -225.042838\n",
      "19            lag_return_5 -6.205352e-02  -88.281789\n",
      "20           lag_return_15  6.077702e-03   16.307636}\n",
      "------------------------------------------------------------\n",
      "\n",
      "Reading file ./data/date_data/20180828.pkl\n",
      "------------------------------------------------------------\n",
      "Training phrase 2...\n",
      "Training on ['20180807.pkl', '20180808.pkl', '20180809.pkl', '20180810.pkl', '20180813.pkl', '20180814.pkl', '20180815.pkl', '20180816.pkl', '20180817.pkl', '20180820.pkl', '20180821.pkl', '20180822.pkl', '20180823.pkl', '20180824.pkl', '20180827.pkl']\n",
      "Validating on 20180828.pkl\n",
      "Corrcoef on training set: 0.18564313211257563\n",
      "Corrcoef on validation set: 0.2135918774630582\n",
      "[21.21150676460753, 5.34389596076114, 8.413836595048013, -23.52371016193069, -17.59160352501173, -15.05535672042915, 156.4408744391924, -87.2535045393141, -84.77539712333538, -52.219163542414265, -43.39981121400459, 86.98811017331911, 121.47649724452431, -5.267587518723979, -91.84688368933051, 145.5055418611262, 53.07128783120923, -123.59231554962692, -229.10706053939327, -85.31915964779019, 19.740248295789158]\n",
      "{   'R_square': 0.04348631711793738,\n",
      "    'stats':                    Feature      Coef     T-value\n",
      "0     avg_delta_bid_size_1  0.000053   21.211507\n",
      "1     avg_delta_bid_size_5  0.000013    5.343896\n",
      "2    avg_delta_bid_size_15  0.000021    8.413837\n",
      "3     avg_delta_ask_size_1 -0.000061  -23.523710\n",
      "4     avg_delta_ask_size_5 -0.000041  -17.591604\n",
      "5    avg_delta_ask_size_15 -0.000036  -15.055357\n",
      "6    bid_size_proportion_1  0.001806  156.440874\n",
      "7    bid_size_proportion_5 -0.001042  -87.253505\n",
      "8   bid_size_proportion_15 -0.001064  -84.775397\n",
      "9             buy_volume_1 -0.000203  -52.219164\n",
      "10            buy_volume_5 -0.000163  -43.399811\n",
      "11           buy_volume_15  0.000322   86.988110\n",
      "12           sell_volume_1  0.000568  121.476497\n",
      "13           sell_volume_5 -0.000024   -5.267588\n",
      "14          sell_volume_15 -0.000429  -91.846884\n",
      "15     proportion_volume_1  0.002487  145.505542\n",
      "16     proportion_volume_5  0.001272   53.071288\n",
      "17    proportion_volume_15 -0.003502 -123.592316\n",
      "18            lag_return_1 -0.263068 -229.107061\n",
      "19            lag_return_5 -0.059816  -85.319160\n",
      "20           lag_return_15  0.007972   19.740248}\n",
      "------------------------------------------------------------\n",
      "\n",
      "Reading file ./data/date_data/20180829.pkl\n",
      "------------------------------------------------------------\n",
      "Training phrase 3...\n",
      "Training on ['20180808.pkl', '20180809.pkl', '20180810.pkl', '20180813.pkl', '20180814.pkl', '20180815.pkl', '20180816.pkl', '20180817.pkl', '20180820.pkl', '20180821.pkl', '20180822.pkl', '20180823.pkl', '20180824.pkl', '20180827.pkl', '20180828.pkl']\n",
      "Validating on 20180829.pkl\n",
      "Corrcoef on training set: 0.1900932947074927\n",
      "Corrcoef on validation set: 0.22606634706544207\n",
      "[18.851039135213693, 6.968530134025224, 8.724527145230681, -21.120301483135997, -13.323381466132481, -13.312778631164479, 173.66926173801187, -100.79513798636854, -85.62519102634161, -35.99557333171097, -19.48583965111221, 51.161680206488974, 125.20937327780833, -0.9559930740889887, -96.60739582605986, 140.5277717586024, 57.667029507099485, -129.03499595280888, -236.01891742851345, -86.52803686482177, 12.250144675960954]\n",
      "{   'R_square': 0.048225748116214384,\n",
      "    'stats':                    Feature      Coef     T-value\n",
      "0     avg_delta_bid_size_1  0.000046   18.851039\n",
      "1     avg_delta_bid_size_5  0.000017    6.968530\n",
      "2    avg_delta_bid_size_15  0.000021    8.724527\n",
      "3     avg_delta_ask_size_1 -0.000056  -21.120301\n",
      "4     avg_delta_ask_size_5 -0.000036  -13.323381\n",
      "5    avg_delta_ask_size_15 -0.000035  -13.312779\n",
      "6    bid_size_proportion_1  0.001846  173.669262\n",
      "7    bid_size_proportion_5 -0.001100 -100.795138\n",
      "8   bid_size_proportion_15 -0.000970  -85.625191\n",
      "9             buy_volume_1 -0.000175  -35.995573\n",
      "10            buy_volume_5 -0.000095  -19.485840\n",
      "11           buy_volume_15  0.000245   51.161680\n",
      "12           sell_volume_1  0.000539  125.209373\n",
      "13           sell_volume_5 -0.000004   -0.955993\n",
      "14          sell_volume_15 -0.000426  -96.607396\n",
      "15     proportion_volume_1  0.002410  140.527772\n",
      "16     proportion_volume_5  0.001343   57.667030\n",
      "17    proportion_volume_15 -0.003502 -129.034996\n",
      "18            lag_return_1 -0.266762 -236.018917\n",
      "19            lag_return_5 -0.060404  -86.528037\n",
      "20           lag_return_15  0.005362   12.250145}\n",
      "------------------------------------------------------------\n",
      "\n"
     ]
    }
   ],
   "source": [
    "# Train model with different parameters\n",
    "model = Model(\n",
    "    X=_X_1+_X_2+_X_3, y=_Y_2, model=_MODEL_RIDGE, params=_PARAMS_RIDGE, output_model_name = './output/models/models_y2_all_x',\n",
    "    data_files=data_train, columns_to_normalize=_COLUMNS_TO_NORMALIZE,\n",
    "    window_size=_SLIDING_WINDOW_SIZE, days_as_window=True\n",
    ")\n",
    "stats, corrcoef = model.run()"
   ]
  },
  {
   "cell_type": "markdown",
   "metadata": {},
   "source": [
    "## Validate model on test set"
   ]
  },
  {
   "cell_type": "code",
   "execution_count": null,
   "metadata": {},
   "outputs": [],
   "source": [
    "with open(_OUTPUT_DIR + 'models/model_y2_all_x.pickle', 'rb') as file:\n",
    "    model_y1_all_x = pickle.load(file)"
   ]
  },
  {
   "cell_type": "code",
   "execution_count": 7,
   "metadata": {},
   "outputs": [
    {
     "name": "stdout",
     "output_type": "stream",
     "text": [
      "Reading file ./data/date_data/20180830.pkl\n",
      "[18.20600436830905, 6.647390600716641, 7.935325695201242, -19.460758026818294, -11.624790321388199, -10.426663686777369, 177.12365104186762, -102.88720098789791, -87.59309255294475, -31.378872424245372, -17.33860706958371, 44.09377661453797, 139.89841900161338, -1.1077157449024102, -117.16532081710731, 141.1347474284809, 57.86954931696641, -129.23110343728652, -237.2045654124787, -86.38978847713545, 14.010755304789317]\n",
      "{   'R_square': 0.0480268725485864,\n",
      "    'stats':                    Feature      Coef     T-value\n",
      "0     avg_delta_bid_size_1  0.000046   18.206004\n",
      "1     avg_delta_bid_size_5  0.000017    6.647391\n",
      "2    avg_delta_bid_size_15  0.000021    7.935326\n",
      "3     avg_delta_ask_size_1 -0.000056  -19.460758\n",
      "4     avg_delta_ask_size_5 -0.000036  -11.624790\n",
      "5    avg_delta_ask_size_15 -0.000035  -10.426664\n",
      "6    bid_size_proportion_1  0.001846  177.123651\n",
      "7    bid_size_proportion_5 -0.001100 -102.887201\n",
      "8   bid_size_proportion_15 -0.000970  -87.593093\n",
      "9             buy_volume_1 -0.000175  -31.378872\n",
      "10            buy_volume_5 -0.000095  -17.338607\n",
      "11           buy_volume_15  0.000245   44.093777\n",
      "12           sell_volume_1  0.000539  139.898419\n",
      "13           sell_volume_5 -0.000004   -1.107716\n",
      "14          sell_volume_15 -0.000426 -117.165321\n",
      "15     proportion_volume_1  0.002410  141.134747\n",
      "16     proportion_volume_5  0.001343   57.869549\n",
      "17    proportion_volume_15 -0.003502 -129.231103\n",
      "18            lag_return_1 -0.266762 -237.204565\n",
      "19            lag_return_5 -0.060404  -86.389788\n",
      "20           lag_return_15  0.005362   14.010755}\n",
      "Reading file ./data/date_data/20180831.pkl\n",
      "[16.828189677789737, 6.3864114572069965, 8.209251218043171, -19.538869320355694, -13.255686528488615, -12.409338715364248, 150.08304795568262, -86.57403635754964, -72.96661273474932, -32.47945120530387, -18.131314846888365, 48.64159253456062, 106.72653533999443, -0.8226221542881186, -85.51619882695474, 123.80136941547437, 49.60438951216999, -108.511442648532, -228.53412379941142, -85.68051094635055, 18.468339753510882]\n",
      "{   'R_square': 0.04997629682751914,\n",
      "    'stats':                    Feature      Coef     T-value\n",
      "0     avg_delta_bid_size_1  0.000046   16.828190\n",
      "1     avg_delta_bid_size_5  0.000017    6.386411\n",
      "2    avg_delta_bid_size_15  0.000021    8.209251\n",
      "3     avg_delta_ask_size_1 -0.000056  -19.538869\n",
      "4     avg_delta_ask_size_5 -0.000036  -13.255687\n",
      "5    avg_delta_ask_size_15 -0.000035  -12.409339\n",
      "6    bid_size_proportion_1  0.001846  150.083048\n",
      "7    bid_size_proportion_5 -0.001100  -86.574036\n",
      "8   bid_size_proportion_15 -0.000970  -72.966613\n",
      "9             buy_volume_1 -0.000175  -32.479451\n",
      "10            buy_volume_5 -0.000095  -18.131315\n",
      "11           buy_volume_15  0.000245   48.641593\n",
      "12           sell_volume_1  0.000539  106.726535\n",
      "13           sell_volume_5 -0.000004   -0.822622\n",
      "14          sell_volume_15 -0.000426  -85.516199\n",
      "15     proportion_volume_1  0.002410  123.801369\n",
      "16     proportion_volume_5  0.001343   49.604390\n",
      "17    proportion_volume_15 -0.003502 -108.511443\n",
      "18            lag_return_1 -0.266762 -228.534124\n",
      "19            lag_return_5 -0.060404  -85.680511\n",
      "20           lag_return_15  0.005362   18.468340}\n"
     ]
    }
   ],
   "source": [
    "result = model.test(data_test)"
   ]
  },
  {
   "cell_type": "markdown",
   "metadata": {},
   "source": [
    "## Train model with x1 (average of delta of bid/ask size)"
   ]
  },
  {
   "cell_type": "code",
   "execution_count": 10,
   "metadata": {},
   "outputs": [
    {
     "name": "stdout",
     "output_type": "stream",
     "text": [
      "Reading file ['./data/date_data/20180806.pkl', './data/date_data/20180807.pkl', './data/date_data/20180808.pkl', './data/date_data/20180809.pkl', './data/date_data/20180810.pkl', './data/date_data/20180813.pkl', './data/date_data/20180814.pkl', './data/date_data/20180815.pkl', './data/date_data/20180816.pkl', './data/date_data/20180817.pkl', './data/date_data/20180820.pkl', './data/date_data/20180821.pkl', './data/date_data/20180822.pkl', './data/date_data/20180823.pkl', './data/date_data/20180824.pkl']\n",
      "Reading file ./data/date_data/20180827.pkl\n",
      "------------------------------------------------------------\n",
      "Training phrase 1...\n",
      "Training on ['20180806.pkl', '20180807.pkl', '20180808.pkl', '20180809.pkl', '20180810.pkl', '20180813.pkl', '20180814.pkl', '20180815.pkl', '20180816.pkl', '20180817.pkl', '20180820.pkl', '20180821.pkl', '20180822.pkl', '20180823.pkl', '20180824.pkl']\n",
      "Validating on 20180827.pkl\n",
      "Corrcoef on training set: 0.060040243779887814\n",
      "Corrcoef on validation set: 0.06948695344354412\n",
      "[27.81070405697958, 6.391386487807463, 10.752297728233424, -41.2484026001531, -16.28223214503541, -4.0571601698396895, 148.85539757694752, -108.239391499613, -24.800988362902963]\n",
      "{   'R_square': -0.009819251766210346,\n",
      "    'stats':                   Feature      Coef     T-value\n",
      "0    avg_delta_bid_size_1  0.000095   27.810704\n",
      "1    avg_delta_bid_size_5  0.000022    6.391386\n",
      "2   avg_delta_bid_size_15  0.000035   10.752298\n",
      "3    avg_delta_ask_size_1 -0.000129  -41.248403\n",
      "4    avg_delta_ask_size_5 -0.000054  -16.282232\n",
      "5   avg_delta_ask_size_15 -0.000014   -4.057160\n",
      "6   bid_size_proportion_1  0.002002  148.855398\n",
      "7   bid_size_proportion_5 -0.001516 -108.239391\n",
      "8  bid_size_proportion_15 -0.000368  -24.800988}\n",
      "------------------------------------------------------------\n",
      "\n",
      "Reading file ./data/date_data/20180828.pkl\n",
      "------------------------------------------------------------\n",
      "Training phrase 2...\n",
      "Training on ['20180807.pkl', '20180808.pkl', '20180809.pkl', '20180810.pkl', '20180813.pkl', '20180814.pkl', '20180815.pkl', '20180816.pkl', '20180817.pkl', '20180820.pkl', '20180821.pkl', '20180822.pkl', '20180823.pkl', '20180824.pkl', '20180827.pkl']\n",
      "Validating on 20180828.pkl\n",
      "Corrcoef on training set: 0.06043454544384473\n",
      "Corrcoef on validation set: 0.07111657932242509\n",
      "[36.14297029759974, 6.607449584100537, 8.396752593431994, -46.70677410909833, -20.95386731823124, -12.06769887084409, 167.36903790467224, -116.94394697560088, -55.18507622042024]\n",
      "{   'R_square': 0.0025350277766680307,\n",
      "    'stats':                   Feature      Coef     T-value\n",
      "0    avg_delta_bid_size_1  0.000093   36.142970\n",
      "1    avg_delta_bid_size_5  0.000016    6.607450\n",
      "2   avg_delta_bid_size_15  0.000022    8.396753\n",
      "3    avg_delta_ask_size_1 -0.000123  -46.706774\n",
      "4    avg_delta_ask_size_5 -0.000049  -20.953867\n",
      "5   avg_delta_ask_size_15 -0.000029  -12.067699\n",
      "6   bid_size_proportion_1  0.001973  167.369038\n",
      "7   bid_size_proportion_5 -0.001427 -116.943947\n",
      "8  bid_size_proportion_15 -0.000708  -55.185076}\n",
      "------------------------------------------------------------\n",
      "\n",
      "Reading file ./data/date_data/20180829.pkl\n",
      "------------------------------------------------------------\n",
      "Training phrase 3...\n",
      "Training on ['20180808.pkl', '20180809.pkl', '20180810.pkl', '20180813.pkl', '20180814.pkl', '20180815.pkl', '20180816.pkl', '20180817.pkl', '20180820.pkl', '20180821.pkl', '20180822.pkl', '20180823.pkl', '20180824.pkl', '20180827.pkl', '20180828.pkl']\n",
      "Validating on 20180829.pkl\n",
      "Corrcoef on training set: 0.06011335341826438\n",
      "Corrcoef on validation set: 0.0797739964884499\n",
      "[34.64332786252375, 7.9724571273586395, 8.252384238605858, -44.23700417570315, -17.004138532231632, -10.55231037903113, 190.54814855568648, -133.91511267222663, -53.65266577465964]\n",
      "{   'R_square': 0.00452862506268803,\n",
      "    'stats':                   Feature      Coef     T-value\n",
      "0    avg_delta_bid_size_1  0.000086   34.643328\n",
      "1    avg_delta_bid_size_5  0.000019    7.972457\n",
      "2   avg_delta_bid_size_15  0.000020    8.252384\n",
      "3    avg_delta_ask_size_1 -0.000119  -44.237004\n",
      "4    avg_delta_ask_size_5 -0.000047  -17.004139\n",
      "5   avg_delta_ask_size_15 -0.000029  -10.552310\n",
      "6   bid_size_proportion_1  0.002071  190.548149\n",
      "7   bid_size_proportion_5 -0.001495 -133.915113\n",
      "8  bid_size_proportion_15 -0.000622  -53.652666}\n",
      "------------------------------------------------------------\n",
      "\n"
     ]
    }
   ],
   "source": [
    "model = Model(\n",
    "    X=_X_1, y=_Y_2, model=_MODEL_RIDGE, params=_PARAMS_RIDGE, output_model_name = './output/models/models_y2_x1',\n",
    "    data_files=data_train, columns_to_normalize=_COLUMNS_TO_NORMALIZE,\n",
    "    window_size=_SLIDING_WINDOW_SIZE, days_as_window=True\n",
    ")\n",
    "stats, corrcoef = model.run()"
   ]
  },
  {
   "cell_type": "markdown",
   "metadata": {},
   "source": [
    "## Validate model on test set"
   ]
  },
  {
   "cell_type": "code",
   "execution_count": null,
   "metadata": {},
   "outputs": [],
   "source": [
    "with open(_OUTPUT_DIR + 'model_y1_x1.pickle', 'rb') as file:\n",
    "    model_x1_y1 = pickle.load(file)"
   ]
  },
  {
   "cell_type": "code",
   "execution_count": 11,
   "metadata": {},
   "outputs": [
    {
     "name": "stdout",
     "output_type": "stream",
     "text": [
      "Reading file ./data/date_data/20180830.pkl\n",
      "[33.33173057814046, 7.576369026302669, 7.477582450173023, -40.6073135191686, -14.78033274719093, -8.233474087987986, 193.6053000316705, -136.1790408740334, -54.6787430729969]\n",
      "{   'R_square': -0.003232727540683822,\n",
      "    'stats':                   Feature      Coef     T-value\n",
      "0    avg_delta_bid_size_1  0.000086   33.331731\n",
      "1    avg_delta_bid_size_5  0.000019    7.576369\n",
      "2   avg_delta_bid_size_15  0.000020    7.477582\n",
      "3    avg_delta_ask_size_1 -0.000119  -40.607314\n",
      "4    avg_delta_ask_size_5 -0.000047  -14.780333\n",
      "5   avg_delta_ask_size_15 -0.000029   -8.233474\n",
      "6   bid_size_proportion_1  0.002071  193.605300\n",
      "7   bid_size_proportion_5 -0.001495 -136.179041\n",
      "8  bid_size_proportion_15 -0.000622  -54.678743}\n",
      "Reading file ./data/date_data/20180831.pkl\n",
      "[30.885843967940993, 7.297022260193393, 7.754947363906132, -40.87170815440426, -16.895854579737392, -9.823477411276334, 164.45655248186088, -114.87233239206404, -45.66166076513637]\n",
      "{   'R_square': 0.0037834913303130824,\n",
      "    'stats':                   Feature      Coef     T-value\n",
      "0    avg_delta_bid_size_1  0.000086   30.885844\n",
      "1    avg_delta_bid_size_5  0.000019    7.297022\n",
      "2   avg_delta_bid_size_15  0.000020    7.754947\n",
      "3    avg_delta_ask_size_1 -0.000119  -40.871708\n",
      "4    avg_delta_ask_size_5 -0.000047  -16.895855\n",
      "5   avg_delta_ask_size_15 -0.000029   -9.823477\n",
      "6   bid_size_proportion_1  0.002071  164.456552\n",
      "7   bid_size_proportion_5 -0.001495 -114.872332\n",
      "8  bid_size_proportion_15 -0.000622  -45.661661}\n"
     ]
    }
   ],
   "source": [
    "result = model.test(data_test)"
   ]
  },
  {
   "cell_type": "markdown",
   "metadata": {},
   "source": [
    "## Train model with x2 (volume initiated by buy/sell)"
   ]
  },
  {
   "cell_type": "code",
   "execution_count": 12,
   "metadata": {},
   "outputs": [
    {
     "name": "stdout",
     "output_type": "stream",
     "text": [
      "Reading file ['./data/date_data/20180806.pkl', './data/date_data/20180807.pkl', './data/date_data/20180808.pkl', './data/date_data/20180809.pkl', './data/date_data/20180810.pkl', './data/date_data/20180813.pkl', './data/date_data/20180814.pkl', './data/date_data/20180815.pkl', './data/date_data/20180816.pkl', './data/date_data/20180817.pkl', './data/date_data/20180820.pkl', './data/date_data/20180821.pkl', './data/date_data/20180822.pkl', './data/date_data/20180823.pkl', './data/date_data/20180824.pkl']\n",
      "Reading file ./data/date_data/20180827.pkl\n",
      "------------------------------------------------------------\n",
      "Training phrase 1...\n",
      "Training on ['20180806.pkl', '20180807.pkl', '20180808.pkl', '20180809.pkl', '20180810.pkl', '20180813.pkl', '20180814.pkl', '20180815.pkl', '20180816.pkl', '20180817.pkl', '20180820.pkl', '20180821.pkl', '20180822.pkl', '20180823.pkl', '20180824.pkl']\n",
      "Validating on 20180827.pkl\n",
      "Corrcoef on training set: 0.048220324470507225\n",
      "Corrcoef on validation set: 0.0013469468000415485\n",
      "[-56.79677291947674, 0.13346319614995705, 46.06294760515565, 134.03746576019293, -61.00715649318791, -42.81431144614244, 48.24554577025476, 15.004822440518646, 16.267942477152435]\n",
      "{   'R_square': -0.019025117136950875,\n",
      "    'stats':                 Feature          Coef     T-value\n",
      "0          buy_volume_1 -3.293600e-04  -56.796773\n",
      "1          buy_volume_5  7.359116e-07    0.133463\n",
      "2         buy_volume_15  2.480738e-04   46.062948\n",
      "3         sell_volume_1  7.844172e-04  134.037466\n",
      "4         sell_volume_5 -3.531908e-04  -61.007156\n",
      "5        sell_volume_15 -2.413146e-04  -42.814311\n",
      "6   proportion_volume_1  8.207891e-04   48.245546\n",
      "7   proportion_volume_5  3.538465e-04   15.004822\n",
      "8  proportion_volume_15  4.657374e-04   16.267942}\n",
      "------------------------------------------------------------\n",
      "\n",
      "Reading file ./data/date_data/20180828.pkl\n",
      "------------------------------------------------------------\n",
      "Training phrase 2...\n",
      "Training on ['20180807.pkl', '20180808.pkl', '20180809.pkl', '20180810.pkl', '20180813.pkl', '20180814.pkl', '20180815.pkl', '20180816.pkl', '20180817.pkl', '20180820.pkl', '20180821.pkl', '20180822.pkl', '20180823.pkl', '20180824.pkl', '20180827.pkl']\n",
      "Validating on 20180828.pkl\n",
      "Corrcoef on training set: 0.03239399855452565\n",
      "Corrcoef on validation set: 0.04524496890154446\n",
      "[-72.18843886362396, 3.1011875824260726, 69.44352135904818, 156.10104977942532, -78.69340821033293, -62.77949121374257, 43.07515037519181, 7.406285324219463, -34.82038078771987]\n",
      "{   'R_square': -0.0006836418283948653,\n",
      "    'stats':                 Feature      Coef     T-value\n",
      "0          buy_volume_1 -0.000287  -72.188439\n",
      "1          buy_volume_5  0.000012    3.101188\n",
      "2         buy_volume_15  0.000263   69.443521\n",
      "3         sell_volume_1  0.000747  156.101050\n",
      "4         sell_volume_5 -0.000373  -78.693408\n",
      "5        sell_volume_15 -0.000300  -62.779491\n",
      "6   proportion_volume_1  0.000753   43.075150\n",
      "7   proportion_volume_5  0.000182    7.406285\n",
      "8  proportion_volume_15 -0.001009  -34.820381}\n",
      "------------------------------------------------------------\n",
      "\n",
      "Reading file ./data/date_data/20180829.pkl\n",
      "------------------------------------------------------------\n",
      "Training phrase 3...\n",
      "Training on ['20180808.pkl', '20180809.pkl', '20180810.pkl', '20180813.pkl', '20180814.pkl', '20180815.pkl', '20180816.pkl', '20180817.pkl', '20180820.pkl', '20180821.pkl', '20180822.pkl', '20180823.pkl', '20180824.pkl', '20180827.pkl', '20180828.pkl']\n",
      "Validating on 20180829.pkl\n",
      "Corrcoef on training set: 0.031947700952584146\n",
      "Corrcoef on validation set: 0.05811533986483486\n",
      "[-56.60530006565217, 15.006221709515323, 39.08007860746432, 165.6167125250899, -80.63766516342429, -65.50056417959838, 39.2225980851931, 11.469617892840407, -34.93572548171683]\n",
      "{   'R_square': 0.0013589979505356231,\n",
      "    'stats':                 Feature      Coef     T-value\n",
      "0          buy_volume_1 -0.000282  -56.605300\n",
      "1          buy_volume_5  0.000075   15.006222\n",
      "2         buy_volume_15  0.000192   39.080079\n",
      "3         sell_volume_1  0.000730  165.616713\n",
      "4         sell_volume_5 -0.000356  -80.637665\n",
      "5        sell_volume_15 -0.000296  -65.500564\n",
      "6   proportion_volume_1  0.000689   39.222598\n",
      "7   proportion_volume_5  0.000274   11.469618\n",
      "8  proportion_volume_15 -0.000971  -34.935725}\n",
      "------------------------------------------------------------\n",
      "\n"
     ]
    }
   ],
   "source": [
    "model = Model(\n",
    "    X=_X_2, y=_Y_2, model=_MODEL_RIDGE, params=_PARAMS_RIDGE, output_model_name = './output/models/models_y2_x2',\n",
    "    data_files=data_train, columns_to_normalize=_COLUMNS_TO_NORMALIZE,\n",
    "    window_size=_SLIDING_WINDOW_SIZE, days_as_window=True\n",
    ")\n",
    "stats, corrcoef = model.run()"
   ]
  },
  {
   "cell_type": "markdown",
   "metadata": {},
   "source": [
    "## Validate model on test set"
   ]
  },
  {
   "cell_type": "code",
   "execution_count": null,
   "metadata": {},
   "outputs": [],
   "source": [
    "with open(_OUTPUT_DIR + 'model_x2_y2.pickle', 'rb') as file:\n",
    "    model_x2_y1 = pickle.load(file)"
   ]
  },
  {
   "cell_type": "code",
   "execution_count": 13,
   "metadata": {},
   "outputs": [
    {
     "name": "stdout",
     "output_type": "stream",
     "text": [
      "Reading file ./data/date_data/20180830.pkl\n",
      "[-49.15059430501186, 13.299945987618017, 33.548365493011126, 184.31622324365944, -93.06683947011118, -79.12563162693729, 39.23661981969996, 11.464494419700898, -34.85079943383979]\n",
      "{   'R_square': -0.006776926971935993,\n",
      "    'stats':                 Feature      Coef     T-value\n",
      "0          buy_volume_1 -0.000282  -49.150594\n",
      "1          buy_volume_5  0.000075   13.299946\n",
      "2         buy_volume_15  0.000192   33.548365\n",
      "3         sell_volume_1  0.000730  184.316223\n",
      "4         sell_volume_5 -0.000356  -93.066839\n",
      "5        sell_volume_15 -0.000296  -79.125632\n",
      "6   proportion_volume_1  0.000689   39.236620\n",
      "7   proportion_volume_5  0.000274   11.464494\n",
      "8  proportion_volume_15 -0.000971  -34.850799}\n",
      "Reading file ./data/date_data/20180831.pkl\n",
      "[-51.027187573155594, 13.949751842221241, 37.119606479374745, 141.03427726533846, -69.32159522834947, -57.92526135579795, 34.52109750702231, 9.85658396855287, -29.350988983663836]\n",
      "{   'R_square': 0.0012886483434143559,\n",
      "    'stats':                 Feature      Coef     T-value\n",
      "0          buy_volume_1 -0.000282  -51.027188\n",
      "1          buy_volume_5  0.000075   13.949752\n",
      "2         buy_volume_15  0.000192   37.119606\n",
      "3         sell_volume_1  0.000730  141.034277\n",
      "4         sell_volume_5 -0.000356  -69.321595\n",
      "5        sell_volume_15 -0.000296  -57.925261\n",
      "6   proportion_volume_1  0.000689   34.521098\n",
      "7   proportion_volume_5  0.000274    9.856584\n",
      "8  proportion_volume_15 -0.000971  -29.350989}\n"
     ]
    }
   ],
   "source": [
    "result = model.test(data_test)"
   ]
  },
  {
   "cell_type": "markdown",
   "metadata": {},
   "source": [
    "## Train model with x3 (lag return)"
   ]
  },
  {
   "cell_type": "code",
   "execution_count": 14,
   "metadata": {},
   "outputs": [
    {
     "name": "stdout",
     "output_type": "stream",
     "text": [
      "Reading file ['./data/date_data/20180806.pkl', './data/date_data/20180807.pkl', './data/date_data/20180808.pkl', './data/date_data/20180809.pkl', './data/date_data/20180810.pkl', './data/date_data/20180813.pkl', './data/date_data/20180814.pkl', './data/date_data/20180815.pkl', './data/date_data/20180816.pkl', './data/date_data/20180817.pkl', './data/date_data/20180820.pkl', './data/date_data/20180821.pkl', './data/date_data/20180822.pkl', './data/date_data/20180823.pkl', './data/date_data/20180824.pkl']\n",
      "Reading file ./data/date_data/20180827.pkl\n",
      "------------------------------------------------------------\n",
      "Training phrase 1...\n",
      "Training on ['20180806.pkl', '20180807.pkl', '20180808.pkl', '20180809.pkl', '20180810.pkl', '20180813.pkl', '20180814.pkl', '20180815.pkl', '20180816.pkl', '20180817.pkl', '20180820.pkl', '20180821.pkl', '20180822.pkl', '20180823.pkl', '20180824.pkl']\n",
      "Validating on 20180827.pkl\n",
      "Corrcoef on training set: 0.1581498928577902\n",
      "Corrcoef on validation set: 0.20553911934982919\n",
      "[-195.28403738725655, -67.01377457278507, 13.098519575378473]\n",
      "{   'R_square': 0.02298418538055269,\n",
      "    'stats':          Feature      Coef     T-value\n",
      "0   lag_return_1 -0.230148 -195.284037\n",
      "1   lag_return_5 -0.047079  -67.013775\n",
      "2  lag_return_15  0.004879   13.098520}\n",
      "------------------------------------------------------------\n",
      "\n",
      "Reading file ./data/date_data/20180828.pkl\n",
      "------------------------------------------------------------\n",
      "Training phrase 2...\n",
      "Training on ['20180807.pkl', '20180808.pkl', '20180809.pkl', '20180810.pkl', '20180813.pkl', '20180814.pkl', '20180815.pkl', '20180816.pkl', '20180817.pkl', '20180820.pkl', '20180821.pkl', '20180822.pkl', '20180823.pkl', '20180824.pkl', '20180827.pkl']\n",
      "Validating on 20180828.pkl\n",
      "Corrcoef on training set: 0.1596325625808777\n",
      "Corrcoef on validation set: 0.20829306153427032\n",
      "[-197.05902085511255, -70.09082463059647, 5.585289932488472]\n",
      "{   'R_square': 0.03857783025036343,\n",
      "    'stats':          Feature      Coef     T-value\n",
      "0   lag_return_1 -0.226849 -197.059021\n",
      "1   lag_return_5 -0.049266  -70.090825\n",
      "2  lag_return_15  0.002261    5.585290}\n",
      "------------------------------------------------------------\n",
      "\n",
      "Reading file ./data/date_data/20180829.pkl\n",
      "------------------------------------------------------------\n",
      "Training phrase 3...\n",
      "Training on ['20180808.pkl', '20180809.pkl', '20180810.pkl', '20180813.pkl', '20180814.pkl', '20180815.pkl', '20180816.pkl', '20180817.pkl', '20180820.pkl', '20180821.pkl', '20180822.pkl', '20180823.pkl', '20180824.pkl', '20180827.pkl', '20180828.pkl']\n",
      "Validating on 20180829.pkl\n",
      "Corrcoef on training set: 0.16528629441066342\n",
      "Corrcoef on validation set: 0.19632640764677145\n",
      "[-203.47145368245938, -71.00530729014767, -0.8829241376925862]\n",
      "{   'R_square': 0.03553415880700461,\n",
      "    'stats':          Feature      Coef     T-value\n",
      "0   lag_return_1 -0.231504 -203.471454\n",
      "1   lag_return_5 -0.049897  -71.005307\n",
      "2  lag_return_15 -0.000389   -0.882924}\n",
      "------------------------------------------------------------\n",
      "\n"
     ]
    }
   ],
   "source": [
    "model = Model(\n",
    "    X=_X_3, y=_Y_2, model=_MODEL_RIDGE, params=_PARAMS_RIDGE, output_model_name = './output/models/models_y2_x3',\n",
    "    data_files=data_train, columns_to_normalize=_COLUMNS_TO_NORMALIZE,\n",
    "    window_size=_SLIDING_WINDOW_SIZE, days_as_window=True\n",
    ")\n",
    "stats, corrcoef = model.run()"
   ]
  },
  {
   "cell_type": "markdown",
   "metadata": {},
   "source": [
    "## Validate model on test set"
   ]
  },
  {
   "cell_type": "code",
   "execution_count": null,
   "metadata": {},
   "outputs": [],
   "source": [
    "with open(_OUTPUT_DIR + 'model_x3_y2.pickle', 'rb') as file:\n",
    "    model_x2_y1 = pickle.load(file)"
   ]
  },
  {
   "cell_type": "code",
   "execution_count": 15,
   "metadata": {},
   "outputs": [
    {
     "name": "stdout",
     "output_type": "stream",
     "text": [
      "Reading file ./data/date_data/20180830.pkl\n",
      "[-204.44959292818288, -70.87660459016698, -1.0096021183399433]\n",
      "{   'R_square': 0.03491731787460384,\n",
      "    'stats':          Feature      Coef     T-value\n",
      "0   lag_return_1 -0.231504 -204.449593\n",
      "1   lag_return_5 -0.049897  -70.876605\n",
      "2  lag_return_15 -0.000389   -1.009602}\n",
      "Reading file ./data/date_data/20180831.pkl\n",
      "[-197.50519836254094, -70.48339405743833, -1.3343840068206565]\n",
      "{   'R_square': 0.042043609602636534,\n",
      "    'stats':          Feature      Coef     T-value\n",
      "0   lag_return_1 -0.231504 -197.505198\n",
      "1   lag_return_5 -0.049897  -70.483394\n",
      "2  lag_return_15 -0.000389   -1.334384}\n"
     ]
    }
   ],
   "source": [
    "result = model.test(data_test)"
   ]
  }
 ],
 "metadata": {
  "kernelspec": {
   "display_name": "Python 3",
   "language": "python",
   "name": "python3"
  },
  "language_info": {
   "codemirror_mode": {
    "name": "ipython",
    "version": 3
   },
   "file_extension": ".py",
   "mimetype": "text/x-python",
   "name": "python",
   "nbconvert_exporter": "python",
   "pygments_lexer": "ipython3",
   "version": "3.6.8"
  }
 },
 "nbformat": 4,
 "nbformat_minor": 2
}
